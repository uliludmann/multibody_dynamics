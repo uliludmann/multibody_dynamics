{
 "cells": [
  {
   "cell_type": "code",
   "execution_count": 234,
   "metadata": {
    "collapsed": true
   },
   "outputs": [],
   "source": [
    "from sympy import *\n",
    "from sympy.physics.mechanics import *"
   ]
  },
  {
   "cell_type": "code",
   "execution_count": 235,
   "metadata": {
    "collapsed": true
   },
   "outputs": [],
   "source": [
    "t = Symbol('t')"
   ]
  },
  {
   "cell_type": "code",
   "execution_count": 236,
   "metadata": {
    "collapsed": false
   },
   "outputs": [],
   "source": [
    "x1, x2, y1, y2 = dynamicsymbols('x1, x2, y1, y2')"
   ]
  },
  {
   "cell_type": "code",
   "execution_count": 237,
   "metadata": {
    "collapsed": false
   },
   "outputs": [],
   "source": [
    "x1d, x2d, y1d, y2d = dynamicsymbols('x1, x2, y1, y2', 1)"
   ]
  },
  {
   "cell_type": "code",
   "execution_count": 238,
   "metadata": {
    "collapsed": false
   },
   "outputs": [],
   "source": [
    "q1, q2 = dynamicsymbols('q1, q2')"
   ]
  },
  {
   "cell_type": "code",
   "execution_count": 239,
   "metadata": {
    "collapsed": true
   },
   "outputs": [],
   "source": [
    "l1, l2 = symbols('l1, l2')"
   ]
  },
  {
   "cell_type": "code",
   "execution_count": 284,
   "metadata": {
    "collapsed": true
   },
   "outputs": [],
   "source": [
    "m1, m2 = symbols('m1, m2')"
   ]
  },
  {
   "cell_type": "code",
   "execution_count": 240,
   "metadata": {
    "collapsed": false
   },
   "outputs": [],
   "source": [
    "positions = {x1: l1 * sin(q1),\n",
    "y1: l1 * cos(q1),\n",
    "x2: l1 * sin(q1) + l2 * sin(q2),\n",
    "y2: l1 * cos(q1) + l2 * cos(q2)}"
   ]
  },
  {
   "cell_type": "code",
   "execution_count": 241,
   "metadata": {
    "collapsed": false
   },
   "outputs": [
    {
     "data": {
      "image/png": "[encoded data removed]",
      "text/latex": [
       "$$l_{1} \\operatorname{cos}\\left(q_{1}\\right) \\dot{q}_{1}$$"
      ],
      "text/plain": [
       "∂             \n",
       "──(l₁⋅sin(q₁))\n",
       "∂t            "
      ]
     },
     "execution_count": 241,
     "metadata": {},
     "output_type": "execute_result"
    }
   ],
   "source": [
    "x1d = Derivative(positions[x1], Symbol('t'))\n",
    "x1d"
   ]
  },
  {
   "cell_type": "code",
   "execution_count": 280,
   "metadata": {
    "collapsed": false
   },
   "outputs": [
    {
     "data": {
      "image/png": "[encoded data removed]",
      "text/latex": [
       "$$l_{1} \\operatorname{cos}\\left(q_{1}\\right) \\dot{q}_{1} + l_{2} \\operatorname{cos}\\left(q_{2}\\right) \\dot{q}_{2}$$"
      ],
      "text/plain": [
       "l₁⋅cos(q₁)⋅q₁̇ + l₂⋅cos(q₂)⋅q₂̇"
      ]
     },
     "execution_count": 280,
     "metadata": {},
     "output_type": "execute_result"
    }
   ],
   "source": [
    "x2d = diff(positions[x2], Symbol('t'))\n",
    "x2d"
   ]
  },
  {
   "cell_type": "code",
   "execution_count": 282,
   "metadata": {
    "collapsed": false
   },
   "outputs": [
    {
     "data": {
      "image/png": "[encoded data removed]",
      "text/latex": [
       "$$- l_{1} \\operatorname{sin}\\left(q_{1}\\right) \\dot{q}_{1}$$"
      ],
      "text/plain": [
       "-l₁⋅sin(q₁)⋅q₁̇"
      ]
     },
     "execution_count": 282,
     "metadata": {},
     "output_type": "execute_result"
    }
   ],
   "source": [
    "y1d = diff(positions[y1], Symbol('t'))\n",
    "y1d"
   ]
  },
  {
   "cell_type": "code",
   "execution_count": 283,
   "metadata": {
    "collapsed": false
   },
   "outputs": [
    {
     "data": {
      "image/png": "[encoded data removed]",
      "text/latex": [
       "$$- l_{1} \\operatorname{sin}\\left(q_{1}\\right) \\dot{q}_{1} - l_{2} \\operatorname{sin}\\left(q_{2}\\right) \\dot{q}_{2}$$"
      ],
      "text/plain": [
       "-l₁⋅sin(q₁)⋅q₁̇ - l₂⋅sin(q₂)⋅q₂̇"
      ]
     },
     "execution_count": 283,
     "metadata": {},
     "output_type": "execute_result"
    }
   ],
   "source": [
    "y2d = diff(positions[y2], Symbol('t'))\n",
    "y2d"
   ]
  },
  {
   "cell_type": "code",
   "execution_count": 285,
   "metadata": {
    "collapsed": false
   },
   "outputs": [],
   "source": [
    "T = 1/2 * m1 * (x1d**2 + y1d**2) + 1/2 * m2 * (x2d**2 + y2d**2)"
   ]
  },
  {
   "cell_type": "code",
   "execution_count": 286,
   "metadata": {
    "collapsed": false
   },
   "outputs": [
    {
     "data": {
      "text/latex": [
       "$$0.5 m_{1} \\left(l_{1}^{2} \\operatorname{sin}^{2}\\left(q_{1}\\right) \\dot{q}_{1}^{2} + l_{1} \\operatorname{cos}\\left(q_{1}\\right) \\dot{q}_{1}^{2}\\right) + 0.5 m_{2} \\left(\\left(- l_{1} \\operatorname{sin}\\left(q_{1}\\right) \\dot{q}_{1} - l_{2} \\operatorname{sin}\\left(q_{2}\\right) \\dot{q}_{2}\\right)^{2} + \\left(l_{1} \\operatorname{cos}\\left(q_{1}\\right) \\dot{q}_{1} + l_{2} \\operatorname{cos}\\left(q_{2}\\right) \\dot{q}_{2}\\right)^{2}\\right)$$"
      ],
      "text/plain": [
       "       ⎛                                    2⎞                                \n",
       "       ⎜  2    2        2   ⎛∂             ⎞ ⎟          ⎛                     \n",
       "0.5⋅m₁⋅⎜l₁ ⋅sin (q₁)⋅q₁̇  + ⎜──(l₁⋅sin(q₁))⎟ ⎟ + 0.5⋅m₂⋅⎝(-l₁⋅sin(q₁)⋅q₁̇ - l₂\n",
       "       ⎝                    ⎝∂t            ⎠ ⎠                                \n",
       "\n",
       "                                                    \n",
       "             2                                    2⎞\n",
       "⋅sin(q₂)⋅q₂̇)  + (l₁⋅cos(q₁)⋅q₁̇ + l₂⋅cos(q₂)⋅q₂̇) ⎠\n",
       "                                                    "
      ]
     },
     "execution_count": 286,
     "metadata": {},
     "output_type": "execute_result"
    }
   ],
   "source": [
    "T"
   ]
  },
  {
   "cell_type": "code",
   "execution_count": 287,
   "metadata": {
    "collapsed": true
   },
   "outputs": [],
   "source": [
    "mechanics_printing()"
   ]
  },
  {
   "cell_type": "code",
   "execution_count": 293,
   "metadata": {
    "collapsed": false
   },
   "outputs": [
    {
     "data": {
      "text/latex": [
       "$$0.5 m_{1} \\left(l_{1}^{2} \\operatorname{sin}^{2}\\left(q_{1}\\right) \\dot{q}_{1}^{2} + l_{1} \\operatorname{cos}\\left(q_{1}\\right) \\dot{q}_{1}^{2}\\right) + 0.5 m_{2} \\left(\\left(- l_{1} \\operatorname{sin}\\left(q_{1}\\right) \\dot{q}_{1} - l_{2} \\operatorname{sin}\\left(q_{2}\\right) \\dot{q}_{2}\\right)^{2} + \\left(l_{1} \\operatorname{cos}\\left(q_{1}\\right) \\dot{q}_{1} + l_{2} \\operatorname{cos}\\left(q_{2}\\right) \\dot{q}_{2}\\right)^{2}\\right)$$"
      ],
      "text/plain": [
       "       ⎛                                    2⎞                                \n",
       "       ⎜  2    2        2   ⎛∂             ⎞ ⎟          ⎛                     \n",
       "0.5⋅m₁⋅⎜l₁ ⋅sin (q₁)⋅q₁̇  + ⎜──(l₁⋅sin(q₁))⎟ ⎟ + 0.5⋅m₂⋅⎝(-l₁⋅sin(q₁)⋅q₁̇ - l₂\n",
       "       ⎝                    ⎝∂t            ⎠ ⎠                                \n",
       "\n",
       "                                                    \n",
       "             2                                    2⎞\n",
       "⋅sin(q₂)⋅q₂̇)  + (l₁⋅cos(q₁)⋅q₁̇ + l₂⋅cos(q₂)⋅q₂̇) ⎠\n",
       "                                                    "
      ]
     },
     "execution_count": 293,
     "metadata": {},
     "output_type": "execute_result"
    }
   ],
   "source": [
    "T"
   ]
  },
  {
   "cell_type": "code",
   "execution_count": 298,
   "metadata": {
    "collapsed": false
   },
   "outputs": [
    {
     "data": {
      "image/png": "[encoded data removed]",
      "text/latex": [
       "$$0.5 m_{1} \\left(2 l_{1}^{2} \\operatorname{sin}^{2}\\left(q_{1}\\right) \\dot{q}_{1} + 2 l_{1}^{2} \\operatorname{cos}^{2}\\left(q_{1}\\right) \\dot{q}_{1}\\right) + 0.5 m_{2} \\left(- 2 l_{1} \\left(- l_{1} \\operatorname{sin}\\left(q_{1}\\right) \\dot{q}_{1} - l_{2} \\operatorname{sin}\\left(q_{2}\\right) \\dot{q}_{2}\\right) \\operatorname{sin}\\left(q_{1}\\right) + 2 l_{1} \\left(l_{1} \\operatorname{cos}\\left(q_{1}\\right) \\dot{q}_{1} + l_{2} \\operatorname{cos}\\left(q_{2}\\right) \\dot{q}_{2}\\right) \\operatorname{cos}\\left(q_{1}\\right)\\right)$$"
      ],
      "text/plain": [
       "    ⎛       ⎛                                    2⎞                           \n",
       " ∂  ⎜       ⎜  2    2        2   ⎛∂             ⎞ ⎟          ⎛                \n",
       "────⎜0.5⋅m₁⋅⎜l₁ ⋅sin (q₁)⋅q₁̇  + ⎜──(l₁⋅sin(q₁))⎟ ⎟ + 0.5⋅m₂⋅⎝(-l₁⋅sin(q₁)⋅q₁̇\n",
       "∂q₁̇⎝       ⎝                    ⎝∂t            ⎠ ⎠                           \n",
       "\n",
       "                                                         ⎞\n",
       "                  2                                    2⎞⎟\n",
       " - l₂⋅sin(q₂)⋅q₂̇)  + (l₁⋅cos(q₁)⋅q₁̇ + l₂⋅cos(q₂)⋅q₂̇) ⎠⎟\n",
       "                                                         ⎠"
      ]
     },
     "execution_count": 298,
     "metadata": {},
     "output_type": "execute_result"
    }
   ],
   "source": [
    "Derivative(T, q1d)"
   ]
  },
  {
   "cell_type": "code",
   "execution_count": 301,
   "metadata": {
    "collapsed": false
   },
   "outputs": [
    {
     "data": {
      "image/png": "[encoded data removed]",
      "text/latex": [
       "$$0.5 m_{1} \\left(2 l_{1}^{2} \\operatorname{sin}^{2}\\left(q_{1}\\right) \\ddot{q}_{1} + 6 l_{1}^{2} \\operatorname{sin}\\left(q_{1}\\right) \\operatorname{cos}\\left(q_{1}\\right) \\dot{q}_{1}^{2}\\right) + 0.5 m_{2} \\left(- 4 l_{1} \\left(- l_{1} \\operatorname{sin}\\left(q_{1}\\right) \\dot{q}_{1} - l_{2} \\operatorname{sin}\\left(q_{2}\\right) \\dot{q}_{2}\\right) \\operatorname{cos}\\left(q_{1}\\right) \\dot{q}_{1} - 4 l_{1} \\left(l_{1} \\operatorname{cos}\\left(q_{1}\\right) \\dot{q}_{1} + l_{2} \\operatorname{cos}\\left(q_{2}\\right) \\dot{q}_{2}\\right) \\operatorname{sin}\\left(q_{1}\\right) \\dot{q}_{1} + l_{1} \\left(- 2 l_{1} \\operatorname{sin}\\left(q_{1}\\right) \\dot{q}_{1}^{2} + 2 l_{1} \\operatorname{cos}\\left(q_{1}\\right) \\ddot{q}_{1} - 2 l_{2} \\operatorname{sin}\\left(q_{2}\\right) \\dot{q}_{2}^{2} + 2 l_{2} \\operatorname{cos}\\left(q_{2}\\right) \\ddot{q}_{2}\\right) \\operatorname{cos}\\left(q_{1}\\right) - l_{1} \\left(- 2 l_{1} \\operatorname{sin}\\left(q_{1}\\right) \\ddot{q}_{1} - 2 l_{1} \\operatorname{cos}\\left(q_{1}\\right) \\dot{q}_{1}^{2} - 2 l_{2} \\operatorname{sin}\\left(q_{2}\\right) \\ddot{q}_{2} - 2 l_{2} \\operatorname{cos}\\left(q_{2}\\right) \\dot{q}_{2}^{2}\\right) \\operatorname{sin}\\left(q_{1}\\right)\\right)$$"
      ],
      "text/plain": [
       "       ⎛    2    2               2                    2⎞          ⎛           \n",
       "0.5⋅m₁⋅⎝2⋅l₁ ⋅sin (q₁)⋅q₁̈ + 6⋅l₁ ⋅sin(q₁)⋅cos(q₁)⋅q₁̇ ⎠ + 0.5⋅m₂⋅⎝-4⋅l₁⋅(-l₁⋅\n",
       "\n",
       "                                                                              \n",
       "sin(q₁)⋅q₁̇ - l₂⋅sin(q₂)⋅q₂̇)⋅cos(q₁)⋅q₁̇ - 4⋅l₁⋅(l₁⋅cos(q₁)⋅q₁̇ + l₂⋅cos(q₂)⋅\n",
       "\n",
       "                      ⎛                  2                                    \n",
       "q₂̇)⋅sin(q₁)⋅q₁̇ + l₁⋅⎝- 2⋅l₁⋅sin(q₁)⋅q₁̇  + 2⋅l₁⋅cos(q₁)⋅q₁̈ - 2⋅l₂⋅sin(q₂)⋅q\n",
       "\n",
       "  2                   ⎞              ⎛                                    2   \n",
       "₂̇  + 2⋅l₂⋅cos(q₂)⋅q₂̈⎠⋅cos(q₁) - l₁⋅⎝-2⋅l₁⋅sin(q₁)⋅q₁̈ - 2⋅l₁⋅cos(q₁)⋅q₁̇  - \n",
       "\n",
       "                                   2⎞        ⎞\n",
       "2⋅l₂⋅sin(q₂)⋅q₂̈ - 2⋅l₂⋅cos(q₂)⋅q₂̇ ⎠⋅sin(q₁)⎠"
      ]
     },
     "execution_count": 301,
     "metadata": {},
     "output_type": "execute_result"
    }
   ],
   "source": [
    "Derivative((Derivative(T, q1d)), Symbol('t'))"
   ]
  },
  {
   "cell_type": "code",
   "execution_count": 296,
   "metadata": {
    "collapsed": false
   },
   "outputs": [
    {
     "data": {
      "image/png": "[encoded data removed]",
      "text/latex": [
       "$$0.5 m_{2} \\left(- 4 l_{2} \\left(- l_{1} \\operatorname{sin}\\left(q_{1}\\right) \\dot{q}_{1} - l_{2} \\operatorname{sin}\\left(q_{2}\\right) \\dot{q}_{2}\\right) \\operatorname{cos}\\left(q_{2}\\right) \\dot{q}_{2} - 4 l_{2} \\left(l_{1} \\operatorname{cos}\\left(q_{1}\\right) \\dot{q}_{1} + l_{2} \\operatorname{cos}\\left(q_{2}\\right) \\dot{q}_{2}\\right) \\operatorname{sin}\\left(q_{2}\\right) \\dot{q}_{2} + l_{2} \\left(- 2 l_{1} \\operatorname{sin}\\left(q_{1}\\right) \\dot{q}_{1}^{2} + 2 l_{1} \\operatorname{cos}\\left(q_{1}\\right) \\ddot{q}_{1} - 2 l_{2} \\operatorname{sin}\\left(q_{2}\\right) \\dot{q}_{2}^{2} + 2 l_{2} \\operatorname{cos}\\left(q_{2}\\right) \\ddot{q}_{2}\\right) \\operatorname{cos}\\left(q_{2}\\right) - l_{2} \\left(- 2 l_{1} \\operatorname{sin}\\left(q_{1}\\right) \\ddot{q}_{1} - 2 l_{1} \\operatorname{cos}\\left(q_{1}\\right) \\dot{q}_{1}^{2} - 2 l_{2} \\operatorname{sin}\\left(q_{2}\\right) \\ddot{q}_{2} - 2 l_{2} \\operatorname{cos}\\left(q_{2}\\right) \\dot{q}_{2}^{2}\\right) \\operatorname{sin}\\left(q_{2}\\right)\\right)$$"
      ],
      "text/plain": [
       "       ⎛                                                                      \n",
       "0.5⋅m₂⋅⎝-4⋅l₂⋅(-l₁⋅sin(q₁)⋅q₁̇ - l₂⋅sin(q₂)⋅q₂̇)⋅cos(q₂)⋅q₂̇ - 4⋅l₂⋅(l₁⋅cos(q₁\n",
       "\n",
       "                                         ⎛                  2                 \n",
       ")⋅q₁̇ + l₂⋅cos(q₂)⋅q₂̇)⋅sin(q₂)⋅q₂̇ + l₂⋅⎝- 2⋅l₁⋅sin(q₁)⋅q₁̇  + 2⋅l₁⋅cos(q₁)⋅q\n",
       "\n",
       "                     2                   ⎞              ⎛                     \n",
       "₁̈ - 2⋅l₂⋅sin(q₂)⋅q₂̇  + 2⋅l₂⋅cos(q₂)⋅q₂̈⎠⋅cos(q₂) - l₂⋅⎝-2⋅l₁⋅sin(q₁)⋅q₁̈ - 2\n",
       "\n",
       "               2                                      2⎞        ⎞\n",
       "⋅l₁⋅cos(q₁)⋅q₁̇  - 2⋅l₂⋅sin(q₂)⋅q₂̈ - 2⋅l₂⋅cos(q₂)⋅q₂̇ ⎠⋅sin(q₂)⎠"
      ]
     },
     "execution_count": 296,
     "metadata": {},
     "output_type": "execute_result"
    }
   ],
   "source": [
    "Derivative(Derivative(T, q2d), Symbol('t'))"
   ]
  },
  {
   "cell_type": "code",
   "execution_count": 306,
   "metadata": {
    "collapsed": false
   },
   "outputs": [],
   "source": [
    "V = m1 * g * l1 * (1-cos(q1)) + m2 * g * (l1*(1-cos(q1)) + l2 * (1-cos(q2)))"
   ]
  },
  {
   "cell_type": "code",
   "execution_count": 307,
   "metadata": {
    "collapsed": false
   },
   "outputs": [
    {
     "data": {
      "image/png": "[encoded data removed]",
      "text/latex": [
       "$$g l_{1} m_{1} \\operatorname{sin}\\left(q_{1}\\right) + g l_{1} m_{2} \\operatorname{sin}\\left(q_{1}\\right)$$"
      ],
      "text/plain": [
       " ∂                                                                        \n",
       "───(g⋅l₁⋅m₁⋅(-cos(q₁) + 1) + g⋅m₂⋅(l₁⋅(-cos(q₁) + 1) + l₂⋅(-cos(q₂) + 1)))\n",
       "∂q₁                                                                       "
      ]
     },
     "execution_count": 307,
     "metadata": {},
     "output_type": "execute_result"
    }
   ],
   "source": [
    "Derivative(V, q1)"
   ]
  },
  {
   "cell_type": "code",
   "execution_count": 308,
   "metadata": {
    "collapsed": false
   },
   "outputs": [
    {
     "data": {
      "image/png": "[encoded data removed]",
      "text/latex": [
       "$$g l_{2} m_{2} \\operatorname{sin}\\left(q_{2}\\right)$$"
      ],
      "text/plain": [
       "g⋅l₂⋅m₂⋅sin(q₂)"
      ]
     },
     "execution_count": 308,
     "metadata": {},
     "output_type": "execute_result"
    }
   ],
   "source": [
    "diff(V, q2)"
   ]
  },
  {
   "cell_type": "code",
   "execution_count": 310,
   "metadata": {
    "collapsed": true
   },
   "outputs": [],
   "source": [
    "q100 = Derivative((Derivative(T, q1d)), Symbol('t')) - Derivative(T, q1) - Derivative(V, q1)"
   ]
  },
  {
   "cell_type": "code",
   "execution_count": 320,
   "metadata": {
    "collapsed": false
   },
   "outputs": [
    {
     "data": {
      "image/png": "[encoded data removed]",
      "text/latex": [
       "$$\\frac{l_{1}^{2} m_{1}}{2} \\left(3 \\operatorname{sin}\\left(2 q_{1}\\right) \\dot{q}_{1}^{2} - \\operatorname{cos}\\left(2 q_{1}\\right) \\ddot{q}_{1} + \\ddot{q}_{1}\\right) + l_{1} m_{2} \\left(l_{1} \\ddot{q}_{1} - 2 l_{2} \\operatorname{sin}\\left(q_{1} - q_{2}\\right) \\dot{q}_{1} \\dot{q}_{2} + l_{2} \\operatorname{sin}\\left(q_{1} - q_{2}\\right) \\dot{q}_{2}^{2} + l_{2} \\operatorname{cos}\\left(q_{1} - q_{2}\\right) \\ddot{q}_{2}\\right) - - g \\left(- l_{1} m_{1} \\operatorname{sin}\\left(q_{1}\\right) - l_{1} m_{2} \\operatorname{sin}\\left(q_{1}\\right)\\right) - - 1.0 l_{1} l_{2} m_{2} \\operatorname{sin}\\left(q_{1} - q_{2}\\right) \\dot{q}_{1} \\dot{q}_{2} = 0$$"
      ],
      "text/plain": [
       "  2    ⎛               2                      ⎞                               \n",
       "l₁ ⋅m₁⋅⎝3⋅sin(2⋅q₁)⋅q₁̇  - cos(2⋅q₁)⋅q₁̈ + q₁̈⎠         ⎛                     \n",
       "─────────────────────────────────────────────── + l₁⋅m₂⋅⎝l₁⋅q₁̈ - 2⋅l₂⋅sin(q₁ \n",
       "                       2                                                      \n",
       "\n",
       "                                                                              \n",
       "                                   2                      ⎞    ∂              \n",
       "- q₂)⋅q₁̇⋅q₂̇ + l₂⋅sin(q₁ - q₂)⋅q₂̇  + l₂⋅cos(q₁ - q₂)⋅q₂̈⎠ - ───(-g⋅(l₁⋅m₁⋅(c\n",
       "                                                              ∂q₁             \n",
       "\n",
       "                                                              ⎛       ⎛       \n",
       "                                                            ∂ ⎜       ⎜  2    \n",
       "os(q₁) - 1) + m₂⋅(l₁⋅(cos(q₁) - 1) + l₂⋅(cos(q₂) - 1)))) - ───⎜0.5⋅m₁⋅⎜l₁ ⋅sin\n",
       "                                                           ∂q₁⎝       ⎝       \n",
       "\n",
       "                             2⎞                                               \n",
       "2        2   ⎛∂             ⎞ ⎟          ⎛  2    2                            \n",
       " (q₁)⋅q₁̇  + ⎜──(l₁⋅sin(q₁))⎟ ⎟ + 0.5⋅m₂⋅⎝l₁ ⋅q₁̇  + 2⋅l₁⋅l₂⋅cos(q₁ - q₂)⋅q₁̇⋅\n",
       "             ⎝∂t            ⎠ ⎠                                               \n",
       "\n",
       "               ⎞    \n",
       "        2    2⎞⎟    \n",
       "q₂̇ + l₂ ⋅q₂̇ ⎠⎟ = 0\n",
       "               ⎠    "
      ]
     },
     "execution_count": 320,
     "metadata": {},
     "output_type": "execute_result"
    }
   ],
   "source": [
    "Eq(simplify(q100), 0)"
   ]
  },
  {
   "cell_type": "code",
   "execution_count": 316,
   "metadata": {
    "collapsed": true
   },
   "outputs": [],
   "source": [
    "q200 = Derivative((Derivative(T, q2d)), Symbol('t')) - Derivative(T, q2) - Derivative(V, q2)"
   ]
  },
  {
   "cell_type": "code",
   "execution_count": 327,
   "metadata": {
    "collapsed": false
   },
   "outputs": [
    {
     "data": {
      "text/latex": [
       "$$0.5 m_{2} \\left(- 4 l_{2} \\left(- l_{1} \\operatorname{sin}\\left(q_{1}\\right) \\dot{q}_{1} - l_{2} \\operatorname{sin}\\left(q_{2}\\right) \\dot{q}_{2}\\right) \\operatorname{cos}\\left(q_{2}\\right) \\dot{q}_{2} - 4 l_{2} \\left(l_{1} \\operatorname{cos}\\left(q_{1}\\right) \\dot{q}_{1} + l_{2} \\operatorname{cos}\\left(q_{2}\\right) \\dot{q}_{2}\\right) \\operatorname{sin}\\left(q_{2}\\right) \\dot{q}_{2} + l_{2} \\left(- 2 l_{1} \\operatorname{sin}\\left(q_{1}\\right) \\dot{q}_{1}^{2} + 2 l_{1} \\operatorname{cos}\\left(q_{1}\\right) \\ddot{q}_{1} - 2 l_{2} \\operatorname{sin}\\left(q_{2}\\right) \\dot{q}_{2}^{2} + 2 l_{2} \\operatorname{cos}\\left(q_{2}\\right) \\ddot{q}_{2}\\right) \\operatorname{cos}\\left(q_{2}\\right) - l_{2} \\left(- 2 l_{1} \\operatorname{sin}\\left(q_{1}\\right) \\ddot{q}_{1} - 2 l_{1} \\operatorname{cos}\\left(q_{1}\\right) \\dot{q}_{1}^{2} - 2 l_{2} \\operatorname{sin}\\left(q_{2}\\right) \\ddot{q}_{2} - 2 l_{2} \\operatorname{cos}\\left(q_{2}\\right) \\dot{q}_{2}^{2}\\right) \\operatorname{sin}\\left(q_{2}\\right)\\right) - 0.5 m_{2} \\left(- 2 l_{2} \\left(- l_{1} \\operatorname{sin}\\left(q_{1}\\right) \\dot{q}_{1} - l_{2} \\operatorname{sin}\\left(q_{2}\\right) \\dot{q}_{2}\\right) \\operatorname{cos}\\left(q_{2}\\right) \\dot{q}_{2} - 2 l_{2} \\left(l_{1} \\operatorname{cos}\\left(q_{1}\\right) \\dot{q}_{1} + l_{2} \\operatorname{cos}\\left(q_{2}\\right) \\dot{q}_{2}\\right) \\operatorname{sin}\\left(q_{2}\\right) \\dot{q}_{2}\\right) - g l_{2} m_{2} \\operatorname{sin}\\left(q_{2}\\right)$$"
      ],
      "text/plain": [
       "                                                                              \n",
       "       ⎛                                                                      \n",
       "0.5⋅m₂⋅⎝-4⋅l₂⋅(-l₁⋅sin(q₁)⋅q₁̇ - l₂⋅sin(q₂)⋅q₂̇)⋅cos(q₂)⋅q₂̇ - 4⋅l₂⋅(l₁⋅cos(q₁\n",
       "                                                                              \n",
       "\n",
       "                                                                              \n",
       "                                         ⎛                  2                 \n",
       ")⋅q₁̇ + l₂⋅cos(q₂)⋅q₂̇)⋅sin(q₂)⋅q₂̇ + l₂⋅⎝- 2⋅l₁⋅sin(q₁)⋅q₁̇  + 2⋅l₁⋅cos(q₁)⋅q\n",
       "                                                                              \n",
       "\n",
       "                                                                              \n",
       "                     2                   ⎞              ⎛                     \n",
       "₁̈ - 2⋅l₂⋅sin(q₂)⋅q₂̇  + 2⋅l₂⋅cos(q₂)⋅q₂̈⎠⋅cos(q₂) - l₂⋅⎝-2⋅l₁⋅sin(q₁)⋅q₁̈ - 2\n",
       "                                                                              \n",
       "\n",
       "                                                                       ⎛      \n",
       "               2                                      2⎞        ⎞    ∂ ⎜      \n",
       "⋅l₁⋅cos(q₁)⋅q₁̇  - 2⋅l₂⋅sin(q₂)⋅q₂̈ - 2⋅l₂⋅cos(q₂)⋅q₂̇ ⎠⋅sin(q₂)⎠ - ───⎜0.5⋅m₁\n",
       "                                                                    ∂q₂⎝      \n",
       "\n",
       " ⎛                                    2⎞                                      \n",
       " ⎜  2    2        2   ⎛∂             ⎞ ⎟          ⎛                           \n",
       "⋅⎜l₁ ⋅sin (q₁)⋅q₁̇  + ⎜──(l₁⋅sin(q₁))⎟ ⎟ + 0.5⋅m₂⋅⎝(-l₁⋅sin(q₁)⋅q₁̇ - l₂⋅sin(q\n",
       " ⎝                    ⎝∂t            ⎠ ⎠                                      \n",
       "\n",
       "                                              ⎞                               \n",
       "       2                                    2⎞⎟    ∂                          \n",
       "₂)⋅q₂̇)  + (l₁⋅cos(q₁)⋅q₁̇ + l₂⋅cos(q₂)⋅q₂̇) ⎠⎟ - ───(g⋅l₁⋅m₁⋅(-cos(q₁) + 1) +\n",
       "                                              ⎠   ∂q₂                         \n",
       "\n",
       "                                              \n",
       "                                              \n",
       " g⋅m₂⋅(l₁⋅(-cos(q₁) + 1) + l₂⋅(-cos(q₂) + 1)))\n",
       "                                              "
      ]
     },
     "execution_count": 327,
     "metadata": {},
     "output_type": "execute_result"
    }
   ],
   "source": [
    "q200"
   ]
  },
  {
   "cell_type": "code",
   "execution_count": 319,
   "metadata": {
    "collapsed": false
   },
   "outputs": [
    {
     "data": {
      "image/png": "[encoded data removed]",
      "text/latex": [
       "$$l_{2} m_{2} \\left(- l_{1} \\operatorname{sin}\\left(q_{1} - q_{2}\\right) \\dot{q}_{1}^{2} + 2 l_{1} \\operatorname{sin}\\left(q_{1} - q_{2}\\right) \\dot{q}_{1} \\dot{q}_{2} + l_{1} \\operatorname{cos}\\left(q_{1} - q_{2}\\right) \\ddot{q}_{1} + l_{2} \\ddot{q}_{2}\\right) - g l_{2} m_{2} \\operatorname{sin}\\left(q_{2}\\right) - 1.0 l_{1} l_{2} m_{2} \\operatorname{sin}\\left(q_{1} - q_{2}\\right) \\dot{q}_{1} \\dot{q}_{2} = 0$$"
      ],
      "text/plain": [
       "                                                                              \n",
       "      ⎛                     2                                                 \n",
       "l₂⋅m₂⋅⎝- l₁⋅sin(q₁ - q₂)⋅q₁̇  + 2⋅l₁⋅sin(q₁ - q₂)⋅q₁̇⋅q₂̇ + l₁⋅cos(q₁ - q₂)⋅q₁\n",
       "                                                                              \n",
       "\n",
       "                                                                              \n",
       "          ⎞    ∂                                                              \n",
       "̈ + l₂⋅q₂̈⎠ - ───(-g⋅(l₁⋅m₁⋅(cos(q₁) - 1) + m₂⋅(l₁⋅(cos(q₁) - 1) + l₂⋅(cos(q₂)\n",
       "              ∂q₂                                                             \n",
       "\n",
       "              ⎛       ⎛                                    2⎞                 \n",
       "            ∂ ⎜       ⎜  2    2        2   ⎛∂             ⎞ ⎟          ⎛  2   \n",
       " - 1)))) - ───⎜0.5⋅m₁⋅⎜l₁ ⋅sin (q₁)⋅q₁̇  + ⎜──(l₁⋅sin(q₁))⎟ ⎟ + 0.5⋅m₂⋅⎝l₁ ⋅q₁\n",
       "           ∂q₂⎝       ⎝                    ⎝∂t            ⎠ ⎠                 \n",
       "\n",
       "                                             ⎞    \n",
       " 2                                    2    2⎞⎟    \n",
       "̇  + 2⋅l₁⋅l₂⋅cos(q₁ - q₂)⋅q₁̇⋅q₂̇ + l₂ ⋅q₂̇ ⎠⎟ = 0\n",
       "                                             ⎠    "
      ]
     },
     "execution_count": 319,
     "metadata": {},
     "output_type": "execute_result"
    }
   ],
   "source": [
    "Eq(simplify(q200), 0)"
   ]
  },
  {
   "cell_type": "code",
   "execution_count": 338,
   "metadata": {
    "collapsed": false
   },
   "outputs": [],
   "source": [
    "alles_null = {q1: 0, q1d: 0, q2: 0, q2d: 0.2}"
   ]
  },
  {
   "cell_type": "code",
   "execution_count": 342,
   "metadata": {
    "collapsed": false
   },
   "outputs": [
    {
     "data": {
      "text/latex": [
       "$$0.5 l_{2} m_{2} \\left(2.0 l_{1} \\cdot 0 + 2.0 l_{2} \\cdot 0\\right) - \\left. g l_{2} m_{2} \\operatorname{sin}\\left(q_{2}\\right) \\right|_{\\substack{ q_{2}=0 }} - \\left. 0 \\right|_{\\substack{ q_{2}=0 }}$$"
      ],
      "text/plain": [
       "                                                                              \n",
       "          ⎛       d              d      ⎞   ⎛ ∂                         ⎞│    \n",
       "0.5⋅l₂⋅m₂⋅⎜2.0⋅l₁⋅──(0) + 2.0⋅l₂⋅──(0.2)⎟ - ⎜───(g⋅l₂⋅m₂⋅(-cos(q₂) + 1))⎟│    \n",
       "          ⎝       dt             dt     ⎠   ⎝∂q₂                        ⎠│q₂=0\n",
       "\n",
       "   ⎛   ⎛              2                                                 ⎞⎞│   \n",
       "   ⎜ ∂ ⎜       ⎛d    ⎞           ⎛       2    2              2    2    ⎞⎟⎟│   \n",
       " - ⎜───⎜0.5⋅m₁⋅⎜──(0)⎟  + 0.5⋅m₂⋅⎝0.04⋅l₂ ⋅sin (q₂) + 0.04⋅l₂ ⋅cos (q₂)⎠⎟⎟│   \n",
       "   ⎝∂q₂⎝       ⎝dt   ⎠                                                  ⎠⎠│q₂=\n",
       "\n",
       " \n",
       " \n",
       " \n",
       "0"
      ]
     },
     "execution_count": 342,
     "metadata": {},
     "output_type": "execute_result"
    }
   ],
   "source": [
    "N(q200.subs({q1: 0, q1d: 0, q2: 0, q2d: 0.2}))"
   ]
  },
  {
   "cell_type": "code",
   "execution_count": null,
   "metadata": {
    "collapsed": true
   },
   "outputs": [],
   "source": []
  }
 ],
 "metadata": {
  "kernelspec": {
   "display_name": "Python 3",
   "language": "python",
   "name": "python3"
  },
  "language_info": {
   "codemirror_mode": {
    "name": "ipython",
    "version": 3
   },
   "file_extension": ".py",
   "mimetype": "text/x-python",
   "name": "python",
   "nbconvert_exporter": "python",
   "pygments_lexer": "ipython3",
   "version": "3.5.3"
  }
 },
 "nbformat": 4,
 "nbformat_minor": 0
}
