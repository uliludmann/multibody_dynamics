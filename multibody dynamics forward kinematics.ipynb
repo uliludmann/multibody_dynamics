{
 "cells": [
  {
   "cell_type": "markdown",
   "metadata": {},
   "source": [
    "# Multibody Dynamics\n",
    "\n",
    "_intro_"
   ]
  },
  {
   "cell_type": "code",
   "execution_count": 1,
   "metadata": {
    "collapsed": true
   },
   "outputs": [],
   "source": [
    "from sympy import *\n",
    "import numpy as np\n",
    "import matplotlib.pyplot as plt"
   ]
  },
  {
   "cell_type": "code",
   "execution_count": 2,
   "metadata": {
    "collapsed": true
   },
   "outputs": [],
   "source": [
    "from sympy.physics.mechanics import *\n",
    "init_printing()"
   ]
  },
  {
   "cell_type": "markdown",
   "metadata": {},
   "source": [
    "## Forward kinematics"
   ]
  },
  {
   "cell_type": "markdown",
   "metadata": {
    "collapsed": false
   },
   "source": [
    "The upcoming section is about the UR5 Robots forward kinematics.\n",
    "The UR5 Robot has 6 Revolute Joints. Therefore the position of the end-effector can be described with 6 generalized coordinates. \n",
    "We calculate the forward kinematics with the Denavit Hartenberg convention."
   ]
  },
  {
   "cell_type": "code",
   "execution_count": 3,
   "metadata": {
    "collapsed": false
   },
   "outputs": [],
   "source": [
    "# define generalized coordinates\n",
    "q1, q2, q3, q4, q5, q6 = dynamicsymbols('q1, q2, q3, q4, q5, q6')"
   ]
  },
  {
   "cell_type": "code",
   "execution_count": 4,
   "metadata": {
    "collapsed": true
   },
   "outputs": [],
   "source": [
    "def dh_transformation_step(alpha, a, d, q):\n",
    "    \"\"\"\n",
    "    returns a DH Transformation matrix.\n",
    "    \"\"\"\n",
    "    transformation_matrix = Matrix([\n",
    "        [cos(q), -sin(q), 0, a],\n",
    "        [sin(q) * cos(alpha), cos(q) * cos(alpha), -sin(alpha), -sin(alpha) * d],\n",
    "        [sin(q) * sin(alpha), cos(q) * sin(alpha), cos(alpha), cos(alpha) * d],\n",
    "        [0, 0, 0, 1]\n",
    "    ])\n",
    "    return transformation_matrix"
   ]
  },
  {
   "cell_type": "code",
   "execution_count": 5,
   "metadata": {
    "collapsed": false
   },
   "outputs": [],
   "source": [
    "#initialize fixed parameters\n",
    "a0, a1, a2, a3, a4, a5 = symbols('a0:6')\n",
    "alpha0, alpha1, alpha2, alpha3, alpha4, alpha5 = symbols('alpha0:6')\n",
    "d1, d2, d3, d4, d5, d6 = symbols('d1:7')"
   ]
  },
  {
   "cell_type": "code",
   "execution_count": 6,
   "metadata": {
    "collapsed": false
   },
   "outputs": [],
   "source": [
    "#define the denavit hartenberg parameters of the UR5\n",
    "dh_params = {\n",
    "    a0: 0, alpha0: 0,\n",
    "    a1: 0, alpha1: pi/2, d1: 0.08916, q1: q1,\n",
    "    a2: 0.425, alpha2: 0, d2: 0, q2: q2,\n",
    "    a3: 0.39225, alpha3: 0, d3: 0, q3: q3,\n",
    "    a4: 0, alpha4: pi/2, d4: 0.10915, q4: q4,\n",
    "    a5: 0, alpha5: -pi/2, d5: 0.09456, q5: q5,\n",
    "    d6: 0.0823, q6:q6\n",
    "}"
   ]
  },
  {
   "cell_type": "code",
   "execution_count": 7,
   "metadata": {
    "collapsed": false
   },
   "outputs": [],
   "source": [
    "T01 = dh_transformation_step(alpha0, a0, d1, q1).subs(dh_params)\n",
    "T12 = dh_transformation_step(alpha1, a1, d2, q2).subs(dh_params)\n",
    "T23 = dh_transformation_step(alpha2, a2, d3, q3).subs(dh_params)\n",
    "T34 = dh_transformation_step(alpha3, a3, d4, q4).subs(dh_params)\n",
    "T45 = dh_transformation_step(alpha4, a4, d5, q5).subs(dh_params)\n",
    "T56 = dh_transformation_step(alpha5, a5, d6, q6).subs(dh_params)"
   ]
  },
  {
   "cell_type": "code",
   "execution_count": 8,
   "metadata": {
    "collapsed": true
   },
   "outputs": [],
   "source": [
    "#Position of Point 6\n",
    "T06 = simplify(T01 * T12 * T23 * T34 * T45 * T56).doit()"
   ]
  },
  {
   "cell_type": "code",
   "execution_count": 9,
   "metadata": {
    "collapsed": false
   },
   "outputs": [],
   "source": [
    "alles_null = {q1: 0, q2: 0, q3: 0, q4: 0, q5: 0, q6: 0}"
   ]
  },
  {
   "cell_type": "code",
   "execution_count": 53,
   "metadata": {
    "collapsed": false
   },
   "outputs": [
    {
     "data": {
      "image/png": "[encoded data removed]",
      "text/latex": [
       "$$\\left[\\begin{matrix}1 & 0 & 0 & 0.81725\\\\0 & 0 & -1 & -0.19145\\\\0 & 1 & 0 & -0.0054\\\\0 & 0 & 0 & 1\\end{matrix}\\right]$$"
      ],
      "text/plain": [
       "⎡1  0  0   0.81725 ⎤\n",
       "⎢                  ⎥\n",
       "⎢0  0  -1  -0.19145⎥\n",
       "⎢                  ⎥\n",
       "⎢0  1  0   -0.0054 ⎥\n",
       "⎢                  ⎥\n",
       "⎣0  0  0      1    ⎦"
      ]
     },
     "execution_count": 53,
     "metadata": {},
     "output_type": "execute_result"
    }
   ],
   "source": [
    "T06.subs(alles_null)"
   ]
  },
  {
   "cell_type": "markdown",
   "metadata": {},
   "source": [
    "## Inverse Kinematics\n",
    "We can derive the Inverse Kinematics symbollically, because the robot is designed with a wrist. \n",
    "\n",
    "To calculate the inverse Kinematics, we need to frist derive the position of the wrist (Joint5) with respect to the base-frame. In the forward kinematics, it would look like this:"
   ]
  },
  {
   "cell_type": "code",
   "execution_count": 11,
   "metadata": {
    "collapsed": false
   },
   "outputs": [],
   "source": [
    "T05 = simplify(T01 * T12 * T23 * T34 * T45)"
   ]
  },
  {
   "cell_type": "code",
   "execution_count": 12,
   "metadata": {
    "collapsed": false
   },
   "outputs": [
    {
     "data": {
      "image/png": "[encoded data removed]",
      "text/latex": [
       "$$\\left[\\begin{matrix}\\sin{\\left (\\operatorname{q_{1}}{\\left (t \\right )} \\right )} \\sin{\\left (\\operatorname{q_{5}}{\\left (t \\right )} \\right )} + \\cos{\\left (\\operatorname{q_{2}}{\\left (t \\right )} + \\operatorname{q_{3}}{\\left (t \\right )} + \\operatorname{q_{4}}{\\left (t \\right )} \\right )} \\cos{\\left (\\operatorname{q_{1}}{\\left (t \\right )} \\right )} \\cos{\\left (\\operatorname{q_{5}}{\\left (t \\right )} \\right )} & \\sin{\\left (\\operatorname{q_{1}}{\\left (t \\right )} \\right )} \\cos{\\left (\\operatorname{q_{5}}{\\left (t \\right )} \\right )} - \\sin{\\left (\\operatorname{q_{5}}{\\left (t \\right )} \\right )} \\cos{\\left (\\operatorname{q_{2}}{\\left (t \\right )} + \\operatorname{q_{3}}{\\left (t \\right )} + \\operatorname{q_{4}}{\\left (t \\right )} \\right )} \\cos{\\left (\\operatorname{q_{1}}{\\left (t \\right )} \\right )} & \\sin{\\left (\\operatorname{q_{2}}{\\left (t \\right )} + \\operatorname{q_{3}}{\\left (t \\right )} + \\operatorname{q_{4}}{\\left (t \\right )} \\right )} \\cos{\\left (\\operatorname{q_{1}}{\\left (t \\right )} \\right )} & 0.09456 \\sin{\\left (\\operatorname{q_{2}}{\\left (t \\right )} + \\operatorname{q_{3}}{\\left (t \\right )} + \\operatorname{q_{4}}{\\left (t \\right )} \\right )} \\cos{\\left (\\operatorname{q_{1}}{\\left (t \\right )} \\right )} + 0.10915 \\sin{\\left (\\operatorname{q_{1}}{\\left (t \\right )} \\right )} + 0.39225 \\cos{\\left (\\operatorname{q_{2}}{\\left (t \\right )} + \\operatorname{q_{3}}{\\left (t \\right )} \\right )} \\cos{\\left (\\operatorname{q_{1}}{\\left (t \\right )} \\right )} + 0.425 \\cos{\\left (\\operatorname{q_{1}}{\\left (t \\right )} \\right )} \\cos{\\left (\\operatorname{q_{2}}{\\left (t \\right )} \\right )}\\\\\\sin{\\left (\\operatorname{q_{1}}{\\left (t \\right )} \\right )} \\cos{\\left (\\operatorname{q_{2}}{\\left (t \\right )} + \\operatorname{q_{3}}{\\left (t \\right )} + \\operatorname{q_{4}}{\\left (t \\right )} \\right )} \\cos{\\left (\\operatorname{q_{5}}{\\left (t \\right )} \\right )} - \\sin{\\left (\\operatorname{q_{5}}{\\left (t \\right )} \\right )} \\cos{\\left (\\operatorname{q_{1}}{\\left (t \\right )} \\right )} & - \\sin{\\left (\\operatorname{q_{1}}{\\left (t \\right )} \\right )} \\sin{\\left (\\operatorname{q_{5}}{\\left (t \\right )} \\right )} \\cos{\\left (\\operatorname{q_{2}}{\\left (t \\right )} + \\operatorname{q_{3}}{\\left (t \\right )} + \\operatorname{q_{4}}{\\left (t \\right )} \\right )} - \\cos{\\left (\\operatorname{q_{1}}{\\left (t \\right )} \\right )} \\cos{\\left (\\operatorname{q_{5}}{\\left (t \\right )} \\right )} & \\sin{\\left (\\operatorname{q_{2}}{\\left (t \\right )} + \\operatorname{q_{3}}{\\left (t \\right )} + \\operatorname{q_{4}}{\\left (t \\right )} \\right )} \\sin{\\left (\\operatorname{q_{1}}{\\left (t \\right )} \\right )} & 0.09456 \\sin{\\left (\\operatorname{q_{2}}{\\left (t \\right )} + \\operatorname{q_{3}}{\\left (t \\right )} + \\operatorname{q_{4}}{\\left (t \\right )} \\right )} \\sin{\\left (\\operatorname{q_{1}}{\\left (t \\right )} \\right )} + 0.39225 \\sin{\\left (\\operatorname{q_{1}}{\\left (t \\right )} \\right )} \\cos{\\left (\\operatorname{q_{2}}{\\left (t \\right )} + \\operatorname{q_{3}}{\\left (t \\right )} \\right )} + 0.425 \\sin{\\left (\\operatorname{q_{1}}{\\left (t \\right )} \\right )} \\cos{\\left (\\operatorname{q_{2}}{\\left (t \\right )} \\right )} - 0.10915 \\cos{\\left (\\operatorname{q_{1}}{\\left (t \\right )} \\right )}\\\\\\sin{\\left (\\operatorname{q_{2}}{\\left (t \\right )} + \\operatorname{q_{3}}{\\left (t \\right )} + \\operatorname{q_{4}}{\\left (t \\right )} \\right )} \\cos{\\left (\\operatorname{q_{5}}{\\left (t \\right )} \\right )} & - \\sin{\\left (\\operatorname{q_{2}}{\\left (t \\right )} + \\operatorname{q_{3}}{\\left (t \\right )} + \\operatorname{q_{4}}{\\left (t \\right )} \\right )} \\sin{\\left (\\operatorname{q_{5}}{\\left (t \\right )} \\right )} & - \\cos{\\left (\\operatorname{q_{2}}{\\left (t \\right )} + \\operatorname{q_{3}}{\\left (t \\right )} + \\operatorname{q_{4}}{\\left (t \\right )} \\right )} & 0.39225 \\sin{\\left (\\operatorname{q_{2}}{\\left (t \\right )} + \\operatorname{q_{3}}{\\left (t \\right )} \\right )} + 0.425 \\sin{\\left (\\operatorname{q_{2}}{\\left (t \\right )} \\right )} - 0.09456 \\cos{\\left (\\operatorname{q_{2}}{\\left (t \\right )} + \\operatorname{q_{3}}{\\left (t \\right )} + \\operatorname{q_{4}}{\\left (t \\right )} \\right )} + 0.08916\\\\0 & 0 & 0 & 1\\end{matrix}\\right]$$"
      ],
      "text/plain": [
       "⎡sin(q₁(t))⋅sin(q₅(t)) + cos(q₂(t) + q₃(t) + q₄(t))⋅cos(q₁(t))⋅cos(q₅(t))  sin\n",
       "⎢                                                                             \n",
       "⎢sin(q₁(t))⋅cos(q₂(t) + q₃(t) + q₄(t))⋅cos(q₅(t)) - sin(q₅(t))⋅cos(q₁(t))  -si\n",
       "⎢                                                                             \n",
       "⎢                 sin(q₂(t) + q₃(t) + q₄(t))⋅cos(q₅(t))                       \n",
       "⎢                                                                             \n",
       "⎣                                   0                                         \n",
       "\n",
       "(q₁(t))⋅cos(q₅(t)) - sin(q₅(t))⋅cos(q₂(t) + q₃(t) + q₄(t))⋅cos(q₁(t))   sin(q₂\n",
       "                                                                              \n",
       "n(q₁(t))⋅sin(q₅(t))⋅cos(q₂(t) + q₃(t) + q₄(t)) - cos(q₁(t))⋅cos(q₅(t))  sin(q₂\n",
       "                                                                              \n",
       "              -sin(q₂(t) + q₃(t) + q₄(t))⋅sin(q₅(t))                         -\n",
       "                                                                              \n",
       "                                 0                                            \n",
       "\n",
       "(t) + q₃(t) + q₄(t))⋅cos(q₁(t))  0.09456⋅sin(q₂(t) + q₃(t) + q₄(t))⋅cos(q₁(t))\n",
       "                                                                              \n",
       "(t) + q₃(t) + q₄(t))⋅sin(q₁(t))  0.09456⋅sin(q₂(t) + q₃(t) + q₄(t))⋅sin(q₁(t))\n",
       "                                                                              \n",
       "cos(q₂(t) + q₃(t) + q₄(t))                             0.39225⋅sin(q₂(t) + q₃(\n",
       "                                                                              \n",
       "            0                                                                 \n",
       "\n",
       " + 0.10915⋅sin(q₁(t)) + 0.39225⋅cos(q₂(t) + q₃(t))⋅cos(q₁(t)) + 0.425⋅cos(q₁(t\n",
       "                                                                              \n",
       " + 0.39225⋅sin(q₁(t))⋅cos(q₂(t) + q₃(t)) + 0.425⋅sin(q₁(t))⋅cos(q₂(t)) - 0.109\n",
       "                                                                              \n",
       "t)) + 0.425⋅sin(q₂(t)) - 0.09456⋅cos(q₂(t) + q₃(t) + q₄(t)) + 0.08916         \n",
       "                                                                              \n",
       "                      1                                                       \n",
       "\n",
       "))⋅cos(q₂(t))⎤\n",
       "             ⎥\n",
       "15⋅cos(q₁(t))⎥\n",
       "             ⎥\n",
       "             ⎥\n",
       "             ⎥\n",
       "             ⎦"
      ]
     },
     "execution_count": 12,
     "metadata": {},
     "output_type": "execute_result"
    }
   ],
   "source": [
    "T05"
   ]
  },
  {
   "cell_type": "markdown",
   "metadata": {},
   "source": [
    "The Translation T05 can also be written as: T06 - d6 * Z06 ->"
   ]
  },
  {
   "cell_type": "code",
   "execution_count": 13,
   "metadata": {
    "collapsed": true
   },
   "outputs": [],
   "source": [
    "T_05 = T06 * Matrix([0, 0, -d6, 1])"
   ]
  },
  {
   "cell_type": "code",
   "execution_count": 14,
   "metadata": {
    "collapsed": false
   },
   "outputs": [
    {
     "data": {
      "image/png": "[encoded data removed]",
      "text/latex": [
       "$$\\left[\\begin{matrix}- d_{6} \\left(\\sin{\\left (\\operatorname{q_{1}}{\\left (t \\right )} \\right )} \\cos{\\left (\\operatorname{q_{5}}{\\left (t \\right )} \\right )} - \\sin{\\left (\\operatorname{q_{5}}{\\left (t \\right )} \\right )} \\cos{\\left (\\operatorname{q_{2}}{\\left (t \\right )} + \\operatorname{q_{3}}{\\left (t \\right )} + \\operatorname{q_{4}}{\\left (t \\right )} \\right )} \\cos{\\left (\\operatorname{q_{1}}{\\left (t \\right )} \\right )}\\right) + 0.09456 \\sin{\\left (\\operatorname{q_{2}}{\\left (t \\right )} + \\operatorname{q_{3}}{\\left (t \\right )} + \\operatorname{q_{4}}{\\left (t \\right )} \\right )} \\cos{\\left (\\operatorname{q_{1}}{\\left (t \\right )} \\right )} + 0.0823 \\sin{\\left (\\operatorname{q_{1}}{\\left (t \\right )} \\right )} \\cos{\\left (\\operatorname{q_{5}}{\\left (t \\right )} \\right )} + 0.10915 \\sin{\\left (\\operatorname{q_{1}}{\\left (t \\right )} \\right )} - 0.0823 \\sin{\\left (\\operatorname{q_{5}}{\\left (t \\right )} \\right )} \\cos{\\left (\\operatorname{q_{2}}{\\left (t \\right )} + \\operatorname{q_{3}}{\\left (t \\right )} + \\operatorname{q_{4}}{\\left (t \\right )} \\right )} \\cos{\\left (\\operatorname{q_{1}}{\\left (t \\right )} \\right )} + 0.39225 \\cos{\\left (\\operatorname{q_{2}}{\\left (t \\right )} + \\operatorname{q_{3}}{\\left (t \\right )} \\right )} \\cos{\\left (\\operatorname{q_{1}}{\\left (t \\right )} \\right )} + 0.425 \\cos{\\left (\\operatorname{q_{1}}{\\left (t \\right )} \\right )} \\cos{\\left (\\operatorname{q_{2}}{\\left (t \\right )} \\right )}\\\\- d_{6} \\left(- \\sin{\\left (\\operatorname{q_{1}}{\\left (t \\right )} \\right )} \\sin{\\left (\\operatorname{q_{5}}{\\left (t \\right )} \\right )} \\cos{\\left (\\operatorname{q_{2}}{\\left (t \\right )} + \\operatorname{q_{3}}{\\left (t \\right )} + \\operatorname{q_{4}}{\\left (t \\right )} \\right )} - \\cos{\\left (\\operatorname{q_{1}}{\\left (t \\right )} \\right )} \\cos{\\left (\\operatorname{q_{5}}{\\left (t \\right )} \\right )}\\right) + 0.09456 \\sin{\\left (\\operatorname{q_{2}}{\\left (t \\right )} + \\operatorname{q_{3}}{\\left (t \\right )} + \\operatorname{q_{4}}{\\left (t \\right )} \\right )} \\sin{\\left (\\operatorname{q_{1}}{\\left (t \\right )} \\right )} - 0.0823 \\sin{\\left (\\operatorname{q_{1}}{\\left (t \\right )} \\right )} \\sin{\\left (\\operatorname{q_{5}}{\\left (t \\right )} \\right )} \\cos{\\left (\\operatorname{q_{2}}{\\left (t \\right )} + \\operatorname{q_{3}}{\\left (t \\right )} + \\operatorname{q_{4}}{\\left (t \\right )} \\right )} + 0.39225 \\sin{\\left (\\operatorname{q_{1}}{\\left (t \\right )} \\right )} \\cos{\\left (\\operatorname{q_{2}}{\\left (t \\right )} + \\operatorname{q_{3}}{\\left (t \\right )} \\right )} + 0.425 \\sin{\\left (\\operatorname{q_{1}}{\\left (t \\right )} \\right )} \\cos{\\left (\\operatorname{q_{2}}{\\left (t \\right )} \\right )} - 0.0823 \\cos{\\left (\\operatorname{q_{1}}{\\left (t \\right )} \\right )} \\cos{\\left (\\operatorname{q_{5}}{\\left (t \\right )} \\right )} - 0.10915 \\cos{\\left (\\operatorname{q_{1}}{\\left (t \\right )} \\right )}\\\\d_{6} \\sin{\\left (\\operatorname{q_{2}}{\\left (t \\right )} + \\operatorname{q_{3}}{\\left (t \\right )} + \\operatorname{q_{4}}{\\left (t \\right )} \\right )} \\sin{\\left (\\operatorname{q_{5}}{\\left (t \\right )} \\right )} + 0.39225 \\sin{\\left (\\operatorname{q_{2}}{\\left (t \\right )} + \\operatorname{q_{3}}{\\left (t \\right )} \\right )} - 0.0823 \\sin{\\left (\\operatorname{q_{2}}{\\left (t \\right )} + \\operatorname{q_{3}}{\\left (t \\right )} + \\operatorname{q_{4}}{\\left (t \\right )} \\right )} \\sin{\\left (\\operatorname{q_{5}}{\\left (t \\right )} \\right )} + 0.425 \\sin{\\left (\\operatorname{q_{2}}{\\left (t \\right )} \\right )} - 0.09456 \\cos{\\left (\\operatorname{q_{2}}{\\left (t \\right )} + \\operatorname{q_{3}}{\\left (t \\right )} + \\operatorname{q_{4}}{\\left (t \\right )} \\right )} + 0.08916\\\\1\\end{matrix}\\right]$$"
      ],
      "text/plain": [
       "⎡-d₆⋅(sin(q₁(t))⋅cos(q₅(t)) - sin(q₅(t))⋅cos(q₂(t) + q₃(t) + q₄(t))⋅cos(q₁(t))\n",
       "⎢                                                                             \n",
       "⎢-d₆⋅(-sin(q₁(t))⋅sin(q₅(t))⋅cos(q₂(t) + q₃(t) + q₄(t)) - cos(q₁(t))⋅cos(q₅(t)\n",
       "⎢                                                                             \n",
       "⎢                                                              d₆⋅sin(q₂(t) + \n",
       "⎢                                                                             \n",
       "⎣                                                                             \n",
       "\n",
       ") + 0.09456⋅sin(q₂(t) + q₃(t) + q₄(t))⋅cos(q₁(t)) + 0.0823⋅sin(q₁(t))⋅cos(q₅(t\n",
       "                                                                              \n",
       ")) + 0.09456⋅sin(q₂(t) + q₃(t) + q₄(t))⋅sin(q₁(t)) - 0.0823⋅sin(q₁(t))⋅sin(q₅(\n",
       "                                                                              \n",
       "q₃(t) + q₄(t))⋅sin(q₅(t)) + 0.39225⋅sin(q₂(t) + q₃(t)) - 0.0823⋅sin(q₂(t) + q₃\n",
       "                                                                              \n",
       "                                                                            1 \n",
       "\n",
       ")) + 0.10915⋅sin(q₁(t)) - 0.0823⋅sin(q₅(t))⋅cos(q₂(t) + q₃(t) + q₄(t))⋅cos(q₁(\n",
       "                                                                              \n",
       "t))⋅cos(q₂(t) + q₃(t) + q₄(t)) + 0.39225⋅sin(q₁(t))⋅cos(q₂(t) + q₃(t)) + 0.425\n",
       "                                                                              \n",
       "(t) + q₄(t))⋅sin(q₅(t)) + 0.425⋅sin(q₂(t)) - 0.09456⋅cos(q₂(t) + q₃(t) + q₄(t)\n",
       "                                                                              \n",
       "                                                                              \n",
       "\n",
       "t)) + 0.39225⋅cos(q₂(t) + q₃(t))⋅cos(q₁(t)) + 0.425⋅cos(q₁(t))⋅cos(q₂(t)) ⎤\n",
       "                                                                          ⎥\n",
       "⋅sin(q₁(t))⋅cos(q₂(t)) - 0.0823⋅cos(q₁(t))⋅cos(q₅(t)) - 0.10915⋅cos(q₁(t))⎥\n",
       "                                                                          ⎥\n",
       ") + 0.08916                                                               ⎥\n",
       "                                                                          ⎥\n",
       "                                                                          ⎦"
      ]
     },
     "execution_count": 14,
     "metadata": {},
     "output_type": "execute_result"
    }
   ],
   "source": [
    "T_05"
   ]
  },
  {
   "cell_type": "markdown",
   "metadata": {},
   "source": [
    "### Find q1\n",
    "\n",
    "to find q1 we look at the robot from above.\n",
    "\n"
   ]
  },
  {
   "cell_type": "code",
   "execution_count": 15,
   "metadata": {
    "collapsed": false
   },
   "outputs": [
    {
     "data": {
      "image/png": "[encoded data removed]",
      "text/latex": [
       "$$\\left[\\begin{matrix}\\cos{\\left (\\operatorname{q_{2}}{\\left (t \\right )} + \\operatorname{q_{3}}{\\left (t \\right )} + \\operatorname{q_{4}}{\\left (t \\right )} \\right )} \\cos{\\left (\\operatorname{q_{1}}{\\left (t \\right )} \\right )} & - \\sin{\\left (\\operatorname{q_{2}}{\\left (t \\right )} + \\operatorname{q_{3}}{\\left (t \\right )} + \\operatorname{q_{4}}{\\left (t \\right )} \\right )} \\cos{\\left (\\operatorname{q_{1}}{\\left (t \\right )} \\right )} & \\sin{\\left (\\operatorname{q_{1}}{\\left (t \\right )} \\right )} & 0.10915 \\sin{\\left (\\operatorname{q_{1}}{\\left (t \\right )} \\right )} + 0.39225 \\cos{\\left (\\operatorname{q_{2}}{\\left (t \\right )} + \\operatorname{q_{3}}{\\left (t \\right )} \\right )} \\cos{\\left (\\operatorname{q_{1}}{\\left (t \\right )} \\right )} + 0.425 \\cos{\\left (\\operatorname{q_{1}}{\\left (t \\right )} \\right )} \\cos{\\left (\\operatorname{q_{2}}{\\left (t \\right )} \\right )}\\\\\\sin{\\left (\\operatorname{q_{1}}{\\left (t \\right )} \\right )} \\cos{\\left (\\operatorname{q_{2}}{\\left (t \\right )} + \\operatorname{q_{3}}{\\left (t \\right )} + \\operatorname{q_{4}}{\\left (t \\right )} \\right )} & - \\sin{\\left (\\operatorname{q_{2}}{\\left (t \\right )} + \\operatorname{q_{3}}{\\left (t \\right )} + \\operatorname{q_{4}}{\\left (t \\right )} \\right )} \\sin{\\left (\\operatorname{q_{1}}{\\left (t \\right )} \\right )} & - \\cos{\\left (\\operatorname{q_{1}}{\\left (t \\right )} \\right )} & 0.39225 \\sin{\\left (\\operatorname{q_{1}}{\\left (t \\right )} \\right )} \\cos{\\left (\\operatorname{q_{2}}{\\left (t \\right )} + \\operatorname{q_{3}}{\\left (t \\right )} \\right )} + 0.425 \\sin{\\left (\\operatorname{q_{1}}{\\left (t \\right )} \\right )} \\cos{\\left (\\operatorname{q_{2}}{\\left (t \\right )} \\right )} - 0.10915 \\cos{\\left (\\operatorname{q_{1}}{\\left (t \\right )} \\right )}\\\\\\sin{\\left (\\operatorname{q_{2}}{\\left (t \\right )} + \\operatorname{q_{3}}{\\left (t \\right )} + \\operatorname{q_{4}}{\\left (t \\right )} \\right )} & \\cos{\\left (\\operatorname{q_{2}}{\\left (t \\right )} + \\operatorname{q_{3}}{\\left (t \\right )} + \\operatorname{q_{4}}{\\left (t \\right )} \\right )} & 0 & 0.39225 \\sin{\\left (\\operatorname{q_{2}}{\\left (t \\right )} + \\operatorname{q_{3}}{\\left (t \\right )} \\right )} + 0.425 \\sin{\\left (\\operatorname{q_{2}}{\\left (t \\right )} \\right )} + 0.08916\\\\0 & 0 & 0 & 1\\end{matrix}\\right]$$"
      ],
      "text/plain": [
       "⎡cos(q₂(t) + q₃(t) + q₄(t))⋅cos(q₁(t))  -sin(q₂(t) + q₃(t) + q₄(t))⋅cos(q₁(t))\n",
       "⎢                                                                             \n",
       "⎢sin(q₁(t))⋅cos(q₂(t) + q₃(t) + q₄(t))  -sin(q₂(t) + q₃(t) + q₄(t))⋅sin(q₁(t))\n",
       "⎢                                                                             \n",
       "⎢     sin(q₂(t) + q₃(t) + q₄(t))              cos(q₂(t) + q₃(t) + q₄(t))      \n",
       "⎢                                                                             \n",
       "⎣                  0                                      0                   \n",
       "\n",
       "  sin(q₁(t))   0.10915⋅sin(q₁(t)) + 0.39225⋅cos(q₂(t) + q₃(t))⋅cos(q₁(t)) + 0.\n",
       "                                                                              \n",
       "  -cos(q₁(t))  0.39225⋅sin(q₁(t))⋅cos(q₂(t) + q₃(t)) + 0.425⋅sin(q₁(t))⋅cos(q₂\n",
       "                                                                              \n",
       "       0                       0.39225⋅sin(q₂(t) + q₃(t)) + 0.425⋅sin(q₂(t)) +\n",
       "                                                                              \n",
       "       0                                                  1                   \n",
       "\n",
       "425⋅cos(q₁(t))⋅cos(q₂(t))⎤\n",
       "                         ⎥\n",
       "(t)) - 0.10915⋅cos(q₁(t))⎥\n",
       "                         ⎥\n",
       " 0.08916                 ⎥\n",
       "                         ⎥\n",
       "                         ⎦"
      ]
     },
     "execution_count": 15,
     "metadata": {},
     "output_type": "execute_result"
    }
   ],
   "source": [
    "simplify(T01 * T12 * T23 * T34)"
   ]
  },
  {
   "cell_type": "code",
   "execution_count": 16,
   "metadata": {
    "collapsed": true
   },
   "outputs": [],
   "source": [
    "T01 = dh_transformation_step(alpha0, a0, d1, q1)\n",
    "T12 = dh_transformation_step(alpha1, a1, d2, q2)\n",
    "T23 = dh_transformation_step(alpha2, a2, d3, q3)\n",
    "T34 = dh_transformation_step(alpha3, a3, d4, q4)\n",
    "T45 = dh_transformation_step(alpha4, a4, d5, q5)\n",
    "T56 = dh_transformation_step(alpha5, a5, d6, q6)"
   ]
  },
  {
   "cell_type": "code",
   "execution_count": 17,
   "metadata": {
    "collapsed": false
   },
   "outputs": [],
   "source": [
    "joint2 = simplify(T01 * T12)"
   ]
  },
  {
   "cell_type": "code",
   "execution_count": 18,
   "metadata": {
    "collapsed": false
   },
   "outputs": [
    {
     "data": {
      "image/png": "[encoded data removed]",
      "text/latex": [
       "$$\\left[\\begin{matrix}- \\sin{\\left (\\operatorname{q_{1}}{\\left (t \\right )} \\right )} \\sin{\\left (\\operatorname{q_{2}}{\\left (t \\right )} \\right )} \\cos{\\left (\\alpha_{1} \\right )} + \\cos{\\left (\\operatorname{q_{1}}{\\left (t \\right )} \\right )} \\cos{\\left (\\operatorname{q_{2}}{\\left (t \\right )} \\right )} & - \\sin{\\left (\\operatorname{q_{1}}{\\left (t \\right )} \\right )} \\cos{\\left (\\alpha_{1} \\right )} \\cos{\\left (\\operatorname{q_{2}}{\\left (t \\right )} \\right )} - \\sin{\\left (\\operatorname{q_{2}}{\\left (t \\right )} \\right )} \\cos{\\left (\\operatorname{q_{1}}{\\left (t \\right )} \\right )} & \\sin{\\left (\\alpha_{1} \\right )} \\sin{\\left (\\operatorname{q_{1}}{\\left (t \\right )} \\right )} & 0\\\\\\sin{\\left (\\operatorname{q_{1}}{\\left (t \\right )} \\right )} \\cos{\\left (\\operatorname{q_{2}}{\\left (t \\right )} \\right )} + \\sin{\\left (\\operatorname{q_{2}}{\\left (t \\right )} \\right )} \\cos{\\left (\\alpha_{1} \\right )} \\cos{\\left (\\operatorname{q_{1}}{\\left (t \\right )} \\right )} & - \\sin{\\left (\\operatorname{q_{1}}{\\left (t \\right )} \\right )} \\sin{\\left (\\operatorname{q_{2}}{\\left (t \\right )} \\right )} + \\cos{\\left (\\alpha_{1} \\right )} \\cos{\\left (\\operatorname{q_{1}}{\\left (t \\right )} \\right )} \\cos{\\left (\\operatorname{q_{2}}{\\left (t \\right )} \\right )} & - \\sin{\\left (\\alpha_{1} \\right )} \\cos{\\left (\\operatorname{q_{1}}{\\left (t \\right )} \\right )} & 0\\\\\\sin{\\left (\\alpha_{1} \\right )} \\sin{\\left (\\operatorname{q_{2}}{\\left (t \\right )} \\right )} & \\sin{\\left (\\alpha_{1} \\right )} \\cos{\\left (\\operatorname{q_{2}}{\\left (t \\right )} \\right )} & \\cos{\\left (\\alpha_{1} \\right )} & d_{1}\\\\0 & 0 & 0 & 1\\end{matrix}\\right]$$"
      ],
      "text/plain": [
       "⎡-sin(q₁(t))⋅sin(q₂(t))⋅cos(α₁) + cos(q₁(t))⋅cos(q₂(t))  -sin(q₁(t))⋅cos(α₁)⋅c\n",
       "⎢                                                                             \n",
       "⎢sin(q₁(t))⋅cos(q₂(t)) + sin(q₂(t))⋅cos(α₁)⋅cos(q₁(t))   -sin(q₁(t))⋅sin(q₂(t)\n",
       "⎢                                                                             \n",
       "⎢                  sin(α₁)⋅sin(q₂(t))                                      sin\n",
       "⎢                                                                             \n",
       "⎣                          0                                                  \n",
       "\n",
       "os(q₂(t)) - sin(q₂(t))⋅cos(q₁(t))  sin(α₁)⋅sin(q₁(t))   0 ⎤\n",
       "                                                          ⎥\n",
       ") + cos(α₁)⋅cos(q₁(t))⋅cos(q₂(t))  -sin(α₁)⋅cos(q₁(t))  0 ⎥\n",
       "                                                          ⎥\n",
       "(α₁)⋅cos(q₂(t))                          cos(α₁)        d₁⎥\n",
       "                                                          ⎥\n",
       "     0                                      0           1 ⎦"
      ]
     },
     "execution_count": 18,
     "metadata": {},
     "output_type": "execute_result"
    }
   ],
   "source": [
    "joint2.subs({a0: 0, a1:0, d2: 0, alpha0: 0})"
   ]
  },
  {
   "cell_type": "code",
   "execution_count": 19,
   "metadata": {
    "collapsed": false
   },
   "outputs": [],
   "source": [
    "joint3 = T01 * T12 * T23"
   ]
  },
  {
   "cell_type": "code",
   "execution_count": 20,
   "metadata": {
    "collapsed": false
   },
   "outputs": [
    {
     "data": {
      "image/png": "[encoded data removed]",
      "text/latex": [
       "$$\\left[\\begin{matrix}- \\sin{\\left (\\operatorname{q_{2}}{\\left (t \\right )} \\right )} \\sin{\\left (\\operatorname{q_{3}}{\\left (t \\right )} \\right )} \\cos{\\left (\\operatorname{q_{1}}{\\left (t \\right )} \\right )} + \\cos{\\left (\\operatorname{q_{1}}{\\left (t \\right )} \\right )} \\cos{\\left (\\operatorname{q_{2}}{\\left (t \\right )} \\right )} \\cos{\\left (\\operatorname{q_{3}}{\\left (t \\right )} \\right )} & - \\sin{\\left (\\operatorname{q_{2}}{\\left (t \\right )} \\right )} \\cos{\\left (\\operatorname{q_{1}}{\\left (t \\right )} \\right )} \\cos{\\left (\\operatorname{q_{3}}{\\left (t \\right )} \\right )} - \\sin{\\left (\\operatorname{q_{3}}{\\left (t \\right )} \\right )} \\cos{\\left (\\operatorname{q_{1}}{\\left (t \\right )} \\right )} \\cos{\\left (\\operatorname{q_{2}}{\\left (t \\right )} \\right )} & \\sin{\\left (\\operatorname{q_{1}}{\\left (t \\right )} \\right )} & 0.425 \\cos{\\left (\\operatorname{q_{1}}{\\left (t \\right )} \\right )} \\cos{\\left (\\operatorname{q_{2}}{\\left (t \\right )} \\right )}\\\\- \\sin{\\left (\\operatorname{q_{1}}{\\left (t \\right )} \\right )} \\sin{\\left (\\operatorname{q_{2}}{\\left (t \\right )} \\right )} \\sin{\\left (\\operatorname{q_{3}}{\\left (t \\right )} \\right )} + \\sin{\\left (\\operatorname{q_{1}}{\\left (t \\right )} \\right )} \\cos{\\left (\\operatorname{q_{2}}{\\left (t \\right )} \\right )} \\cos{\\left (\\operatorname{q_{3}}{\\left (t \\right )} \\right )} & - \\sin{\\left (\\operatorname{q_{1}}{\\left (t \\right )} \\right )} \\sin{\\left (\\operatorname{q_{2}}{\\left (t \\right )} \\right )} \\cos{\\left (\\operatorname{q_{3}}{\\left (t \\right )} \\right )} - \\sin{\\left (\\operatorname{q_{1}}{\\left (t \\right )} \\right )} \\sin{\\left (\\operatorname{q_{3}}{\\left (t \\right )} \\right )} \\cos{\\left (\\operatorname{q_{2}}{\\left (t \\right )} \\right )} & - \\cos{\\left (\\operatorname{q_{1}}{\\left (t \\right )} \\right )} & 0.425 \\sin{\\left (\\operatorname{q_{1}}{\\left (t \\right )} \\right )} \\cos{\\left (\\operatorname{q_{2}}{\\left (t \\right )} \\right )}\\\\\\sin{\\left (\\operatorname{q_{2}}{\\left (t \\right )} \\right )} \\cos{\\left (\\operatorname{q_{3}}{\\left (t \\right )} \\right )} + \\sin{\\left (\\operatorname{q_{3}}{\\left (t \\right )} \\right )} \\cos{\\left (\\operatorname{q_{2}}{\\left (t \\right )} \\right )} & - \\sin{\\left (\\operatorname{q_{2}}{\\left (t \\right )} \\right )} \\sin{\\left (\\operatorname{q_{3}}{\\left (t \\right )} \\right )} + \\cos{\\left (\\operatorname{q_{2}}{\\left (t \\right )} \\right )} \\cos{\\left (\\operatorname{q_{3}}{\\left (t \\right )} \\right )} & 0 & 0.425 \\sin{\\left (\\operatorname{q_{2}}{\\left (t \\right )} \\right )} + 0.08916\\\\0 & 0 & 0 & 1\\end{matrix}\\right]$$"
      ],
      "text/plain": [
       "⎡-sin(q₂(t))⋅sin(q₃(t))⋅cos(q₁(t)) + cos(q₁(t))⋅cos(q₂(t))⋅cos(q₃(t))  -sin(q₂\n",
       "⎢                                                                             \n",
       "⎢-sin(q₁(t))⋅sin(q₂(t))⋅sin(q₃(t)) + sin(q₁(t))⋅cos(q₂(t))⋅cos(q₃(t))  -sin(q₁\n",
       "⎢                                                                             \n",
       "⎢           sin(q₂(t))⋅cos(q₃(t)) + sin(q₃(t))⋅cos(q₂(t))                     \n",
       "⎢                                                                             \n",
       "⎣                                 0                                           \n",
       "\n",
       "(t))⋅cos(q₁(t))⋅cos(q₃(t)) - sin(q₃(t))⋅cos(q₁(t))⋅cos(q₂(t))  sin(q₁(t))   0.\n",
       "                                                                              \n",
       "(t))⋅sin(q₂(t))⋅cos(q₃(t)) - sin(q₁(t))⋅sin(q₃(t))⋅cos(q₂(t))  -cos(q₁(t))  0.\n",
       "                                                                              \n",
       "    -sin(q₂(t))⋅sin(q₃(t)) + cos(q₂(t))⋅cos(q₃(t))                  0       0.\n",
       "                                                                              \n",
       "                          0                                         0         \n",
       "\n",
       "425⋅cos(q₁(t))⋅cos(q₂(t))⎤\n",
       "                         ⎥\n",
       "425⋅sin(q₁(t))⋅cos(q₂(t))⎥\n",
       "                         ⎥\n",
       "425⋅sin(q₂(t)) + 0.08916 ⎥\n",
       "                         ⎥\n",
       "           1             ⎦"
      ]
     },
     "execution_count": 20,
     "metadata": {},
     "output_type": "execute_result"
    }
   ],
   "source": [
    "joint3.subs(dh_params)"
   ]
  },
  {
   "cell_type": "code",
   "execution_count": null,
   "metadata": {
    "collapsed": true
   },
   "outputs": [],
   "source": []
  },
  {
   "cell_type": "code",
   "execution_count": 21,
   "metadata": {
    "collapsed": false
   },
   "outputs": [
    {
     "data": {
      "image/png": "[encoded data removed]",
      "text/latex": [
       "$$\\frac{d}{d t} \\operatorname{q_{1}}{\\left (t \\right )}$$"
      ],
      "text/plain": [
       "d        \n",
       "──(q₁(t))\n",
       "dt       "
      ]
     },
     "execution_count": 21,
     "metadata": {},
     "output_type": "execute_result"
    }
   ],
   "source": [
    "diff(q1)"
   ]
  },
  {
   "cell_type": "code",
   "execution_count": 22,
   "metadata": {
    "collapsed": false
   },
   "outputs": [],
   "source": [
    "x5, y5, z5, _ = (T01 * T12 * T23 * T34 * T45)[:, 3]"
   ]
  },
  {
   "cell_type": "code",
   "execution_count": 23,
   "metadata": {
    "collapsed": false
   },
   "outputs": [
    {
     "data": {
      "image/png": "[encoded data removed]",
      "text/latex": [
       "$$a_{0} + a_{1} \\cos{\\left (\\operatorname{q_{1}}{\\left (t \\right )} \\right )} - a_{2} \\left(\\sin{\\left (\\operatorname{q_{1}}{\\left (t \\right )} \\right )} \\sin{\\left (\\operatorname{q_{2}}{\\left (t \\right )} \\right )} \\cos{\\left (\\alpha_{1} \\right )} - \\cos{\\left (\\operatorname{q_{1}}{\\left (t \\right )} \\right )} \\cos{\\left (\\operatorname{q_{2}}{\\left (t \\right )} \\right )}\\right) - a_{3} \\left(\\left(\\sin{\\left (\\operatorname{q_{1}}{\\left (t \\right )} \\right )} \\sin{\\left (\\operatorname{q_{2}}{\\left (t \\right )} \\right )} \\cos{\\left (\\alpha_{1} \\right )} - \\cos{\\left (\\operatorname{q_{1}}{\\left (t \\right )} \\right )} \\cos{\\left (\\operatorname{q_{2}}{\\left (t \\right )} \\right )}\\right) \\cos{\\left (\\operatorname{q_{3}}{\\left (t \\right )} \\right )} + \\left(\\sin{\\left (\\operatorname{q_{1}}{\\left (t \\right )} \\right )} \\cos{\\left (\\alpha_{1} \\right )} \\cos{\\left (\\operatorname{q_{2}}{\\left (t \\right )} \\right )} + \\sin{\\left (\\operatorname{q_{2}}{\\left (t \\right )} \\right )} \\cos{\\left (\\operatorname{q_{1}}{\\left (t \\right )} \\right )}\\right) \\sin{\\left (\\operatorname{q_{3}}{\\left (t \\right )} \\right )} \\cos{\\left (\\alpha_{2} \\right )} - \\sin{\\left (\\alpha_{1} \\right )} \\sin{\\left (\\alpha_{2} \\right )} \\sin{\\left (\\operatorname{q_{1}}{\\left (t \\right )} \\right )} \\sin{\\left (\\operatorname{q_{3}}{\\left (t \\right )} \\right )}\\right) - a_{4} \\left(- \\left(\\left(\\sin{\\left (\\operatorname{q_{1}}{\\left (t \\right )} \\right )} \\cos{\\left (\\alpha_{1} \\right )} \\cos{\\left (\\operatorname{q_{2}}{\\left (t \\right )} \\right )} + \\sin{\\left (\\operatorname{q_{2}}{\\left (t \\right )} \\right )} \\cos{\\left (\\operatorname{q_{1}}{\\left (t \\right )} \\right )}\\right) \\sin{\\left (\\alpha_{2} \\right )} + \\sin{\\left (\\alpha_{1} \\right )} \\sin{\\left (\\operatorname{q_{1}}{\\left (t \\right )} \\right )} \\cos{\\left (\\alpha_{2} \\right )}\\right) \\sin{\\left (\\alpha_{3} \\right )} \\sin{\\left (\\operatorname{q_{4}}{\\left (t \\right )} \\right )} - \\left(\\left(\\sin{\\left (\\operatorname{q_{1}}{\\left (t \\right )} \\right )} \\sin{\\left (\\operatorname{q_{2}}{\\left (t \\right )} \\right )} \\cos{\\left (\\alpha_{1} \\right )} - \\cos{\\left (\\operatorname{q_{1}}{\\left (t \\right )} \\right )} \\cos{\\left (\\operatorname{q_{2}}{\\left (t \\right )} \\right )}\\right) \\sin{\\left (\\operatorname{q_{3}}{\\left (t \\right )} \\right )} - \\left(\\sin{\\left (\\operatorname{q_{1}}{\\left (t \\right )} \\right )} \\cos{\\left (\\alpha_{1} \\right )} \\cos{\\left (\\operatorname{q_{2}}{\\left (t \\right )} \\right )} + \\sin{\\left (\\operatorname{q_{2}}{\\left (t \\right )} \\right )} \\cos{\\left (\\operatorname{q_{1}}{\\left (t \\right )} \\right )}\\right) \\cos{\\left (\\alpha_{2} \\right )} \\cos{\\left (\\operatorname{q_{3}}{\\left (t \\right )} \\right )} + \\sin{\\left (\\alpha_{1} \\right )} \\sin{\\left (\\alpha_{2} \\right )} \\sin{\\left (\\operatorname{q_{1}}{\\left (t \\right )} \\right )} \\cos{\\left (\\operatorname{q_{3}}{\\left (t \\right )} \\right )}\\right) \\sin{\\left (\\operatorname{q_{4}}{\\left (t \\right )} \\right )} \\cos{\\left (\\alpha_{3} \\right )} + \\left(\\left(\\sin{\\left (\\operatorname{q_{1}}{\\left (t \\right )} \\right )} \\sin{\\left (\\operatorname{q_{2}}{\\left (t \\right )} \\right )} \\cos{\\left (\\alpha_{1} \\right )} - \\cos{\\left (\\operatorname{q_{1}}{\\left (t \\right )} \\right )} \\cos{\\left (\\operatorname{q_{2}}{\\left (t \\right )} \\right )}\\right) \\cos{\\left (\\operatorname{q_{3}}{\\left (t \\right )} \\right )} + \\left(\\sin{\\left (\\operatorname{q_{1}}{\\left (t \\right )} \\right )} \\cos{\\left (\\alpha_{1} \\right )} \\cos{\\left (\\operatorname{q_{2}}{\\left (t \\right )} \\right )} + \\sin{\\left (\\operatorname{q_{2}}{\\left (t \\right )} \\right )} \\cos{\\left (\\operatorname{q_{1}}{\\left (t \\right )} \\right )}\\right) \\sin{\\left (\\operatorname{q_{3}}{\\left (t \\right )} \\right )} \\cos{\\left (\\alpha_{2} \\right )} - \\sin{\\left (\\alpha_{1} \\right )} \\sin{\\left (\\alpha_{2} \\right )} \\sin{\\left (\\operatorname{q_{1}}{\\left (t \\right )} \\right )} \\sin{\\left (\\operatorname{q_{3}}{\\left (t \\right )} \\right )}\\right) \\cos{\\left (\\operatorname{q_{4}}{\\left (t \\right )} \\right )}\\right) + d_{2} \\sin{\\left (\\alpha_{1} \\right )} \\sin{\\left (\\operatorname{q_{1}}{\\left (t \\right )} \\right )} + d_{3} \\left(\\sin{\\left (\\operatorname{q_{1}}{\\left (t \\right )} \\right )} \\cos{\\left (\\alpha_{1} \\right )} \\cos{\\left (\\operatorname{q_{2}}{\\left (t \\right )} \\right )} + \\sin{\\left (\\operatorname{q_{2}}{\\left (t \\right )} \\right )} \\cos{\\left (\\operatorname{q_{1}}{\\left (t \\right )} \\right )}\\right) \\sin{\\left (\\alpha_{2} \\right )} + d_{3} \\sin{\\left (\\alpha_{1} \\right )} \\sin{\\left (\\operatorname{q_{1}}{\\left (t \\right )} \\right )} \\cos{\\left (\\alpha_{2} \\right )} + d_{4} \\left(\\left(\\sin{\\left (\\operatorname{q_{1}}{\\left (t \\right )} \\right )} \\cos{\\left (\\alpha_{1} \\right )} \\cos{\\left (\\operatorname{q_{2}}{\\left (t \\right )} \\right )} + \\sin{\\left (\\operatorname{q_{2}}{\\left (t \\right )} \\right )} \\cos{\\left (\\operatorname{q_{1}}{\\left (t \\right )} \\right )}\\right) \\sin{\\left (\\alpha_{2} \\right )} + \\sin{\\left (\\alpha_{1} \\right )} \\sin{\\left (\\operatorname{q_{1}}{\\left (t \\right )} \\right )} \\cos{\\left (\\alpha_{2} \\right )}\\right) \\cos{\\left (\\alpha_{3} \\right )} - d_{4} \\left(\\left(\\sin{\\left (\\operatorname{q_{1}}{\\left (t \\right )} \\right )} \\sin{\\left (\\operatorname{q_{2}}{\\left (t \\right )} \\right )} \\cos{\\left (\\alpha_{1} \\right )} - \\cos{\\left (\\operatorname{q_{1}}{\\left (t \\right )} \\right )} \\cos{\\left (\\operatorname{q_{2}}{\\left (t \\right )} \\right )}\\right) \\sin{\\left (\\operatorname{q_{3}}{\\left (t \\right )} \\right )} - \\left(\\sin{\\left (\\operatorname{q_{1}}{\\left (t \\right )} \\right )} \\cos{\\left (\\alpha_{1} \\right )} \\cos{\\left (\\operatorname{q_{2}}{\\left (t \\right )} \\right )} + \\sin{\\left (\\operatorname{q_{2}}{\\left (t \\right )} \\right )} \\cos{\\left (\\operatorname{q_{1}}{\\left (t \\right )} \\right )}\\right) \\cos{\\left (\\alpha_{2} \\right )} \\cos{\\left (\\operatorname{q_{3}}{\\left (t \\right )} \\right )} + \\sin{\\left (\\alpha_{1} \\right )} \\sin{\\left (\\alpha_{2} \\right )} \\sin{\\left (\\operatorname{q_{1}}{\\left (t \\right )} \\right )} \\cos{\\left (\\operatorname{q_{3}}{\\left (t \\right )} \\right )}\\right) \\sin{\\left (\\alpha_{3} \\right )} + d_{5} \\left(\\left(\\left(\\sin{\\left (\\operatorname{q_{1}}{\\left (t \\right )} \\right )} \\cos{\\left (\\alpha_{1} \\right )} \\cos{\\left (\\operatorname{q_{2}}{\\left (t \\right )} \\right )} + \\sin{\\left (\\operatorname{q_{2}}{\\left (t \\right )} \\right )} \\cos{\\left (\\operatorname{q_{1}}{\\left (t \\right )} \\right )}\\right) \\sin{\\left (\\alpha_{2} \\right )} + \\sin{\\left (\\alpha_{1} \\right )} \\sin{\\left (\\operatorname{q_{1}}{\\left (t \\right )} \\right )} \\cos{\\left (\\alpha_{2} \\right )}\\right) \\cos{\\left (\\alpha_{3} \\right )} - \\left(\\left(\\sin{\\left (\\operatorname{q_{1}}{\\left (t \\right )} \\right )} \\sin{\\left (\\operatorname{q_{2}}{\\left (t \\right )} \\right )} \\cos{\\left (\\alpha_{1} \\right )} - \\cos{\\left (\\operatorname{q_{1}}{\\left (t \\right )} \\right )} \\cos{\\left (\\operatorname{q_{2}}{\\left (t \\right )} \\right )}\\right) \\sin{\\left (\\operatorname{q_{3}}{\\left (t \\right )} \\right )} - \\left(\\sin{\\left (\\operatorname{q_{1}}{\\left (t \\right )} \\right )} \\cos{\\left (\\alpha_{1} \\right )} \\cos{\\left (\\operatorname{q_{2}}{\\left (t \\right )} \\right )} + \\sin{\\left (\\operatorname{q_{2}}{\\left (t \\right )} \\right )} \\cos{\\left (\\operatorname{q_{1}}{\\left (t \\right )} \\right )}\\right) \\cos{\\left (\\alpha_{2} \\right )} \\cos{\\left (\\operatorname{q_{3}}{\\left (t \\right )} \\right )} + \\sin{\\left (\\alpha_{1} \\right )} \\sin{\\left (\\alpha_{2} \\right )} \\sin{\\left (\\operatorname{q_{1}}{\\left (t \\right )} \\right )} \\cos{\\left (\\operatorname{q_{3}}{\\left (t \\right )} \\right )}\\right) \\sin{\\left (\\alpha_{3} \\right )}\\right) \\cos{\\left (\\alpha_{4} \\right )} - d_{5} \\left(\\left(\\left(\\sin{\\left (\\operatorname{q_{1}}{\\left (t \\right )} \\right )} \\cos{\\left (\\alpha_{1} \\right )} \\cos{\\left (\\operatorname{q_{2}}{\\left (t \\right )} \\right )} + \\sin{\\left (\\operatorname{q_{2}}{\\left (t \\right )} \\right )} \\cos{\\left (\\operatorname{q_{1}}{\\left (t \\right )} \\right )}\\right) \\sin{\\left (\\alpha_{2} \\right )} + \\sin{\\left (\\alpha_{1} \\right )} \\sin{\\left (\\operatorname{q_{1}}{\\left (t \\right )} \\right )} \\cos{\\left (\\alpha_{2} \\right )}\\right) \\sin{\\left (\\alpha_{3} \\right )} \\cos{\\left (\\operatorname{q_{4}}{\\left (t \\right )} \\right )} - \\left(- \\left(\\sin{\\left (\\operatorname{q_{1}}{\\left (t \\right )} \\right )} \\sin{\\left (\\operatorname{q_{2}}{\\left (t \\right )} \\right )} \\cos{\\left (\\alpha_{1} \\right )} - \\cos{\\left (\\operatorname{q_{1}}{\\left (t \\right )} \\right )} \\cos{\\left (\\operatorname{q_{2}}{\\left (t \\right )} \\right )}\\right) \\sin{\\left (\\operatorname{q_{3}}{\\left (t \\right )} \\right )} + \\left(\\sin{\\left (\\operatorname{q_{1}}{\\left (t \\right )} \\right )} \\cos{\\left (\\alpha_{1} \\right )} \\cos{\\left (\\operatorname{q_{2}}{\\left (t \\right )} \\right )} + \\sin{\\left (\\operatorname{q_{2}}{\\left (t \\right )} \\right )} \\cos{\\left (\\operatorname{q_{1}}{\\left (t \\right )} \\right )}\\right) \\cos{\\left (\\alpha_{2} \\right )} \\cos{\\left (\\operatorname{q_{3}}{\\left (t \\right )} \\right )} - \\sin{\\left (\\alpha_{1} \\right )} \\sin{\\left (\\alpha_{2} \\right )} \\sin{\\left (\\operatorname{q_{1}}{\\left (t \\right )} \\right )} \\cos{\\left (\\operatorname{q_{3}}{\\left (t \\right )} \\right )}\\right) \\cos{\\left (\\alpha_{3} \\right )} \\cos{\\left (\\operatorname{q_{4}}{\\left (t \\right )} \\right )} + \\left(\\left(\\sin{\\left (\\operatorname{q_{1}}{\\left (t \\right )} \\right )} \\sin{\\left (\\operatorname{q_{2}}{\\left (t \\right )} \\right )} \\cos{\\left (\\alpha_{1} \\right )} - \\cos{\\left (\\operatorname{q_{1}}{\\left (t \\right )} \\right )} \\cos{\\left (\\operatorname{q_{2}}{\\left (t \\right )} \\right )}\\right) \\cos{\\left (\\operatorname{q_{3}}{\\left (t \\right )} \\right )} + \\left(\\sin{\\left (\\operatorname{q_{1}}{\\left (t \\right )} \\right )} \\cos{\\left (\\alpha_{1} \\right )} \\cos{\\left (\\operatorname{q_{2}}{\\left (t \\right )} \\right )} + \\sin{\\left (\\operatorname{q_{2}}{\\left (t \\right )} \\right )} \\cos{\\left (\\operatorname{q_{1}}{\\left (t \\right )} \\right )}\\right) \\sin{\\left (\\operatorname{q_{3}}{\\left (t \\right )} \\right )} \\cos{\\left (\\alpha_{2} \\right )} - \\sin{\\left (\\alpha_{1} \\right )} \\sin{\\left (\\alpha_{2} \\right )} \\sin{\\left (\\operatorname{q_{1}}{\\left (t \\right )} \\right )} \\sin{\\left (\\operatorname{q_{3}}{\\left (t \\right )} \\right )}\\right) \\sin{\\left (\\operatorname{q_{4}}{\\left (t \\right )} \\right )}\\right) \\sin{\\left (\\alpha_{4} \\right )}$$"
      ],
      "text/plain": [
       "a₀ + a₁⋅cos(q₁(t)) - a₂⋅(sin(q₁(t))⋅sin(q₂(t))⋅cos(α₁) - cos(q₁(t))⋅cos(q₂(t))\n",
       ") - a₃⋅((sin(q₁(t))⋅sin(q₂(t))⋅cos(α₁) - cos(q₁(t))⋅cos(q₂(t)))⋅cos(q₃(t)) + (\n",
       "sin(q₁(t))⋅cos(α₁)⋅cos(q₂(t)) + sin(q₂(t))⋅cos(q₁(t)))⋅sin(q₃(t))⋅cos(α₂) - si\n",
       "n(α₁)⋅sin(α₂)⋅sin(q₁(t))⋅sin(q₃(t))) - a₄⋅(-((sin(q₁(t))⋅cos(α₁)⋅cos(q₂(t)) + \n",
       "sin(q₂(t))⋅cos(q₁(t)))⋅sin(α₂) + sin(α₁)⋅sin(q₁(t))⋅cos(α₂))⋅sin(α₃)⋅sin(q₄(t)\n",
       ") - ((sin(q₁(t))⋅sin(q₂(t))⋅cos(α₁) - cos(q₁(t))⋅cos(q₂(t)))⋅sin(q₃(t)) - (sin\n",
       "(q₁(t))⋅cos(α₁)⋅cos(q₂(t)) + sin(q₂(t))⋅cos(q₁(t)))⋅cos(α₂)⋅cos(q₃(t)) + sin(α\n",
       "₁)⋅sin(α₂)⋅sin(q₁(t))⋅cos(q₃(t)))⋅sin(q₄(t))⋅cos(α₃) + ((sin(q₁(t))⋅sin(q₂(t))\n",
       "⋅cos(α₁) - cos(q₁(t))⋅cos(q₂(t)))⋅cos(q₃(t)) + (sin(q₁(t))⋅cos(α₁)⋅cos(q₂(t)) \n",
       "+ sin(q₂(t))⋅cos(q₁(t)))⋅sin(q₃(t))⋅cos(α₂) - sin(α₁)⋅sin(α₂)⋅sin(q₁(t))⋅sin(q\n",
       "₃(t)))⋅cos(q₄(t))) + d₂⋅sin(α₁)⋅sin(q₁(t)) + d₃⋅(sin(q₁(t))⋅cos(α₁)⋅cos(q₂(t))\n",
       " + sin(q₂(t))⋅cos(q₁(t)))⋅sin(α₂) + d₃⋅sin(α₁)⋅sin(q₁(t))⋅cos(α₂) + d₄⋅((sin(q\n",
       "₁(t))⋅cos(α₁)⋅cos(q₂(t)) + sin(q₂(t))⋅cos(q₁(t)))⋅sin(α₂) + sin(α₁)⋅sin(q₁(t))\n",
       "⋅cos(α₂))⋅cos(α₃) - d₄⋅((sin(q₁(t))⋅sin(q₂(t))⋅cos(α₁) - cos(q₁(t))⋅cos(q₂(t))\n",
       ")⋅sin(q₃(t)) - (sin(q₁(t))⋅cos(α₁)⋅cos(q₂(t)) + sin(q₂(t))⋅cos(q₁(t)))⋅cos(α₂)\n",
       "⋅cos(q₃(t)) + sin(α₁)⋅sin(α₂)⋅sin(q₁(t))⋅cos(q₃(t)))⋅sin(α₃) + d₅⋅(((sin(q₁(t)\n",
       ")⋅cos(α₁)⋅cos(q₂(t)) + sin(q₂(t))⋅cos(q₁(t)))⋅sin(α₂) + sin(α₁)⋅sin(q₁(t))⋅cos\n",
       "(α₂))⋅cos(α₃) - ((sin(q₁(t))⋅sin(q₂(t))⋅cos(α₁) - cos(q₁(t))⋅cos(q₂(t)))⋅sin(q\n",
       "₃(t)) - (sin(q₁(t))⋅cos(α₁)⋅cos(q₂(t)) + sin(q₂(t))⋅cos(q₁(t)))⋅cos(α₂)⋅cos(q₃\n",
       "(t)) + sin(α₁)⋅sin(α₂)⋅sin(q₁(t))⋅cos(q₃(t)))⋅sin(α₃))⋅cos(α₄) - d₅⋅(((sin(q₁(\n",
       "t))⋅cos(α₁)⋅cos(q₂(t)) + sin(q₂(t))⋅cos(q₁(t)))⋅sin(α₂) + sin(α₁)⋅sin(q₁(t))⋅c\n",
       "os(α₂))⋅sin(α₃)⋅cos(q₄(t)) - (-(sin(q₁(t))⋅sin(q₂(t))⋅cos(α₁) - cos(q₁(t))⋅cos\n",
       "(q₂(t)))⋅sin(q₃(t)) + (sin(q₁(t))⋅cos(α₁)⋅cos(q₂(t)) + sin(q₂(t))⋅cos(q₁(t)))⋅\n",
       "cos(α₂)⋅cos(q₃(t)) - sin(α₁)⋅sin(α₂)⋅sin(q₁(t))⋅cos(q₃(t)))⋅cos(α₃)⋅cos(q₄(t))\n",
       " + ((sin(q₁(t))⋅sin(q₂(t))⋅cos(α₁) - cos(q₁(t))⋅cos(q₂(t)))⋅cos(q₃(t)) + (sin(\n",
       "q₁(t))⋅cos(α₁)⋅cos(q₂(t)) + sin(q₂(t))⋅cos(q₁(t)))⋅sin(q₃(t))⋅cos(α₂) - sin(α₁\n",
       ")⋅sin(α₂)⋅sin(q₁(t))⋅sin(q₃(t)))⋅sin(q₄(t)))⋅sin(α₄)"
      ]
     },
     "execution_count": 23,
     "metadata": {},
     "output_type": "execute_result"
    }
   ],
   "source": [
    "simplify(x5)"
   ]
  },
  {
   "cell_type": "code",
   "execution_count": 24,
   "metadata": {
    "collapsed": false
   },
   "outputs": [],
   "source": [
    "x1, y1, z1, _ = (T01)[:, 3]"
   ]
  },
  {
   "cell_type": "code",
   "execution_count": 25,
   "metadata": {
    "collapsed": false
   },
   "outputs": [
    {
     "data": {
      "image/png": "[encoded data removed]",
      "text/latex": [
       "$$0$$"
      ],
      "text/plain": [
       "0"
      ]
     },
     "execution_count": 25,
     "metadata": {},
     "output_type": "execute_result"
    }
   ],
   "source": [
    "x1.subs(dh_params)"
   ]
  },
  {
   "cell_type": "code",
   "execution_count": 26,
   "metadata": {
    "collapsed": false
   },
   "outputs": [
    {
     "data": {
      "image/png": "[encoded data removed]",
      "text/latex": [
       "$$0$$"
      ],
      "text/plain": [
       "0"
      ]
     },
     "execution_count": 26,
     "metadata": {},
     "output_type": "execute_result"
    }
   ],
   "source": [
    "y1.subs(dh_params)"
   ]
  },
  {
   "cell_type": "code",
   "execution_count": 27,
   "metadata": {
    "collapsed": false
   },
   "outputs": [
    {
     "data": {
      "image/png": "[encoded data removed]",
      "text/latex": [
       "$$0.08916$$"
      ],
      "text/plain": [
       "0.0891600000000000"
      ]
     },
     "execution_count": 27,
     "metadata": {},
     "output_type": "execute_result"
    }
   ],
   "source": [
    "z1.subs(dh_params)"
   ]
  },
  {
   "cell_type": "code",
   "execution_count": 28,
   "metadata": {
    "collapsed": false
   },
   "outputs": [],
   "source": [
    "x2, y2, z2, _ = (T01 * T12)[:, 3]"
   ]
  },
  {
   "cell_type": "code",
   "execution_count": 29,
   "metadata": {
    "collapsed": true
   },
   "outputs": [],
   "source": [
    "init_printing()"
   ]
  },
  {
   "cell_type": "code",
   "execution_count": 30,
   "metadata": {
    "collapsed": false
   },
   "outputs": [
    {
     "data": {
      "image/png": "[encoded data removed]",
      "text/latex": [
       "$$\\left \\{ a_{0} : 0, \\quad a_{1} : 0, \\quad a_{2} : 0.425, \\quad a_{3} : 0.39225, \\quad a_{4} : 0, \\quad a_{5} : 0, \\quad \\alpha_{0} : 0, \\quad \\alpha_{1} : \\frac{\\pi}{2}, \\quad \\alpha_{2} : 0, \\quad \\alpha_{3} : 0, \\quad \\alpha_{4} : \\frac{\\pi}{2}, \\quad \\alpha_{5} : - \\frac{\\pi}{2}, \\quad d_{1} : 0.08916, \\quad d_{2} : 0, \\quad d_{3} : 0, \\quad d_{4} : 0.10915, \\quad d_{5} : 0.09456, \\quad d_{6} : 0.0823, \\quad \\operatorname{q_{1}}{\\left (t \\right )} : \\operatorname{q_{1}}{\\left (t \\right )}, \\quad \\operatorname{q_{2}}{\\left (t \\right )} : \\operatorname{q_{2}}{\\left (t \\right )}, \\quad \\operatorname{q_{3}}{\\left (t \\right )} : \\operatorname{q_{3}}{\\left (t \\right )}, \\quad \\operatorname{q_{4}}{\\left (t \\right )} : \\operatorname{q_{4}}{\\left (t \\right )}, \\quad \\operatorname{q_{5}}{\\left (t \\right )} : \\operatorname{q_{5}}{\\left (t \\right )}, \\quad \\operatorname{q_{6}}{\\left (t \\right )} : \\operatorname{q_{6}}{\\left (t \\right )}\\right \\}$$"
      ],
      "text/plain": [
       "⎧                                                               π             \n",
       "⎨a₀: 0, a₁: 0, a₂: 0.425, a₃: 0.39225, a₄: 0, a₅: 0, α₀: 0, α₁: ─, α₂: 0, α₃: \n",
       "⎩                                                               2             \n",
       "\n",
       "       π      -π                                                              \n",
       "0, α₄: ─, α₅: ───, d₁: 0.08916, d₂: 0, d₃: 0, d₄: 0.10915, d₅: 0.09456, d₆: 0.\n",
       "       2       2                                                              \n",
       "\n",
       "                                                                              \n",
       "0823, q₁(t): q₁(t), q₂(t): q₂(t), q₃(t): q₃(t), q₄(t): q₄(t), q₅(t): q₅(t), q₆\n",
       "                                                                              \n",
       "\n",
       "          ⎫\n",
       "(t): q₆(t)⎬\n",
       "          ⎭"
      ]
     },
     "execution_count": 30,
     "metadata": {},
     "output_type": "execute_result"
    }
   ],
   "source": [
    "dh_params"
   ]
  },
  {
   "cell_type": "code",
   "execution_count": 31,
   "metadata": {
    "collapsed": false
   },
   "outputs": [
    {
     "data": {
      "image/png": "[encoded data removed]",
      "text/latex": [
       "$$0$$"
      ],
      "text/plain": [
       "0"
      ]
     },
     "execution_count": 31,
     "metadata": {},
     "output_type": "execute_result"
    }
   ],
   "source": [
    "x1.subs(dh_params)"
   ]
  },
  {
   "cell_type": "code",
   "execution_count": 32,
   "metadata": {
    "collapsed": false
   },
   "outputs": [
    {
     "data": {
      "image/png": "[encoded data removed]",
      "text/latex": [
       "$$0$$"
      ],
      "text/plain": [
       "0"
      ]
     },
     "execution_count": 32,
     "metadata": {},
     "output_type": "execute_result"
    }
   ],
   "source": [
    "y1.subs(dh_params)"
   ]
  },
  {
   "cell_type": "code",
   "execution_count": 33,
   "metadata": {
    "collapsed": false
   },
   "outputs": [
    {
     "data": {
      "image/png": "[encoded data removed]",
      "text/latex": [
       "$$0.08916$$"
      ],
      "text/plain": [
       "0.0891600000000000"
      ]
     },
     "execution_count": 33,
     "metadata": {},
     "output_type": "execute_result"
    }
   ],
   "source": [
    "z1.subs(dh_params)"
   ]
  },
  {
   "cell_type": "code",
   "execution_count": 34,
   "metadata": {
    "collapsed": false
   },
   "outputs": [
    {
     "data": {
      "image/png": "[encoded data removed]",
      "text/latex": [
       "$$0$$"
      ],
      "text/plain": [
       "0"
      ]
     },
     "execution_count": 34,
     "metadata": {},
     "output_type": "execute_result"
    }
   ],
   "source": [
    "x2.subs(dh_params)"
   ]
  },
  {
   "cell_type": "code",
   "execution_count": 35,
   "metadata": {
    "collapsed": false
   },
   "outputs": [
    {
     "data": {
      "image/png": "[encoded data removed]",
      "text/latex": [
       "$$0$$"
      ],
      "text/plain": [
       "0"
      ]
     },
     "execution_count": 35,
     "metadata": {},
     "output_type": "execute_result"
    }
   ],
   "source": [
    "y2.subs(dh_params)"
   ]
  },
  {
   "cell_type": "code",
   "execution_count": 36,
   "metadata": {
    "collapsed": false
   },
   "outputs": [
    {
     "data": {
      "image/png": "[encoded data removed]",
      "text/latex": [
       "$$0.08916$$"
      ],
      "text/plain": [
       "0.0891600000000000"
      ]
     },
     "execution_count": 36,
     "metadata": {},
     "output_type": "execute_result"
    }
   ],
   "source": [
    "z2.subs(dh_params)"
   ]
  },
  {
   "cell_type": "code",
   "execution_count": 37,
   "metadata": {
    "collapsed": false
   },
   "outputs": [],
   "source": [
    "x3, y3, z3, _ = (T01 * T12 * T23)[:,3]"
   ]
  },
  {
   "cell_type": "code",
   "execution_count": 38,
   "metadata": {
    "collapsed": false
   },
   "outputs": [
    {
     "data": {
      "image/png": "[encoded data removed]",
      "text/latex": [
       "$$0.425 \\cos{\\left (\\operatorname{q_{1}}{\\left (t \\right )} \\right )} \\cos{\\left (\\operatorname{q_{2}}{\\left (t \\right )} \\right )}$$"
      ],
      "text/plain": [
       "0.425⋅cos(q₁(t))⋅cos(q₂(t))"
      ]
     },
     "execution_count": 38,
     "metadata": {},
     "output_type": "execute_result"
    }
   ],
   "source": [
    "x3.subs(dh_params)"
   ]
  },
  {
   "cell_type": "code",
   "execution_count": 39,
   "metadata": {
    "collapsed": false
   },
   "outputs": [
    {
     "data": {
      "image/png": "[encoded data removed]",
      "text/latex": [
       "$$0.425 \\sin{\\left (\\operatorname{q_{1}}{\\left (t \\right )} \\right )} \\cos{\\left (\\operatorname{q_{2}}{\\left (t \\right )} \\right )}$$"
      ],
      "text/plain": [
       "0.425⋅sin(q₁(t))⋅cos(q₂(t))"
      ]
     },
     "execution_count": 39,
     "metadata": {},
     "output_type": "execute_result"
    }
   ],
   "source": [
    "y3.subs(dh_params)"
   ]
  },
  {
   "cell_type": "code",
   "execution_count": 40,
   "metadata": {
    "collapsed": false
   },
   "outputs": [
    {
     "data": {
      "image/png": "[encoded data removed]",
      "text/latex": [
       "$$0.425 \\sin{\\left (\\operatorname{q_{2}}{\\left (t \\right )} \\right )} + 0.08916$$"
      ],
      "text/plain": [
       "0.425⋅sin(q₂(t)) + 0.08916"
      ]
     },
     "execution_count": 40,
     "metadata": {},
     "output_type": "execute_result"
    }
   ],
   "source": [
    "z3.subs(dh_params)"
   ]
  },
  {
   "cell_type": "code",
   "execution_count": 41,
   "metadata": {
    "collapsed": false
   },
   "outputs": [
    {
     "data": {
      "image/png": "[encoded data removed]",
      "text/latex": [
       "$$0.51416$$"
      ],
      "text/plain": [
       "0.514160000000000"
      ]
     },
     "execution_count": 41,
     "metadata": {},
     "output_type": "execute_result"
    }
   ],
   "source": [
    "z3.subs(dh_params).subs({q2: pi/2})"
   ]
  },
  {
   "cell_type": "code",
   "execution_count": 42,
   "metadata": {
    "collapsed": false
   },
   "outputs": [
    {
     "data": {
      "image/png": "[encoded data removed]",
      "text/latex": [
       "$$0.425$$"
      ],
      "text/plain": [
       "0.425000000000000"
      ]
     },
     "execution_count": 42,
     "metadata": {},
     "output_type": "execute_result"
    }
   ],
   "source": [
    "x3.subs(dh_params).subs({q1: 0, q2: 0})"
   ]
  },
  {
   "cell_type": "code",
   "execution_count": 43,
   "metadata": {
    "collapsed": false
   },
   "outputs": [],
   "source": [
    "temp1 = y3.subs(dh_params).subs({q1: pi/4, q2: pi/4})"
   ]
  },
  {
   "cell_type": "code",
   "execution_count": 44,
   "metadata": {
    "collapsed": false
   },
   "outputs": [
    {
     "data": {
      "image/png": "[encoded data removed]",
      "text/latex": [
       "$$0.2125$$"
      ],
      "text/plain": [
       "0.212500000000000"
      ]
     },
     "execution_count": 44,
     "metadata": {},
     "output_type": "execute_result"
    }
   ],
   "source": [
    "temp1\n",
    "N(temp1)"
   ]
  },
  {
   "cell_type": "code",
   "execution_count": 45,
   "metadata": {
    "collapsed": false
   },
   "outputs": [
    {
     "data": {
      "image/png": "[encoded data removed]",
      "text/latex": [
       "$$0$$"
      ],
      "text/plain": [
       "0"
      ]
     },
     "execution_count": 45,
     "metadata": {},
     "output_type": "execute_result"
    }
   ],
   "source": [
    "simplify(y3.subs(dh_params)).subs({q1: pi, q2: pi/2})"
   ]
  },
  {
   "cell_type": "code",
   "execution_count": 46,
   "metadata": {
    "collapsed": false
   },
   "outputs": [
    {
     "data": {
      "image/png": "[encoded data removed]",
      "text/latex": [
       "$$0.51416$$"
      ],
      "text/plain": [
       "0.514160000000000"
      ]
     },
     "execution_count": 46,
     "metadata": {},
     "output_type": "execute_result"
    }
   ],
   "source": [
    "N(z3.subs(dh_params).subs({q2: pi/2}))"
   ]
  },
  {
   "cell_type": "code",
   "execution_count": 47,
   "metadata": {
    "collapsed": false
   },
   "outputs": [
    {
     "data": {
      "image/png": "[encoded data removed]",
      "text/latex": [
       "$$0.51416$$"
      ],
      "text/plain": [
       "0.514160000000000"
      ]
     },
     "execution_count": 47,
     "metadata": {},
     "output_type": "execute_result"
    }
   ],
   "source": [
    "z3.subs(dh_params).subs({q2: pi/2})"
   ]
  },
  {
   "cell_type": "code",
   "execution_count": 48,
   "metadata": {
    "collapsed": false
   },
   "outputs": [],
   "source": [
    "x4, y4, z4, _ = (T01 * T12 * T23 * T34)[:, 3]"
   ]
  },
  {
   "cell_type": "code",
   "execution_count": 49,
   "metadata": {
    "collapsed": false
   },
   "outputs": [
    {
     "data": {
      "image/png": "[encoded data removed]",
      "text/latex": [
       "$$0.39225 \\cos{\\left (\\operatorname{q_{3}}{\\left (t \\right )} \\right )} + 0.51416$$"
      ],
      "text/plain": [
       "0.39225⋅cos(q₃(t)) + 0.51416"
      ]
     },
     "execution_count": 49,
     "metadata": {},
     "output_type": "execute_result"
    }
   ],
   "source": [
    "z4.subs(dh_params).subs({q2: pi/2})"
   ]
  },
  {
   "cell_type": "code",
   "execution_count": 50,
   "metadata": {
    "collapsed": false
   },
   "outputs": [
    {
     "data": {
      "image/png": "[encoded data removed]",
      "text/latex": [
       "$$0.39225 \\sin{\\left (\\operatorname{q_{2}}{\\left (t \\right )} \\right )} \\cos{\\left (\\operatorname{q_{3}}{\\left (t \\right )} \\right )} + 0.425 \\sin{\\left (\\operatorname{q_{2}}{\\left (t \\right )} \\right )} + 0.39225 \\sin{\\left (\\operatorname{q_{3}}{\\left (t \\right )} \\right )} \\cos{\\left (\\operatorname{q_{2}}{\\left (t \\right )} \\right )} + 0.08916$$"
      ],
      "text/plain": [
       "0.39225⋅sin(q₂(t))⋅cos(q₃(t)) + 0.425⋅sin(q₂(t)) + 0.39225⋅sin(q₃(t))⋅cos(q₂(t\n",
       ")) + 0.08916"
      ]
     },
     "execution_count": 50,
     "metadata": {},
     "output_type": "execute_result"
    }
   ],
   "source": [
    "z4.subs(dh_params)"
   ]
  },
  {
   "cell_type": "code",
   "execution_count": 51,
   "metadata": {
    "collapsed": false
   },
   "outputs": [
    {
     "data": {
      "image/png": "[encoded data removed]",
      "text/latex": [
       "$$0.39225 \\cos{\\left (\\operatorname{q_{3}}{\\left (t \\right )} \\right )} + 0.51416$$"
      ],
      "text/plain": [
       "0.39225⋅cos(q₃(t)) + 0.51416"
      ]
     },
     "execution_count": 51,
     "metadata": {},
     "output_type": "execute_result"
    }
   ],
   "source": [
    "z4.subs(dh_params).subs({q2: pi/2})"
   ]
  },
  {
   "cell_type": "code",
   "execution_count": 52,
   "metadata": {
    "collapsed": false
   },
   "outputs": [
    {
     "data": {
      "image/png": "[encoded data removed]",
      "text/latex": [
       "$$0.10915 \\sin{\\left (\\operatorname{q_{1}}{\\left (t \\right )} \\right )} - 0.39225 \\sin{\\left (\\operatorname{q_{2}}{\\left (t \\right )} \\right )} \\sin{\\left (\\operatorname{q_{3}}{\\left (t \\right )} \\right )} \\cos{\\left (\\operatorname{q_{1}}{\\left (t \\right )} \\right )} + 0.39225 \\cos{\\left (\\operatorname{q_{1}}{\\left (t \\right )} \\right )} \\cos{\\left (\\operatorname{q_{2}}{\\left (t \\right )} \\right )} \\cos{\\left (\\operatorname{q_{3}}{\\left (t \\right )} \\right )} + 0.425 \\cos{\\left (\\operatorname{q_{1}}{\\left (t \\right )} \\right )} \\cos{\\left (\\operatorname{q_{2}}{\\left (t \\right )} \\right )}$$"
      ],
      "text/plain": [
       "0.10915⋅sin(q₁(t)) - 0.39225⋅sin(q₂(t))⋅sin(q₃(t))⋅cos(q₁(t)) + 0.39225⋅cos(q₁\n",
       "(t))⋅cos(q₂(t))⋅cos(q₃(t)) + 0.425⋅cos(q₁(t))⋅cos(q₂(t))"
      ]
     },
     "execution_count": 52,
     "metadata": {},
     "output_type": "execute_result"
    }
   ],
   "source": [
    "x4.subs(dh_params)"
   ]
  },
  {
   "cell_type": "code",
   "execution_count": 71,
   "metadata": {
    "collapsed": false
   },
   "outputs": [
    {
     "data": {
      "image/png": "[encoded data removed]",
      "text/latex": [
       "$$- 0.39225 \\operatorname{sin}\\left(q_{1}\\right) \\operatorname{sin}\\left(q_{2}\\right) \\operatorname{sin}\\left(q_{3}\\right) + 0.39225 \\operatorname{sin}\\left(q_{1}\\right) \\operatorname{cos}\\left(q_{2}\\right) \\operatorname{cos}\\left(q_{3}\\right) + 0.425 \\operatorname{sin}\\left(q_{1}\\right) \\operatorname{cos}\\left(q_{2}\\right) - 0.10915 \\operatorname{cos}\\left(q_{1}\\right)$$"
      ],
      "text/plain": [
       "-0.39225⋅sin(q₁)⋅sin(q₂)⋅sin(q₃) + 0.39225⋅sin(q₁)⋅cos(q₂)⋅cos(q₃) + 0.425⋅sin\n",
       "(q₁)⋅cos(q₂) - 0.10915⋅cos(q₁)"
      ]
     },
     "execution_count": 71,
     "metadata": {},
     "output_type": "execute_result"
    }
   ],
   "source": [
    "y4.subs(dh_params)"
   ]
  },
  {
   "cell_type": "code",
   "execution_count": 74,
   "metadata": {
    "collapsed": false
   },
   "outputs": [
    {
     "data": {
      "image/png": "[encoded data removed]",
      "text/latex": [
       "$$0.39225 \\operatorname{sin}\\left(q_{2}\\right) \\operatorname{cos}\\left(q_{3}\\right) + 0.425 \\operatorname{sin}\\left(q_{2}\\right) + 0.39225 \\operatorname{sin}\\left(q_{3}\\right) \\operatorname{cos}\\left(q_{2}\\right) + 0.08916$$"
      ],
      "text/plain": [
       "0.39225⋅sin(q₂)⋅cos(q₃) + 0.425⋅sin(q₂) + 0.39225⋅sin(q₃)⋅cos(q₂) + 0.08916"
      ]
     },
     "execution_count": 74,
     "metadata": {},
     "output_type": "execute_result"
    }
   ],
   "source": [
    "z4.subs(dh_params)"
   ]
  },
  {
   "cell_type": "code",
   "execution_count": 75,
   "metadata": {
    "collapsed": true
   },
   "outputs": [],
   "source": [
    "x5, y5, z5, _ = (T01 * T12 * T23 * T34 * T45)[:, 3]"
   ]
  },
  {
   "cell_type": "code",
   "execution_count": 80,
   "metadata": {
    "collapsed": false
   },
   "outputs": [
    {
     "data": {
      "image/png": "[encoded data removed]",
      "text/latex": [
       "$$0.09456 \\left(- \\operatorname{sin}\\left(q_{2}\\right) \\operatorname{sin}\\left(q_{3}\\right) \\operatorname{cos}\\left(q_{1}\\right) + \\operatorname{cos}\\left(q_{1}\\right) \\operatorname{cos}\\left(q_{2}\\right) \\operatorname{cos}\\left(q_{3}\\right)\\right) \\operatorname{sin}\\left(q_{4}\\right) - 0.09456 \\left(- \\operatorname{sin}\\left(q_{2}\\right) \\operatorname{cos}\\left(q_{1}\\right) \\operatorname{cos}\\left(q_{3}\\right) - \\operatorname{sin}\\left(q_{3}\\right) \\operatorname{cos}\\left(q_{1}\\right) \\operatorname{cos}\\left(q_{2}\\right)\\right) \\operatorname{cos}\\left(q_{4}\\right) + 0.10915 \\operatorname{sin}\\left(q_{1}\\right) - 0.39225 \\operatorname{sin}\\left(q_{2}\\right) \\operatorname{sin}\\left(q_{3}\\right) \\operatorname{cos}\\left(q_{1}\\right) + 0.39225 \\operatorname{cos}\\left(q_{1}\\right) \\operatorname{cos}\\left(q_{2}\\right) \\operatorname{cos}\\left(q_{3}\\right) + 0.425 \\operatorname{cos}\\left(q_{1}\\right) \\operatorname{cos}\\left(q_{2}\\right)$$"
      ],
      "text/plain": [
       "0.09456⋅(-sin(q₂)⋅sin(q₃)⋅cos(q₁) + cos(q₁)⋅cos(q₂)⋅cos(q₃))⋅sin(q₄) - 0.09456\n",
       "⋅(-sin(q₂)⋅cos(q₁)⋅cos(q₃) - sin(q₃)⋅cos(q₁)⋅cos(q₂))⋅cos(q₄) + 0.10915⋅sin(q₁\n",
       ") - 0.39225⋅sin(q₂)⋅sin(q₃)⋅cos(q₁) + 0.39225⋅cos(q₁)⋅cos(q₂)⋅cos(q₃) + 0.425⋅\n",
       "cos(q₁)⋅cos(q₂)"
      ]
     },
     "execution_count": 80,
     "metadata": {},
     "output_type": "execute_result"
    }
   ],
   "source": [
    "x5.subs(dh_params)"
   ]
  },
  {
   "cell_type": "code",
   "execution_count": 77,
   "metadata": {
    "collapsed": false
   },
   "outputs": [
    {
     "data": {
      "image/png": "[encoded data removed]",
      "text/latex": [
       "$$0.09456 \\left(- \\operatorname{sin}\\left(q_{1}\\right) \\operatorname{sin}\\left(q_{2}\\right) \\operatorname{sin}\\left(q_{3}\\right) + \\operatorname{sin}\\left(q_{1}\\right) \\operatorname{cos}\\left(q_{2}\\right) \\operatorname{cos}\\left(q_{3}\\right)\\right) \\operatorname{sin}\\left(q_{4}\\right) - 0.09456 \\left(- \\operatorname{sin}\\left(q_{1}\\right) \\operatorname{sin}\\left(q_{2}\\right) \\operatorname{cos}\\left(q_{3}\\right) - \\operatorname{sin}\\left(q_{1}\\right) \\operatorname{sin}\\left(q_{3}\\right) \\operatorname{cos}\\left(q_{2}\\right)\\right) \\operatorname{cos}\\left(q_{4}\\right) - 0.39225 \\operatorname{sin}\\left(q_{1}\\right) \\operatorname{sin}\\left(q_{2}\\right) \\operatorname{sin}\\left(q_{3}\\right) + 0.39225 \\operatorname{sin}\\left(q_{1}\\right) \\operatorname{cos}\\left(q_{2}\\right) \\operatorname{cos}\\left(q_{3}\\right) + 0.425 \\operatorname{sin}\\left(q_{1}\\right) \\operatorname{cos}\\left(q_{2}\\right) - 0.10915 \\operatorname{cos}\\left(q_{1}\\right)$$"
      ],
      "text/plain": [
       "0.09456⋅(-sin(q₁)⋅sin(q₂)⋅sin(q₃) + sin(q₁)⋅cos(q₂)⋅cos(q₃))⋅sin(q₄) - 0.09456\n",
       "⋅(-sin(q₁)⋅sin(q₂)⋅cos(q₃) - sin(q₁)⋅sin(q₃)⋅cos(q₂))⋅cos(q₄) - 0.39225⋅sin(q₁\n",
       ")⋅sin(q₂)⋅sin(q₃) + 0.39225⋅sin(q₁)⋅cos(q₂)⋅cos(q₃) + 0.425⋅sin(q₁)⋅cos(q₂) - \n",
       "0.10915⋅cos(q₁)"
      ]
     },
     "execution_count": 77,
     "metadata": {},
     "output_type": "execute_result"
    }
   ],
   "source": [
    "y5.subs(dh_params)"
   ]
  },
  {
   "cell_type": "code",
   "execution_count": 79,
   "metadata": {
    "collapsed": false
   },
   "outputs": [
    {
     "data": {
      "image/png": "[encoded data removed]",
      "text/latex": [
       "$$- 0.09456 \\left(- \\operatorname{sin}\\left(q_{2}\\right) \\operatorname{sin}\\left(q_{3}\\right) + \\operatorname{cos}\\left(q_{2}\\right) \\operatorname{cos}\\left(q_{3}\\right)\\right) \\operatorname{cos}\\left(q_{4}\\right) + 0.09456 \\left(\\operatorname{sin}\\left(q_{2}\\right) \\operatorname{cos}\\left(q_{3}\\right) + \\operatorname{sin}\\left(q_{3}\\right) \\operatorname{cos}\\left(q_{2}\\right)\\right) \\operatorname{sin}\\left(q_{4}\\right) + 0.39225 \\operatorname{sin}\\left(q_{2}\\right) \\operatorname{cos}\\left(q_{3}\\right) + 0.425 \\operatorname{sin}\\left(q_{2}\\right) + 0.39225 \\operatorname{sin}\\left(q_{3}\\right) \\operatorname{cos}\\left(q_{2}\\right) + 0.08916$$"
      ],
      "text/plain": [
       "-0.09456⋅(-sin(q₂)⋅sin(q₃) + cos(q₂)⋅cos(q₃))⋅cos(q₄) + 0.09456⋅(sin(q₂)⋅cos(q\n",
       "₃) + sin(q₃)⋅cos(q₂))⋅sin(q₄) + 0.39225⋅sin(q₂)⋅cos(q₃) + 0.425⋅sin(q₂) + 0.39\n",
       "225⋅sin(q₃)⋅cos(q₂) + 0.08916"
      ]
     },
     "execution_count": 79,
     "metadata": {},
     "output_type": "execute_result"
    }
   ],
   "source": [
    "z5.subs(dh_params)"
   ]
  },
  {
   "cell_type": "code",
   "execution_count": null,
   "metadata": {
    "collapsed": true
   },
   "outputs": [],
   "source": []
  },
  {
   "cell_type": "code",
   "execution_count": null,
   "metadata": {
    "collapsed": true
   },
   "outputs": [],
   "source": []
  },
  {
   "cell_type": "code",
   "execution_count": null,
   "metadata": {
    "collapsed": true
   },
   "outputs": [],
   "source": []
  },
  {
   "cell_type": "code",
   "execution_count": null,
   "metadata": {
    "collapsed": true
   },
   "outputs": [],
   "source": []
  },
  {
   "cell_type": "code",
   "execution_count": null,
   "metadata": {
    "collapsed": true
   },
   "outputs": [],
   "source": []
  },
  {
   "cell_type": "code",
   "execution_count": null,
   "metadata": {
    "collapsed": true
   },
   "outputs": [],
   "source": []
  },
  {
   "cell_type": "code",
   "execution_count": null,
   "metadata": {
    "collapsed": true
   },
   "outputs": [],
   "source": []
  },
  {
   "cell_type": "code",
   "execution_count": null,
   "metadata": {
    "collapsed": true
   },
   "outputs": [],
   "source": []
  },
  {
   "cell_type": "code",
   "execution_count": null,
   "metadata": {
    "collapsed": true
   },
   "outputs": [],
   "source": []
  },
  {
   "cell_type": "code",
   "execution_count": null,
   "metadata": {
    "collapsed": true
   },
   "outputs": [],
   "source": []
  },
  {
   "cell_type": "markdown",
   "metadata": {
    "collapsed": true
   },
   "source": [
    "## "
   ]
  },
  {
   "cell_type": "code",
   "execution_count": 69,
   "metadata": {
    "collapsed": true
   },
   "outputs": [],
   "source": [
    "mechanics_printing()"
   ]
  },
  {
   "cell_type": "code",
   "execution_count": 66,
   "metadata": {
    "collapsed": false
   },
   "outputs": [],
   "source": [
    "q1d, q2d, q3d, q4d, q5d, q6d = dynamicsymbols('q1:7', 1)"
   ]
  },
  {
   "cell_type": "code",
   "execution_count": 70,
   "metadata": {
    "collapsed": false
   },
   "outputs": [
    {
     "data": {
      "image/png": "[encoded data removed]",
      "text/latex": [
       "$$\\dot{q}_{1}$$"
      ],
      "text/plain": [
       "q₁̇"
      ]
     },
     "execution_count": 70,
     "metadata": {},
     "output_type": "execute_result"
    }
   ],
   "source": [
    "q1d"
   ]
  },
  {
   "cell_type": "code",
   "execution_count": 59,
   "metadata": {
    "collapsed": false
   },
   "outputs": [
    {
     "data": {
      "image/png": "[encoded data removed]",
      "text/latex": [
       "$$2 \\frac{d}{d t} \\operatorname{q_{1}}{\\left (t \\right )}$$"
      ],
      "text/plain": [
       "  d        \n",
       "2⋅──(q₁(t))\n",
       "  dt       "
      ]
     },
     "execution_count": 59,
     "metadata": {},
     "output_type": "execute_result"
    }
   ],
   "source": [
    "diff(2* q1, Symbol('t'))"
   ]
  },
  {
   "cell_type": "code",
   "execution_count": null,
   "metadata": {
    "collapsed": true
   },
   "outputs": [],
   "source": []
  }
 ],
 "metadata": {
  "kernelspec": {
   "display_name": "Python 3",
   "language": "python",
   "name": "python3"
  },
  "language_info": {
   "codemirror_mode": {
    "name": "ipython",
    "version": 3
   },
   "file_extension": ".py",
   "mimetype": "text/x-python",
   "name": "python",
   "nbconvert_exporter": "python",
   "pygments_lexer": "ipython3",
   "version": "3.5.3"
  }
 },
 "nbformat": 4,
 "nbformat_minor": 0
}
