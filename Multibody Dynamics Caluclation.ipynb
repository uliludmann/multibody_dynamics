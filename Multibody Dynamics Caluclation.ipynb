{
 "cells": [
  {
   "cell_type": "code",
   "execution_count": 1,
   "metadata": {
    "collapsed": true
   },
   "outputs": [],
   "source": [
    "from sympy import *\n",
    "from sympy.physics.mechanics import *\n",
    "import matplotlib.pyplot as plt"
   ]
  },
  {
   "cell_type": "code",
   "execution_count": 2,
   "metadata": {
    "collapsed": true
   },
   "outputs": [],
   "source": [
    "%matplotlib inline"
   ]
  },
  {
   "cell_type": "code",
   "execution_count": 3,
   "metadata": {
    "collapsed": true
   },
   "outputs": [],
   "source": [
    "#initialize mechanics printing\n",
    "mechanics_printing()"
   ]
  },
  {
   "cell_type": "code",
   "execution_count": 4,
   "metadata": {
    "collapsed": false
   },
   "outputs": [],
   "source": [
    "# define all variables\n",
    "## generalized coordinates\n",
    "q1, q2, q3, q4, q5, q6 = dynamicsymbols('q1:7')"
   ]
  },
  {
   "cell_type": "code",
   "execution_count": 5,
   "metadata": {
    "collapsed": false
   },
   "outputs": [],
   "source": [
    "## time\n",
    "t = Symbol('t')\n",
    "\n",
    "## gravity\n",
    "g = Symbol('g')\n",
    "## masses\n",
    "m1, m2, m3, m4, m5, m6 = symbols('m1:7')\n",
    "\n",
    "\n",
    "## lengths\n",
    "l1, l2, l3, l4, l5, l6 = symbols('l1:7')\n"
   ]
  },
  {
   "cell_type": "code",
   "execution_count": 6,
   "metadata": {
    "collapsed": false
   },
   "outputs": [],
   "source": [
    "# shortcut for derivatives:\n",
    "q1d, q2d, q3d, q4d, q5d, q6d = dynamicsymbols('q1:7', 1)"
   ]
  },
  {
   "cell_type": "code",
   "execution_count": 7,
   "metadata": {
    "collapsed": true
   },
   "outputs": [],
   "source": [
    "#initialize fixed parameters\n",
    "a0, a1, a2, a3, a4, a5 = symbols('a0:6')\n",
    "alpha0, alpha1, alpha2, alpha3, alpha4, alpha5 = symbols('alpha0:6')\n",
    "d1, d2, d3, d4, d5, d6 = symbols('d1:7')"
   ]
  },
  {
   "cell_type": "code",
   "execution_count": 8,
   "metadata": {
    "collapsed": true
   },
   "outputs": [],
   "source": [
    "# degrees to radians converter\n",
    "dtr = pi/180"
   ]
  },
  {
   "cell_type": "markdown",
   "metadata": {},
   "source": [
    "## Forward Kinematics"
   ]
  },
  {
   "cell_type": "markdown",
   "metadata": {},
   "source": [
    "The Position of the End-effector with respect to the base fram can be expressed as a multiplication of all of the transformation Matrices of the individual joints.\n",
    "\n",
    "$$ _{0}^{EE}\\textrm{T} = _{0}^{1}\\textrm{T}_{1}^{2}\\textrm{T} _{2}^{3} \\textrm{T} _{3}^{4} \\textrm{T} _{4}^{5} \\textrm{T} _{5}^{6} \\textrm{T} _{6}^{EE} \\textrm{T} $$\n",
    "\n",
    "Forunately the Denavit Hartenberg parameters are given by the  manufacturer of our example robot. So we can obtain the individual transformation Matrices by applying the DH parameters in the DH Transformation Matrix.\n"
   ]
  },
  {
   "cell_type": "code",
   "execution_count": 9,
   "metadata": {
    "collapsed": true
   },
   "outputs": [],
   "source": [
    "def dh_transformation_step(alpha, a, d, q):\n",
    "    \"\"\"\n",
    "    returns a DH Transformation matrix.\n",
    "    \"\"\"\n",
    "    transformation_matrix = Matrix([\n",
    "        [cos(q), -sin(q), 0, a],\n",
    "        [sin(q) * cos(alpha), cos(q) * cos(alpha), -sin(alpha), -sin(alpha) * d],\n",
    "        [sin(q) * sin(alpha), cos(q) * sin(alpha), cos(alpha), cos(alpha) * d],\n",
    "        [0, 0, 0, 1]\n",
    "    ])\n",
    "    return transformation_matrix"
   ]
  },
  {
   "cell_type": "code",
   "execution_count": 10,
   "metadata": {
    "collapsed": false
   },
   "outputs": [],
   "source": [
    "#define the denavit hartenberg parameters of the UR5\n",
    "dh_params = {\n",
    "    a0: 0.0, alpha0: 0,\n",
    "    a1: 0.0, alpha1: pi/2, d1: 0.08916, q1: q1,\n",
    "    a2: 0.425, alpha2: 0, d2: 0, q2: q2,\n",
    "    a3: 0.39225, alpha3: 0, d3: 0, q3: q3,\n",
    "    a4: 0, alpha4: pi/2, d4: 0.10915, q4: q4,\n",
    "    a5: 0, alpha5: -pi/2, d5: 0.09456, q5: q5,\n",
    "    d6: 0.0823, q6:q6\n",
    "}"
   ]
  },
  {
   "cell_type": "code",
   "execution_count": 11,
   "metadata": {
    "collapsed": true
   },
   "outputs": [],
   "source": [
    "# calculate individual transformation matrices \n",
    "T01 = dh_transformation_step(alpha0, a0, d1, q1).subs(dh_params)\n",
    "T12 = dh_transformation_step(alpha1, a1, d2, q2).subs(dh_params)\n",
    "T23 = dh_transformation_step(alpha2, a2, d3, q3).subs(dh_params)\n",
    "T34 = dh_transformation_step(alpha3, a3, d4, q4).subs(dh_params)\n",
    "T45 = dh_transformation_step(alpha4, a4, d5, q5).subs(dh_params)\n",
    "T56 = dh_transformation_step(alpha5, a5, d6, q6).subs(dh_params)"
   ]
  },
  {
   "cell_type": "code",
   "execution_count": 12,
   "metadata": {
    "collapsed": false
   },
   "outputs": [],
   "source": [
    "def get_positions(q1n, q2n, q3n, q4n, q5n, q6n):\n",
    "    \"\"\"takes radian values for each joints. Returns positions of each joint and End-Effector\"\"\"\n",
    "    global T01, T12, T23, T34, T45, T56\n",
    "    T01 = T01\n",
    "    T02 = T01 * T12\n",
    "    T03 = T02 * T23\n",
    "    T04 = T03 * T34\n",
    "    T05 = T04 * T45\n",
    "    T06 = T05 * T56\n",
    "    \n",
    "    joint0 = [0.0, 0.0, 0.0]\n",
    "    joint1 = T01.subs({q1: q1n, q2: q2n, q3: q3n, q4: q4n, q5: q5n, q6: q6n})[:, 3][:3]\n",
    "    joint2 = T02.subs({q1: q1n, q2: q2n, q3: q3n, q4: q4n, q5: q5n, q6: q6n})[:, 3][:3]\n",
    "    joint3 = T03.subs({q1: q1n, q2: q2n, q3: q3n, q4: q4n, q5: q5n, q6: q6n})[:, 3][:3]\n",
    "    joint4 = T04.subs({q1: q1n, q2: q2n, q3: q3n, q4: q4n, q5: q5n, q6: q6n})[:, 3][:3]\n",
    "    joint5 = T05.subs({q1: q1n, q2: q2n, q3: q3n, q4: q4n, q5: q5n, q6: q6n})[:, 3][:3]\n",
    "    joint6 = T06.subs({q1: q1n, q2: q2n, q3: q3n, q4: q4n, q5: q5n, q6: q6n})[:, 3][:3]\n",
    "    return joint0, joint1, joint2, joint3, joint4, joint5, joint6"
   ]
  },
  {
   "cell_type": "code",
   "execution_count": 13,
   "metadata": {
    "collapsed": false
   },
   "outputs": [],
   "source": [
    "j0, j1, j2, j3, j4, j5, j6 = get_positions(0, pi/2, 0, pi/2, 0, 0)"
   ]
  },
  {
   "cell_type": "code",
   "execution_count": 14,
   "metadata": {
    "collapsed": false
   },
   "outputs": [],
   "source": [
    "def plot2dxz(pointlist):\n",
    "    \"\"\"takes list of points and plots in 2D space\"\"\"\n",
    "    x = []\n",
    "    y = []\n",
    "    z = []\n",
    "    for p in pointlist:\n",
    "        x.append(p[0])\n",
    "        y.append(p[1])\n",
    "        z.append(p[2])\n",
    "    plt.scatter(x, z)\n",
    "    plt.xlabel('x')\n",
    "    plt.ylabel('z')"
   ]
  },
  {
   "cell_type": "code",
   "execution_count": 15,
   "metadata": {
    "collapsed": true
   },
   "outputs": [],
   "source": [
    "def plot2dyz(pointlist):\n",
    "    \"\"\"takes list of points and plots in 2D space\"\"\"\n",
    "    x = []\n",
    "    y = []\n",
    "    z = []\n",
    "    for p in pointlist:\n",
    "        x.append(p[0])\n",
    "        y.append(p[1])\n",
    "        z.append(p[2])\n",
    "    plt.scatter(y, z)\n",
    "    plt.xlabel('y')\n",
    "    plt.ylabel('z')"
   ]
  },
  {
   "cell_type": "code",
   "execution_count": 16,
   "metadata": {
    "collapsed": true
   },
   "outputs": [],
   "source": [
    "def plot2dxy(pointlist):\n",
    "    \"\"\"takes list of points and plots in 2D space\"\"\"\n",
    "    x = []\n",
    "    y = []\n",
    "    z = []\n",
    "    for p in pointlist:\n",
    "        x.append(p[0])\n",
    "        y.append(p[1])\n",
    "        z.append(p[2])\n",
    "    plt.scatter(x, y)\n",
    "    plt.xlabel('x')\n",
    "    plt.ylabel('y')"
   ]
  },
  {
   "cell_type": "code",
   "execution_count": 17,
   "metadata": {
    "collapsed": true
   },
   "outputs": [],
   "source": [
    "def plot2dxyz(pointlist):\n",
    "    \"\"\"takes list of points and plots in 2D space\"\"\"\n",
    "    x = []\n",
    "    y = []\n",
    "    z = []\n",
    "    names = ['j0', 'j1', 'j2', 'j3', 'j4', 'j5', 'j6']\n",
    "\n",
    "    for p in pointlist:\n",
    "        x.append(p[0])\n",
    "        y.append(p[1])\n",
    "        z.append(p[2])\n",
    "    f, (ax1, ax2) = plt.subplots(1, 2, sharey=True)\n",
    "    f.set_figheight(5)\n",
    "    f.set_figwidth(15)\n",
    "    ax1.scatter(x, z, c = ['red','blue','yellow','purple','cyan','brown'])\n",
    "    ax1.set_title('XZ')\n",
    "    ax1.set_xlim(-1.0, 1.0)\n",
    "    ax1.set_ylim(-0.05, 1.3)\n",
    "    ax2.scatter(y, z, c = ['red','blue','yellow','purple','cyan','brown'])\n",
    "    ax2.set_title('YZ')\n",
    "    ax2.set_xlim(-1.0, 1.0)\n",
    "    ax2.set_ylim(-0.05, 1.3)\n",
    "    for i, txt in enumerate(names):\n",
    "        ax1.annotate(txt, (x[i],z[i]))\n",
    "        ax2.annotate(txt, (y[i],z[i]))\n"
   ]
  },
  {
   "cell_type": "code",
   "execution_count": null,
   "metadata": {
    "collapsed": true
   },
   "outputs": [],
   "source": []
  },
  {
   "cell_type": "code",
   "execution_count": 18,
   "metadata": {
    "collapsed": false
   },
   "outputs": [],
   "source": [
    "j0, j1, j2, j3, j4, j5, j6 = get_positions(0, pi/2, 0, pi/2, 0, 0)"
   ]
  },
  {
   "cell_type": "code",
   "execution_count": 19,
   "metadata": {
    "collapsed": false
   },
   "outputs": [
    {
     "data": {
      "image/png": "[encoded data removed]",
      "text/plain": [
       "<matplotlib.figure.Figure at 0x113c7f5c0>"
      ]
     },
     "metadata": {},
     "output_type": "display_data"
    }
   ],
   "source": [
    "plot2dxyz([j0, j1, j2, j3, j4, j5, j6])"
   ]
  },
  {
   "cell_type": "code",
   "execution_count": 20,
   "metadata": {
    "collapsed": false
   },
   "outputs": [],
   "source": [
    "j2_90degrees = get_positions(0, pi/2 - 90* dtr, 0, pi/2, 0, 0)"
   ]
  },
  {
   "cell_type": "code",
   "execution_count": 21,
   "metadata": {
    "collapsed": false
   },
   "outputs": [
    {
     "data": {
      "image/png": "[encoded data removed]",
      "text/plain": [
       "<matplotlib.figure.Figure at 0x113f9d400>"
      ]
     },
     "metadata": {},
     "output_type": "display_data"
    }
   ],
   "source": [
    "plot2dxyz(j2_90degrees)"
   ]
  },
  {
   "cell_type": "code",
   "execution_count": 22,
   "metadata": {
    "collapsed": true
   },
   "outputs": [],
   "source": [
    "j3_90degrees = get_positions(0, pi/2, - 90*dtr, pi/2, 0, 0)"
   ]
  },
  {
   "cell_type": "code",
   "execution_count": 23,
   "metadata": {
    "collapsed": false
   },
   "outputs": [
    {
     "data": {
      "image/png": "[encoded data removed]",
      "text/plain": [
       "<matplotlib.figure.Figure at 0x113d44cf8>"
      ]
     },
     "metadata": {},
     "output_type": "display_data"
    }
   ],
   "source": [
    "plot2dxyz(j3_90degrees)"
   ]
  },
  {
   "cell_type": "code",
   "execution_count": 24,
   "metadata": {
    "collapsed": false
   },
   "outputs": [
    {
     "data": {
      "image/png": "[encoded data removed]",
      "text/plain": [
       "<matplotlib.figure.Figure at 0x113f98630>"
      ]
     },
     "metadata": {},
     "output_type": "display_data"
    }
   ],
   "source": [
    "j3_45degrees = get_positions(0, pi/2, - 45*dtr, pi/2, 0, 0)\n",
    "plot2dxyz(j3_45degrees)"
   ]
  },
  {
   "cell_type": "code",
   "execution_count": 25,
   "metadata": {
    "collapsed": false
   },
   "outputs": [
    {
     "data": {
      "image/png": "[encoded data removed]",
      "text/plain": [
       "<matplotlib.figure.Figure at 0x1142c9438>"
      ]
     },
     "metadata": {},
     "output_type": "display_data"
    }
   ],
   "source": [
    "j1_45degrees = get_positions(90 *dtr, pi/2 -45*dtr, 0, pi/2, 0, 0)\n",
    "plot2dxyz(j1_45degrees)"
   ]
  },
  {
   "cell_type": "markdown",
   "metadata": {},
   "source": [
    "## General expressions of the coordinates"
   ]
  },
  {
   "cell_type": "code",
   "execution_count": 26,
   "metadata": {
    "collapsed": true
   },
   "outputs": [],
   "source": [
    "T01g = dh_transformation_step(alpha0, a0, d1, q1).subs(dh_params)\n",
    "T12g = dh_transformation_step(alpha1, a1, d2, q2).subs(dh_params)\n",
    "T23g = dh_transformation_step(alpha2, a2, d3, q3).subs(dh_params)\n",
    "T34g = dh_transformation_step(alpha3, a3, d4, q4).subs(dh_params)\n",
    "T45g = dh_transformation_step(alpha4, a4, d5, q5).subs(dh_params)\n",
    "T56g = dh_transformation_step(alpha5, a5, d6, q6).subs(dh_params)"
   ]
  },
  {
   "cell_type": "code",
   "execution_count": 27,
   "metadata": {
    "collapsed": false
   },
   "outputs": [],
   "source": [
    "j1g = Matrix((T01g)[:, 3].subs(dh_params)[:3])\n",
    "j2g = Matrix((T01g * T12g)[:, 3].subs(dh_params)[:3])\n",
    "j3g = Matrix((T01g * T12g * T23g)[:, 3].subs(dh_params)[:3])\n",
    "j4g = Matrix((T01g * T12g * T23g * T34g)[:, 3].subs(dh_params)[:3])\n",
    "j5g = Matrix((T01g * T12g * T23g * T34g * T45g)[:, 3].subs(dh_params)[:3])\n",
    "j6g = Matrix((T01g * T12g * T23g * T34g * T45g * T56g)[:, 3].subs(dh_params)[:3])"
   ]
  },
  {
   "cell_type": "code",
   "execution_count": 28,
   "metadata": {
    "collapsed": false
   },
   "outputs": [
    {
     "data": {
      "image/png": "[encoded data removed]",
      "text/latex": [
       "$$\\left[\\begin{matrix}0.0\\\\0\\\\0.08916\\end{matrix}\\right]$$"
      ],
      "text/plain": [
       "⎡  0.0  ⎤\n",
       "⎢       ⎥\n",
       "⎢   0   ⎥\n",
       "⎢       ⎥\n",
       "⎣0.08916⎦"
      ]
     },
     "execution_count": 28,
     "metadata": {},
     "output_type": "execute_result"
    }
   ],
   "source": [
    "j1g"
   ]
  },
  {
   "cell_type": "code",
   "execution_count": 29,
   "metadata": {
    "collapsed": false
   },
   "outputs": [
    {
     "data": {
      "image/png": "[encoded data removed]",
      "text/latex": [
       "$$\\left[\\begin{matrix}0\\\\0\\\\0.08916\\end{matrix}\\right]$$"
      ],
      "text/plain": [
       "⎡   0   ⎤\n",
       "⎢       ⎥\n",
       "⎢   0   ⎥\n",
       "⎢       ⎥\n",
       "⎣0.08916⎦"
      ]
     },
     "execution_count": 29,
     "metadata": {},
     "output_type": "execute_result"
    }
   ],
   "source": [
    "j2g"
   ]
  },
  {
   "cell_type": "code",
   "execution_count": 30,
   "metadata": {
    "collapsed": false
   },
   "outputs": [
    {
     "data": {
      "image/png": "[encoded data removed]",
      "text/latex": [
       "$$\\left[\\begin{matrix}0.425 \\operatorname{cos}\\left(q_{1}\\right) \\operatorname{cos}\\left(q_{2}\\right)\\\\0.425 \\operatorname{sin}\\left(q_{1}\\right) \\operatorname{cos}\\left(q_{2}\\right)\\\\0.425 \\operatorname{sin}\\left(q_{2}\\right) + 0.08916\\end{matrix}\\right]$$"
      ],
      "text/plain": [
       "⎡ 0.425⋅cos(q₁)⋅cos(q₂) ⎤\n",
       "⎢                       ⎥\n",
       "⎢ 0.425⋅sin(q₁)⋅cos(q₂) ⎥\n",
       "⎢                       ⎥\n",
       "⎣0.425⋅sin(q₂) + 0.08916⎦"
      ]
     },
     "execution_count": 30,
     "metadata": {},
     "output_type": "execute_result"
    }
   ],
   "source": [
    "j3g"
   ]
  },
  {
   "cell_type": "code",
   "execution_count": 31,
   "metadata": {
    "collapsed": false
   },
   "outputs": [
    {
     "data": {
      "image/png": "[encoded data removed]",
      "text/latex": [
       "$$\\left[\\begin{matrix}0.10915 \\operatorname{sin}\\left(q_{1}\\right) - 0.39225 \\operatorname{sin}\\left(q_{2}\\right) \\operatorname{sin}\\left(q_{3}\\right) \\operatorname{cos}\\left(q_{1}\\right) + 0.39225 \\operatorname{cos}\\left(q_{1}\\right) \\operatorname{cos}\\left(q_{2}\\right) \\operatorname{cos}\\left(q_{3}\\right) + 0.425 \\operatorname{cos}\\left(q_{1}\\right) \\operatorname{cos}\\left(q_{2}\\right)\\\\- 0.39225 \\operatorname{sin}\\left(q_{1}\\right) \\operatorname{sin}\\left(q_{2}\\right) \\operatorname{sin}\\left(q_{3}\\right) + 0.39225 \\operatorname{sin}\\left(q_{1}\\right) \\operatorname{cos}\\left(q_{2}\\right) \\operatorname{cos}\\left(q_{3}\\right) + 0.425 \\operatorname{sin}\\left(q_{1}\\right) \\operatorname{cos}\\left(q_{2}\\right) - 0.10915 \\operatorname{cos}\\left(q_{1}\\right)\\\\0.39225 \\operatorname{sin}\\left(q_{2}\\right) \\operatorname{cos}\\left(q_{3}\\right) + 0.425 \\operatorname{sin}\\left(q_{2}\\right) + 0.39225 \\operatorname{sin}\\left(q_{3}\\right) \\operatorname{cos}\\left(q_{2}\\right) + 0.08916\\end{matrix}\\right]$$"
      ],
      "text/plain": [
       "⎡0.10915⋅sin(q₁) - 0.39225⋅sin(q₂)⋅sin(q₃)⋅cos(q₁) + 0.39225⋅cos(q₁)⋅cos(q₂)⋅c\n",
       "⎢                                                                             \n",
       "⎢-0.39225⋅sin(q₁)⋅sin(q₂)⋅sin(q₃) + 0.39225⋅sin(q₁)⋅cos(q₂)⋅cos(q₃) + 0.425⋅si\n",
       "⎢                                                                             \n",
       "⎣                0.39225⋅sin(q₂)⋅cos(q₃) + 0.425⋅sin(q₂) + 0.39225⋅sin(q₃)⋅cos\n",
       "\n",
       "os(q₃) + 0.425⋅cos(q₁)⋅cos(q₂) ⎤\n",
       "                               ⎥\n",
       "n(q₁)⋅cos(q₂) - 0.10915⋅cos(q₁)⎥\n",
       "                               ⎥\n",
       "(q₂) + 0.08916                 ⎦"
      ]
     },
     "execution_count": 31,
     "metadata": {},
     "output_type": "execute_result"
    }
   ],
   "source": [
    "j4g"
   ]
  },
  {
   "cell_type": "code",
   "execution_count": 32,
   "metadata": {
    "collapsed": false
   },
   "outputs": [
    {
     "data": {
      "image/png": "[encoded data removed]",
      "text/latex": [
       "$$\\left[\\begin{matrix}0.09456 \\left(- \\operatorname{sin}\\left(q_{2}\\right) \\operatorname{sin}\\left(q_{3}\\right) \\operatorname{cos}\\left(q_{1}\\right) + \\operatorname{cos}\\left(q_{1}\\right) \\operatorname{cos}\\left(q_{2}\\right) \\operatorname{cos}\\left(q_{3}\\right)\\right) \\operatorname{sin}\\left(q_{4}\\right) - 0.09456 \\left(- \\operatorname{sin}\\left(q_{2}\\right) \\operatorname{cos}\\left(q_{1}\\right) \\operatorname{cos}\\left(q_{3}\\right) - \\operatorname{sin}\\left(q_{3}\\right) \\operatorname{cos}\\left(q_{1}\\right) \\operatorname{cos}\\left(q_{2}\\right)\\right) \\operatorname{cos}\\left(q_{4}\\right) + 0.10915 \\operatorname{sin}\\left(q_{1}\\right) - 0.39225 \\operatorname{sin}\\left(q_{2}\\right) \\operatorname{sin}\\left(q_{3}\\right) \\operatorname{cos}\\left(q_{1}\\right) + 0.39225 \\operatorname{cos}\\left(q_{1}\\right) \\operatorname{cos}\\left(q_{2}\\right) \\operatorname{cos}\\left(q_{3}\\right) + 0.425 \\operatorname{cos}\\left(q_{1}\\right) \\operatorname{cos}\\left(q_{2}\\right)\\\\0.09456 \\left(- \\operatorname{sin}\\left(q_{1}\\right) \\operatorname{sin}\\left(q_{2}\\right) \\operatorname{sin}\\left(q_{3}\\right) + \\operatorname{sin}\\left(q_{1}\\right) \\operatorname{cos}\\left(q_{2}\\right) \\operatorname{cos}\\left(q_{3}\\right)\\right) \\operatorname{sin}\\left(q_{4}\\right) - 0.09456 \\left(- \\operatorname{sin}\\left(q_{1}\\right) \\operatorname{sin}\\left(q_{2}\\right) \\operatorname{cos}\\left(q_{3}\\right) - \\operatorname{sin}\\left(q_{1}\\right) \\operatorname{sin}\\left(q_{3}\\right) \\operatorname{cos}\\left(q_{2}\\right)\\right) \\operatorname{cos}\\left(q_{4}\\right) - 0.39225 \\operatorname{sin}\\left(q_{1}\\right) \\operatorname{sin}\\left(q_{2}\\right) \\operatorname{sin}\\left(q_{3}\\right) + 0.39225 \\operatorname{sin}\\left(q_{1}\\right) \\operatorname{cos}\\left(q_{2}\\right) \\operatorname{cos}\\left(q_{3}\\right) + 0.425 \\operatorname{sin}\\left(q_{1}\\right) \\operatorname{cos}\\left(q_{2}\\right) - 0.10915 \\operatorname{cos}\\left(q_{1}\\right)\\\\- 0.09456 \\left(- \\operatorname{sin}\\left(q_{2}\\right) \\operatorname{sin}\\left(q_{3}\\right) + \\operatorname{cos}\\left(q_{2}\\right) \\operatorname{cos}\\left(q_{3}\\right)\\right) \\operatorname{cos}\\left(q_{4}\\right) + 0.09456 \\left(\\operatorname{sin}\\left(q_{2}\\right) \\operatorname{cos}\\left(q_{3}\\right) + \\operatorname{sin}\\left(q_{3}\\right) \\operatorname{cos}\\left(q_{2}\\right)\\right) \\operatorname{sin}\\left(q_{4}\\right) + 0.39225 \\operatorname{sin}\\left(q_{2}\\right) \\operatorname{cos}\\left(q_{3}\\right) + 0.425 \\operatorname{sin}\\left(q_{2}\\right) + 0.39225 \\operatorname{sin}\\left(q_{3}\\right) \\operatorname{cos}\\left(q_{2}\\right) + 0.08916\\end{matrix}\\right]$$"
      ],
      "text/plain": [
       "⎡0.09456⋅(-sin(q₂)⋅sin(q₃)⋅cos(q₁) + cos(q₁)⋅cos(q₂)⋅cos(q₃))⋅sin(q₄) - 0.0945\n",
       "⎢                                                                             \n",
       "⎢0.09456⋅(-sin(q₁)⋅sin(q₂)⋅sin(q₃) + sin(q₁)⋅cos(q₂)⋅cos(q₃))⋅sin(q₄) - 0.0945\n",
       "⎢                                                                             \n",
       "⎣                                -0.09456⋅(-sin(q₂)⋅sin(q₃) + cos(q₂)⋅cos(q₃))\n",
       "\n",
       "6⋅(-sin(q₂)⋅cos(q₁)⋅cos(q₃) - sin(q₃)⋅cos(q₁)⋅cos(q₂))⋅cos(q₄) + 0.10915⋅sin(q\n",
       "                                                                              \n",
       "6⋅(-sin(q₁)⋅sin(q₂)⋅cos(q₃) - sin(q₁)⋅sin(q₃)⋅cos(q₂))⋅cos(q₄) - 0.39225⋅sin(q\n",
       "                                                                              \n",
       "⋅cos(q₄) + 0.09456⋅(sin(q₂)⋅cos(q₃) + sin(q₃)⋅cos(q₂))⋅sin(q₄) + 0.39225⋅sin(q\n",
       "\n",
       "₁) - 0.39225⋅sin(q₂)⋅sin(q₃)⋅cos(q₁) + 0.39225⋅cos(q₁)⋅cos(q₂)⋅cos(q₃) + 0.425\n",
       "                                                                              \n",
       "₁)⋅sin(q₂)⋅sin(q₃) + 0.39225⋅sin(q₁)⋅cos(q₂)⋅cos(q₃) + 0.425⋅sin(q₁)⋅cos(q₂) -\n",
       "                                                                              \n",
       "₂)⋅cos(q₃) + 0.425⋅sin(q₂) + 0.39225⋅sin(q₃)⋅cos(q₂) + 0.08916                \n",
       "\n",
       "⋅cos(q₁)⋅cos(q₂)⎤\n",
       "                ⎥\n",
       " 0.10915⋅cos(q₁)⎥\n",
       "                ⎥\n",
       "                ⎦"
      ]
     },
     "execution_count": 32,
     "metadata": {},
     "output_type": "execute_result"
    }
   ],
   "source": [
    "j5g"
   ]
  },
  {
   "cell_type": "code",
   "execution_count": 33,
   "metadata": {
    "collapsed": false
   },
   "outputs": [
    {
     "data": {
      "image/png": "[encoded data removed]",
      "text/latex": [
       "$$\\left[\\begin{matrix}0.09456 \\operatorname{sin}\\left(q_{2} + q_{3} + q_{4}\\right) \\operatorname{cos}\\left(q_{1}\\right) + 0.0823 \\operatorname{sin}\\left(q_{1}\\right) \\operatorname{cos}\\left(q_{5}\\right) + 0.10915 \\operatorname{sin}\\left(q_{1}\\right) - 0.0823 \\operatorname{sin}\\left(q_{5}\\right) \\operatorname{cos}\\left(q_{2} + q_{3} + q_{4}\\right) \\operatorname{cos}\\left(q_{1}\\right) + 0.39225 \\operatorname{cos}\\left(q_{2} + q_{3}\\right) \\operatorname{cos}\\left(q_{1}\\right) + 0.425 \\operatorname{cos}\\left(q_{1}\\right) \\operatorname{cos}\\left(q_{2}\\right)\\\\0.09456 \\operatorname{sin}\\left(q_{2} + q_{3} + q_{4}\\right) \\operatorname{sin}\\left(q_{1}\\right) - 0.0823 \\operatorname{sin}\\left(q_{1}\\right) \\operatorname{sin}\\left(q_{5}\\right) \\operatorname{cos}\\left(q_{2} + q_{3} + q_{4}\\right) + 0.39225 \\operatorname{sin}\\left(q_{1}\\right) \\operatorname{cos}\\left(q_{2} + q_{3}\\right) + 0.425 \\operatorname{sin}\\left(q_{1}\\right) \\operatorname{cos}\\left(q_{2}\\right) - 0.0823 \\operatorname{cos}\\left(q_{1}\\right) \\operatorname{cos}\\left(q_{5}\\right) - 0.10915 \\operatorname{cos}\\left(q_{1}\\right)\\\\0.39225 \\operatorname{sin}\\left(q_{2} + q_{3}\\right) - 0.0823 \\operatorname{sin}\\left(q_{2} + q_{3} + q_{4}\\right) \\operatorname{sin}\\left(q_{5}\\right) + 0.425 \\operatorname{sin}\\left(q_{2}\\right) - 0.09456 \\operatorname{cos}\\left(q_{2} + q_{3} + q_{4}\\right) + 0.08916\\end{matrix}\\right]$$"
      ],
      "text/plain": [
       "⎡0.09456⋅sin(q₂ + q₃ + q₄)⋅cos(q₁) + 0.0823⋅sin(q₁)⋅cos(q₅) + 0.10915⋅sin(q₁) \n",
       "⎢                                                                             \n",
       "⎢0.09456⋅sin(q₂ + q₃ + q₄)⋅sin(q₁) - 0.0823⋅sin(q₁)⋅sin(q₅)⋅cos(q₂ + q₃ + q₄) \n",
       "⎢                                                                             \n",
       "⎣                                0.39225⋅sin(q₂ + q₃) - 0.0823⋅sin(q₂ + q₃ + q\n",
       "\n",
       "- 0.0823⋅sin(q₅)⋅cos(q₂ + q₃ + q₄)⋅cos(q₁) + 0.39225⋅cos(q₂ + q₃)⋅cos(q₁) + 0.\n",
       "                                                                              \n",
       "+ 0.39225⋅sin(q₁)⋅cos(q₂ + q₃) + 0.425⋅sin(q₁)⋅cos(q₂) - 0.0823⋅cos(q₁)⋅cos(q₅\n",
       "                                                                              \n",
       "₄)⋅sin(q₅) + 0.425⋅sin(q₂) - 0.09456⋅cos(q₂ + q₃ + q₄) + 0.08916              \n",
       "\n",
       "425⋅cos(q₁)⋅cos(q₂)⎤\n",
       "                   ⎥\n",
       ") - 0.10915⋅cos(q₁)⎥\n",
       "                   ⎥\n",
       "                   ⎦"
      ]
     },
     "execution_count": 33,
     "metadata": {},
     "output_type": "execute_result"
    }
   ],
   "source": [
    "simplify(j6g)"
   ]
  },
  {
   "cell_type": "markdown",
   "metadata": {},
   "source": [
    "## Lagrange for each joint"
   ]
  },
  {
   "cell_type": "code",
   "execution_count": 34,
   "metadata": {
    "collapsed": false
   },
   "outputs": [],
   "source": [
    "# Lagrange joint 2\n",
    "j1gd = Derivative(j1g[2], t)"
   ]
  },
  {
   "cell_type": "code",
   "execution_count": 35,
   "metadata": {
    "collapsed": false
   },
   "outputs": [
    {
     "data": {
      "image/png": "[encoded data removed]",
      "text/latex": [
       "$$0.425 \\operatorname{cos}\\left(q_{2}\\right) \\dot{q}_{2}$$"
      ],
      "text/plain": [
       "d                          \n",
       "──(0.425⋅sin(q₂) + 0.08916)\n",
       "dt                         "
      ]
     },
     "execution_count": 35,
     "metadata": {},
     "output_type": "execute_result"
    }
   ],
   "source": [
    "Derivative(j3g[2], t)"
   ]
  },
  {
   "cell_type": "code",
   "execution_count": 36,
   "metadata": {
    "collapsed": false
   },
   "outputs": [],
   "source": [
    "def joint_velocities(joint):\n",
    "    \"\"\"\n",
    "    takes a joint x,y,z and returns its velocity as Matrix\n",
    "    \"\"\"\n",
    "    vel_matrix = []\n",
    "    for i in joint:\n",
    "        vel_matrix.append(simplify(Derivative(i, t)))\n",
    "    return Matrix(vel_matrix)"
   ]
  },
  {
   "cell_type": "code",
   "execution_count": 37,
   "metadata": {
    "collapsed": false
   },
   "outputs": [
    {
     "data": {
      "image/png": "[encoded data removed]",
      "text/latex": [
       "$$\\left[\\begin{matrix}0.0\\\\0\\\\0.08916\\end{matrix}\\right]$$"
      ],
      "text/plain": [
       "⎡  0.0  ⎤\n",
       "⎢       ⎥\n",
       "⎢   0   ⎥\n",
       "⎢       ⎥\n",
       "⎣0.08916⎦"
      ]
     },
     "execution_count": 37,
     "metadata": {},
     "output_type": "execute_result"
    }
   ],
   "source": [
    "j1g"
   ]
  },
  {
   "cell_type": "code",
   "execution_count": 38,
   "metadata": {
    "collapsed": false
   },
   "outputs": [
    {
     "data": {
      "text/latex": [
       "$$\\left[\\begin{matrix}0\\\\0\\\\0\\end{matrix}\\right]$$"
      ],
      "text/plain": [
       "⎡  d        ⎤\n",
       "⎢  ──(0.0)  ⎥\n",
       "⎢  dt       ⎥\n",
       "⎢           ⎥\n",
       "⎢   d       ⎥\n",
       "⎢   ──(0)   ⎥\n",
       "⎢   dt      ⎥\n",
       "⎢           ⎥\n",
       "⎢d          ⎥\n",
       "⎢──(0.08916)⎥\n",
       "⎣dt         ⎦"
      ]
     },
     "execution_count": 38,
     "metadata": {},
     "output_type": "execute_result"
    }
   ],
   "source": [
    "j1v = joint_velocities(j1g)\n",
    "j1v"
   ]
  },
  {
   "cell_type": "code",
   "execution_count": 39,
   "metadata": {
    "collapsed": false
   },
   "outputs": [
    {
     "data": {
      "text/latex": [
       "$$\\left[\\begin{matrix}0\\\\0\\\\0\\end{matrix}\\right]$$"
      ],
      "text/plain": [
       "⎡   d       ⎤\n",
       "⎢   ──(0)   ⎥\n",
       "⎢   dt      ⎥\n",
       "⎢           ⎥\n",
       "⎢   d       ⎥\n",
       "⎢   ──(0)   ⎥\n",
       "⎢   dt      ⎥\n",
       "⎢           ⎥\n",
       "⎢d          ⎥\n",
       "⎢──(0.08916)⎥\n",
       "⎣dt         ⎦"
      ]
     },
     "execution_count": 39,
     "metadata": {},
     "output_type": "execute_result"
    }
   ],
   "source": [
    "j2v = joint_velocities(j2g)\n",
    "j2v"
   ]
  },
  {
   "cell_type": "code",
   "execution_count": 40,
   "metadata": {
    "collapsed": false
   },
   "outputs": [
    {
     "data": {
      "text/latex": [
       "$$\\left[\\begin{matrix}- 0.425 \\operatorname{sin}\\left(q_{1}\\right) \\operatorname{cos}\\left(q_{2}\\right) \\dot{q}_{1} - 0.425 \\operatorname{sin}\\left(q_{2}\\right) \\operatorname{cos}\\left(q_{1}\\right) \\dot{q}_{2}\\\\- 0.425 \\operatorname{sin}\\left(q_{1}\\right) \\operatorname{sin}\\left(q_{2}\\right) \\dot{q}_{2} + 0.425 \\operatorname{cos}\\left(q_{1}\\right) \\operatorname{cos}\\left(q_{2}\\right) \\dot{q}_{1}\\\\0.425 \\operatorname{cos}\\left(q_{2}\\right) \\dot{q}_{2}\\end{matrix}\\right]$$"
      ],
      "text/plain": [
       "⎡ d                         ⎤\n",
       "⎢ ──(0.425⋅cos(q₁)⋅cos(q₂)) ⎥\n",
       "⎢ dt                        ⎥\n",
       "⎢                           ⎥\n",
       "⎢ d                         ⎥\n",
       "⎢ ──(0.425⋅sin(q₁)⋅cos(q₂)) ⎥\n",
       "⎢ dt                        ⎥\n",
       "⎢                           ⎥\n",
       "⎢d                          ⎥\n",
       "⎢──(0.425⋅sin(q₂) + 0.08916)⎥\n",
       "⎣dt                         ⎦"
      ]
     },
     "execution_count": 40,
     "metadata": {},
     "output_type": "execute_result"
    }
   ],
   "source": [
    "j3v = joint_velocities(j3g)\n",
    "j3v"
   ]
  },
  {
   "cell_type": "code",
   "execution_count": 41,
   "metadata": {
    "collapsed": false
   },
   "outputs": [
    {
     "data": {
      "text/latex": [
       "$$\\left[\\begin{matrix}- 0.39225 \\left(\\dot{q}_{2} + \\dot{q}_{3}\\right) \\operatorname{sin}\\left(q_{2} + q_{3}\\right) \\operatorname{cos}\\left(q_{1}\\right) - 0.39225 \\operatorname{sin}\\left(q_{1}\\right) \\operatorname{cos}\\left(q_{2} + q_{3}\\right) \\dot{q}_{1} - 0.425 \\operatorname{sin}\\left(q_{1}\\right) \\operatorname{cos}\\left(q_{2}\\right) \\dot{q}_{1} - 0.425 \\operatorname{sin}\\left(q_{2}\\right) \\operatorname{cos}\\left(q_{1}\\right) \\dot{q}_{2} + 0.10915 \\operatorname{cos}\\left(q_{1}\\right) \\dot{q}_{1}\\\\- 0.39225 \\left(\\dot{q}_{2} + \\dot{q}_{3}\\right) \\operatorname{sin}\\left(q_{2} + q_{3}\\right) \\operatorname{sin}\\left(q_{1}\\right) - 0.425 \\operatorname{sin}\\left(q_{1}\\right) \\operatorname{sin}\\left(q_{2}\\right) \\dot{q}_{2} + 0.10915 \\operatorname{sin}\\left(q_{1}\\right) \\dot{q}_{1} + 0.39225 \\operatorname{cos}\\left(q_{2} + q_{3}\\right) \\operatorname{cos}\\left(q_{1}\\right) \\dot{q}_{1} + 0.425 \\operatorname{cos}\\left(q_{1}\\right) \\operatorname{cos}\\left(q_{2}\\right) \\dot{q}_{1}\\\\0.39225 \\left(\\dot{q}_{2} + \\dot{q}_{3}\\right) \\operatorname{cos}\\left(q_{2} + q_{3}\\right) + 0.425 \\operatorname{cos}\\left(q_{2}\\right) \\dot{q}_{2}\\end{matrix}\\right]$$"
      ],
      "text/plain": [
       "⎡d                                                                         ⎤\n",
       "⎢──(0.10915⋅sin(q₁) + 0.39225⋅cos(q₂ + q₃)⋅cos(q₁) + 0.425⋅cos(q₁)⋅cos(q₂))⎥\n",
       "⎢dt                                                                        ⎥\n",
       "⎢                                                                          ⎥\n",
       "⎢d                                                                         ⎥\n",
       "⎢──(0.39225⋅sin(q₁)⋅cos(q₂ + q₃) + 0.425⋅sin(q₁)⋅cos(q₂) - 0.10915⋅cos(q₁))⎥\n",
       "⎢dt                                                                        ⎥\n",
       "⎢                                                                          ⎥\n",
       "⎢            d                                                             ⎥\n",
       "⎢            ──(0.39225⋅sin(q₂ + q₃) + 0.425⋅sin(q₂) + 0.08916)            ⎥\n",
       "⎣            dt                                                            ⎦"
      ]
     },
     "execution_count": 41,
     "metadata": {},
     "output_type": "execute_result"
    }
   ],
   "source": [
    "j4v = joint_velocities(j4g)\n",
    "j4v"
   ]
  },
  {
   "cell_type": "code",
   "execution_count": 42,
   "metadata": {
    "collapsed": false
   },
   "outputs": [
    {
     "data": {
      "text/latex": [
       "$$\\left[\\begin{matrix}- 0.39225 \\left(\\dot{q}_{2} + \\dot{q}_{3}\\right) \\operatorname{sin}\\left(q_{2} + q_{3}\\right) \\operatorname{cos}\\left(q_{1}\\right) + 0.09456 \\left(\\dot{q}_{2} + \\dot{q}_{3} + \\dot{q}_{4}\\right) \\operatorname{cos}\\left(q_{2} + q_{3} + q_{4}\\right) \\operatorname{cos}\\left(q_{1}\\right) - 0.09456 \\operatorname{sin}\\left(q_{2} + q_{3} + q_{4}\\right) \\operatorname{sin}\\left(q_{1}\\right) \\dot{q}_{1} - 0.39225 \\operatorname{sin}\\left(q_{1}\\right) \\operatorname{cos}\\left(q_{2} + q_{3}\\right) \\dot{q}_{1} - 0.425 \\operatorname{sin}\\left(q_{1}\\right) \\operatorname{cos}\\left(q_{2}\\right) \\dot{q}_{1} - 0.425 \\operatorname{sin}\\left(q_{2}\\right) \\operatorname{cos}\\left(q_{1}\\right) \\dot{q}_{2} + 0.10915 \\operatorname{cos}\\left(q_{1}\\right) \\dot{q}_{1}\\\\- 0.39225 \\left(\\dot{q}_{2} + \\dot{q}_{3}\\right) \\operatorname{sin}\\left(q_{2} + q_{3}\\right) \\operatorname{sin}\\left(q_{1}\\right) + 0.09456 \\left(\\dot{q}_{2} + \\dot{q}_{3} + \\dot{q}_{4}\\right) \\operatorname{sin}\\left(q_{1}\\right) \\operatorname{cos}\\left(q_{2} + q_{3} + q_{4}\\right) + 0.09456 \\operatorname{sin}\\left(q_{2} + q_{3} + q_{4}\\right) \\operatorname{cos}\\left(q_{1}\\right) \\dot{q}_{1} - 0.425 \\operatorname{sin}\\left(q_{1}\\right) \\operatorname{sin}\\left(q_{2}\\right) \\dot{q}_{2} + 0.10915 \\operatorname{sin}\\left(q_{1}\\right) \\dot{q}_{1} + 0.39225 \\operatorname{cos}\\left(q_{2} + q_{3}\\right) \\operatorname{cos}\\left(q_{1}\\right) \\dot{q}_{1} + 0.425 \\operatorname{cos}\\left(q_{1}\\right) \\operatorname{cos}\\left(q_{2}\\right) \\dot{q}_{1}\\\\0.39225 \\left(\\dot{q}_{2} + \\dot{q}_{3}\\right) \\operatorname{cos}\\left(q_{2} + q_{3}\\right) + 0.09456 \\left(\\dot{q}_{2} + \\dot{q}_{3} + \\dot{q}_{4}\\right) \\operatorname{sin}\\left(q_{2} + q_{3} + q_{4}\\right) + 0.425 \\operatorname{cos}\\left(q_{2}\\right) \\dot{q}_{2}\\end{matrix}\\right]$$"
      ],
      "text/plain": [
       "⎡d                                                                            \n",
       "⎢──(0.09456⋅sin(q₂ + q₃ + q₄)⋅cos(q₁) + 0.10915⋅sin(q₁) + 0.39225⋅cos(q₂ + q₃)\n",
       "⎢dt                                                                           \n",
       "⎢                                                                             \n",
       "⎢d                                                                            \n",
       "⎢──(0.09456⋅sin(q₂ + q₃ + q₄)⋅sin(q₁) + 0.39225⋅sin(q₁)⋅cos(q₂ + q₃) + 0.425⋅s\n",
       "⎢dt                                                                           \n",
       "⎢                                                                             \n",
       "⎢                d                                                            \n",
       "⎢                ──(0.39225⋅sin(q₂ + q₃) + 0.425⋅sin(q₂) - 0.09456⋅cos(q₂ + q₃\n",
       "⎣                dt                                                           \n",
       "\n",
       "                                 ⎤\n",
       "⋅cos(q₁) + 0.425⋅cos(q₁)⋅cos(q₂))⎥\n",
       "                                 ⎥\n",
       "                                 ⎥\n",
       "                                 ⎥\n",
       "in(q₁)⋅cos(q₂) - 0.10915⋅cos(q₁))⎥\n",
       "                                 ⎥\n",
       "                                 ⎥\n",
       "                                 ⎥\n",
       " + q₄) + 0.08916)                ⎥\n",
       "                                 ⎦"
      ]
     },
     "execution_count": 42,
     "metadata": {},
     "output_type": "execute_result"
    }
   ],
   "source": [
    "j5v = joint_velocities(j5g)\n",
    "j5v"
   ]
  },
  {
   "cell_type": "code",
   "execution_count": 43,
   "metadata": {
    "collapsed": false
   },
   "outputs": [
    {
     "data": {
      "text/latex": [
       "$$\\left[\\begin{matrix}- 0.39225 \\left(\\dot{q}_{2} + \\dot{q}_{3}\\right) \\operatorname{sin}\\left(q_{2} + q_{3}\\right) \\operatorname{cos}\\left(q_{1}\\right) + 0.0823 \\left(\\dot{q}_{2} + \\dot{q}_{3} + \\dot{q}_{4}\\right) \\operatorname{sin}\\left(q_{2} + q_{3} + q_{4}\\right) \\operatorname{sin}\\left(q_{5}\\right) \\operatorname{cos}\\left(q_{1}\\right) + 0.09456 \\left(\\dot{q}_{2} + \\dot{q}_{3} + \\dot{q}_{4}\\right) \\operatorname{cos}\\left(q_{2} + q_{3} + q_{4}\\right) \\operatorname{cos}\\left(q_{1}\\right) - 0.09456 \\operatorname{sin}\\left(q_{2} + q_{3} + q_{4}\\right) \\operatorname{sin}\\left(q_{1}\\right) \\dot{q}_{1} + 0.0823 \\operatorname{sin}\\left(q_{1}\\right) \\operatorname{sin}\\left(q_{5}\\right) \\operatorname{cos}\\left(q_{2} + q_{3} + q_{4}\\right) \\dot{q}_{1} - 0.0823 \\operatorname{sin}\\left(q_{1}\\right) \\operatorname{sin}\\left(q_{5}\\right) \\dot{q}_{5} - 0.39225 \\operatorname{sin}\\left(q_{1}\\right) \\operatorname{cos}\\left(q_{2} + q_{3}\\right) \\dot{q}_{1} - 0.425 \\operatorname{sin}\\left(q_{1}\\right) \\operatorname{cos}\\left(q_{2}\\right) \\dot{q}_{1} - 0.425 \\operatorname{sin}\\left(q_{2}\\right) \\operatorname{cos}\\left(q_{1}\\right) \\dot{q}_{2} - 0.0823 \\operatorname{cos}\\left(q_{2} + q_{3} + q_{4}\\right) \\operatorname{cos}\\left(q_{1}\\right) \\operatorname{cos}\\left(q_{5}\\right) \\dot{q}_{5} + 0.0823 \\operatorname{cos}\\left(q_{1}\\right) \\operatorname{cos}\\left(q_{5}\\right) \\dot{q}_{1} + 0.10915 \\operatorname{cos}\\left(q_{1}\\right) \\dot{q}_{1}\\\\- 0.39225 \\left(\\dot{q}_{2} + \\dot{q}_{3}\\right) \\operatorname{sin}\\left(q_{2} + q_{3}\\right) \\operatorname{sin}\\left(q_{1}\\right) + 0.0823 \\left(\\dot{q}_{2} + \\dot{q}_{3} + \\dot{q}_{4}\\right) \\operatorname{sin}\\left(q_{2} + q_{3} + q_{4}\\right) \\operatorname{sin}\\left(q_{1}\\right) \\operatorname{sin}\\left(q_{5}\\right) + 0.09456 \\left(\\dot{q}_{2} + \\dot{q}_{3} + \\dot{q}_{4}\\right) \\operatorname{sin}\\left(q_{1}\\right) \\operatorname{cos}\\left(q_{2} + q_{3} + q_{4}\\right) + 0.09456 \\operatorname{sin}\\left(q_{2} + q_{3} + q_{4}\\right) \\operatorname{cos}\\left(q_{1}\\right) \\dot{q}_{1} - 0.425 \\operatorname{sin}\\left(q_{1}\\right) \\operatorname{sin}\\left(q_{2}\\right) \\dot{q}_{2} - 0.0823 \\operatorname{sin}\\left(q_{1}\\right) \\operatorname{cos}\\left(q_{2} + q_{3} + q_{4}\\right) \\operatorname{cos}\\left(q_{5}\\right) \\dot{q}_{5} + 0.0823 \\operatorname{sin}\\left(q_{1}\\right) \\operatorname{cos}\\left(q_{5}\\right) \\dot{q}_{1} + 0.10915 \\operatorname{sin}\\left(q_{1}\\right) \\dot{q}_{1} - 0.0823 \\operatorname{sin}\\left(q_{5}\\right) \\operatorname{cos}\\left(q_{2} + q_{3} + q_{4}\\right) \\operatorname{cos}\\left(q_{1}\\right) \\dot{q}_{1} + 0.0823 \\operatorname{sin}\\left(q_{5}\\right) \\operatorname{cos}\\left(q_{1}\\right) \\dot{q}_{5} + 0.39225 \\operatorname{cos}\\left(q_{2} + q_{3}\\right) \\operatorname{cos}\\left(q_{1}\\right) \\dot{q}_{1} + 0.425 \\operatorname{cos}\\left(q_{1}\\right) \\operatorname{cos}\\left(q_{2}\\right) \\dot{q}_{1}\\\\0.39225 \\left(\\dot{q}_{2} + \\dot{q}_{3}\\right) \\operatorname{cos}\\left(q_{2} + q_{3}\\right) + 0.09456 \\left(\\dot{q}_{2} + \\dot{q}_{3} + \\dot{q}_{4}\\right) \\operatorname{sin}\\left(q_{2} + q_{3} + q_{4}\\right) - 0.0823 \\left(\\dot{q}_{2} + \\dot{q}_{3} + \\dot{q}_{4}\\right) \\operatorname{sin}\\left(q_{5}\\right) \\operatorname{cos}\\left(q_{2} + q_{3} + q_{4}\\right) - 0.0823 \\operatorname{sin}\\left(q_{2} + q_{3} + q_{4}\\right) \\operatorname{cos}\\left(q_{5}\\right) \\dot{q}_{5} + 0.425 \\operatorname{cos}\\left(q_{2}\\right) \\dot{q}_{2}\\end{matrix}\\right]$$"
      ],
      "text/plain": [
       "⎡d                                                                            \n",
       "⎢──(0.09456⋅sin(q₂ + q₃ + q₄)⋅cos(q₁) + 0.0823⋅sin(q₁)⋅cos(q₅) + 0.10915⋅sin(q\n",
       "⎢dt                                                                           \n",
       "⎢                                                                             \n",
       "⎢d                                                                            \n",
       "⎢──(0.09456⋅sin(q₂ + q₃ + q₄)⋅sin(q₁) - 0.0823⋅sin(q₁)⋅sin(q₅)⋅cos(q₂ + q₃ + q\n",
       "⎢dt                                                                           \n",
       "⎢                                                                             \n",
       "⎢                                d                                            \n",
       "⎢                                ──(0.39225⋅sin(q₂ + q₃) - 0.0823⋅sin(q₂ + q₃ \n",
       "⎣                                dt                                           \n",
       "\n",
       "                                                                              \n",
       "₁) - 0.0823⋅sin(q₅)⋅cos(q₂ + q₃ + q₄)⋅cos(q₁) + 0.39225⋅cos(q₂ + q₃)⋅cos(q₁) +\n",
       "                                                                              \n",
       "                                                                              \n",
       "                                                                              \n",
       "₄) + 0.39225⋅sin(q₁)⋅cos(q₂ + q₃) + 0.425⋅sin(q₁)⋅cos(q₂) - 0.0823⋅cos(q₁)⋅cos\n",
       "                                                                              \n",
       "                                                                              \n",
       "                                                                              \n",
       "+ q₄)⋅sin(q₅) + 0.425⋅sin(q₂) - 0.09456⋅cos(q₂ + q₃ + q₄) + 0.08916)          \n",
       "                                                                              \n",
       "\n",
       "                       ⎤\n",
       " 0.425⋅cos(q₁)⋅cos(q₂))⎥\n",
       "                       ⎥\n",
       "                       ⎥\n",
       "                       ⎥\n",
       "(q₅) - 0.10915⋅cos(q₁))⎥\n",
       "                       ⎥\n",
       "                       ⎥\n",
       "                       ⎥\n",
       "                       ⎥\n",
       "                       ⎦"
      ]
     },
     "execution_count": 43,
     "metadata": {},
     "output_type": "execute_result"
    }
   ],
   "source": [
    "j6v = joint_velocities(j6g)\n",
    "j6v"
   ]
  },
  {
   "cell_type": "markdown",
   "metadata": {},
   "source": [
    "The Lagrange is calculated as \n",
    "$$L = T - V$$\n",
    ", where T is the kinetic energy of the System and V is the potential energy of the system.\n",
    "We begin with deriving the kinetic energy in joint 3 which is the sum of the kinetic ennergies of Ekinjoint1, Ekinjoint2 and Ekin joint3:\n",
    "$$E_{kin} = \\frac{1}{2} * m + \\dot{x}$$\n",
    "\n",
    "We need to take the velocities in all directions into account"
   ]
  },
  {
   "cell_type": "code",
   "execution_count": 44,
   "metadata": {
    "collapsed": false
   },
   "outputs": [
    {
     "data": {
      "text/latex": [
       "$$0.5 m_{1} \\left(0^{2} + 0^{2} + 0^{2}\\right)$$"
      ],
      "text/plain": [
       "       ⎛         2          2                2⎞\n",
       "       ⎜⎛d      ⎞    ⎛d    ⎞    ⎛d          ⎞ ⎟\n",
       "0.5⋅m₁⋅⎜⎜──(0.0)⎟  + ⎜──(0)⎟  + ⎜──(0.08916)⎟ ⎟\n",
       "       ⎝⎝dt     ⎠    ⎝dt   ⎠    ⎝dt         ⎠ ⎠"
      ]
     },
     "execution_count": 44,
     "metadata": {},
     "output_type": "execute_result"
    }
   ],
   "source": [
    "ekin1 = 1/2 * m1 * (j1v[0]**2 + j1v[1]**2 + j1v[2]**2)\n",
    "ekin1"
   ]
  },
  {
   "cell_type": "code",
   "execution_count": 45,
   "metadata": {
    "collapsed": false
   },
   "outputs": [
    {
     "data": {
      "text/latex": [
       "$$0.5 m_{2} \\left(2 \\cdot 0^{2} + 0^{2}\\right)$$"
      ],
      "text/plain": [
       "       ⎛         2                2⎞\n",
       "       ⎜  ⎛d    ⎞    ⎛d          ⎞ ⎟\n",
       "0.5⋅m₂⋅⎜2⋅⎜──(0)⎟  + ⎜──(0.08916)⎟ ⎟\n",
       "       ⎝  ⎝dt   ⎠    ⎝dt         ⎠ ⎠"
      ]
     },
     "execution_count": 45,
     "metadata": {},
     "output_type": "execute_result"
    }
   ],
   "source": [
    "ekin2 = 1/2 * m2 * (j2v[0]**2 + j2v[1]**2 + j2v[2]**2)\n",
    "ekin2"
   ]
  },
  {
   "cell_type": "code",
   "execution_count": 46,
   "metadata": {
    "collapsed": false
   },
   "outputs": [
    {
     "data": {
      "text/latex": [
       "$$0.5 m_{3} \\left(- 0.425 \\operatorname{sin}\\left(q_{1}\\right) \\operatorname{sin}\\left(q_{2}\\right) \\dot{q}_{2} + 0.425 \\operatorname{cos}\\left(q_{1}\\right) \\operatorname{cos}\\left(q_{2}\\right) \\dot{q}_{1}^{2} + - 0.425 \\operatorname{sin}\\left(q_{1}\\right) \\operatorname{cos}\\left(q_{2}\\right) \\dot{q}_{1} - 0.425 \\operatorname{sin}\\left(q_{2}\\right) \\operatorname{cos}\\left(q_{1}\\right) \\dot{q}_{2}^{2} + 0.425 \\operatorname{cos}\\left(q_{2}\\right) \\dot{q}_{2}^{2}\\right)$$"
      ],
      "text/plain": [
       "       ⎛                           2                              2           \n",
       "       ⎜⎛d                        ⎞    ⎛d                        ⎞    ⎛d      \n",
       "0.5⋅m₃⋅⎜⎜──(0.425⋅sin(q₁)⋅cos(q₂))⎟  + ⎜──(0.425⋅cos(q₁)⋅cos(q₂))⎟  + ⎜──(0.42\n",
       "       ⎝⎝dt                       ⎠    ⎝dt                       ⎠    ⎝dt     \n",
       "\n",
       "                     2⎞\n",
       "                    ⎞ ⎟\n",
       "5⋅sin(q₂) + 0.08916)⎟ ⎟\n",
       "                    ⎠ ⎠"
      ]
     },
     "execution_count": 46,
     "metadata": {},
     "output_type": "execute_result"
    }
   ],
   "source": [
    "ekin3 = 1/2 * m3 * (j3v[0]**2 + j3v[1]**2 + j3v[2]**2)\n",
    "ekin3"
   ]
  },
  {
   "cell_type": "code",
   "execution_count": 47,
   "metadata": {
    "collapsed": false
   },
   "outputs": [
    {
     "data": {
      "image/png": "[encoded data removed]",
      "text/latex": [
       "$$g \\left(0.425 \\operatorname{sin}\\left(q_{2}\\right) + 0.08916\\right) \\left(m_{3} + m_{4} + m_{5} + m_{6}\\right)$$"
      ],
      "text/plain": [
       "g⋅(0.425⋅sin(q₂) + 0.08916)⋅(m₃ + m₄ + m₅ + m₆)"
      ]
     },
     "execution_count": 47,
     "metadata": {},
     "output_type": "execute_result"
    }
   ],
   "source": [
    "epot3 = (m3 + m4 + m5 + m6) * j3g[2] * g\n",
    "epot3"
   ]
  },
  {
   "cell_type": "code",
   "execution_count": 48,
   "metadata": {
    "collapsed": false
   },
   "outputs": [],
   "source": [
    "V3 = epot3\n",
    "T3 = ekin1 + ekin2 + ekin3"
   ]
  },
  {
   "cell_type": "code",
   "execution_count": 49,
   "metadata": {
    "collapsed": false
   },
   "outputs": [
    {
     "data": {
      "text/latex": [
       "$$0.5 m_{1} \\left(0^{2} + 0^{2} + 0^{2}\\right) + 0.5 m_{2} \\left(2 \\cdot 0^{2} + 0^{2}\\right) + 0.5 m_{3} \\left(- 0.425 \\operatorname{sin}\\left(q_{1}\\right) \\operatorname{sin}\\left(q_{2}\\right) \\dot{q}_{2} + 0.425 \\operatorname{cos}\\left(q_{1}\\right) \\operatorname{cos}\\left(q_{2}\\right) \\dot{q}_{1}^{2} + - 0.425 \\operatorname{sin}\\left(q_{1}\\right) \\operatorname{cos}\\left(q_{2}\\right) \\dot{q}_{1} - 0.425 \\operatorname{sin}\\left(q_{2}\\right) \\operatorname{cos}\\left(q_{1}\\right) \\dot{q}_{2}^{2} + 0.425 \\operatorname{cos}\\left(q_{2}\\right) \\dot{q}_{2}^{2}\\right)$$"
      ],
      "text/plain": [
       "       ⎛         2          2                2⎞          ⎛         2          \n",
       "       ⎜⎛d      ⎞    ⎛d    ⎞    ⎛d          ⎞ ⎟          ⎜  ⎛d    ⎞    ⎛d     \n",
       "0.5⋅m₁⋅⎜⎜──(0.0)⎟  + ⎜──(0)⎟  + ⎜──(0.08916)⎟ ⎟ + 0.5⋅m₂⋅⎜2⋅⎜──(0)⎟  + ⎜──(0.0\n",
       "       ⎝⎝dt     ⎠    ⎝dt   ⎠    ⎝dt         ⎠ ⎠          ⎝  ⎝dt   ⎠    ⎝dt    \n",
       "\n",
       "      2⎞          ⎛                           2                              2\n",
       "     ⎞ ⎟          ⎜⎛d                        ⎞    ⎛d                        ⎞ \n",
       "8916)⎟ ⎟ + 0.5⋅m₃⋅⎜⎜──(0.425⋅sin(q₁)⋅cos(q₂))⎟  + ⎜──(0.425⋅cos(q₁)⋅cos(q₂))⎟ \n",
       "     ⎠ ⎠          ⎝⎝dt                       ⎠    ⎝dt                       ⎠ \n",
       "\n",
       "                                2⎞\n",
       "   ⎛d                          ⎞ ⎟\n",
       " + ⎜──(0.425⋅sin(q₂) + 0.08916)⎟ ⎟\n",
       "   ⎝dt                         ⎠ ⎠"
      ]
     },
     "execution_count": 49,
     "metadata": {},
     "output_type": "execute_result"
    }
   ],
   "source": [
    "T3"
   ]
  },
  {
   "cell_type": "markdown",
   "metadata": {},
   "source": [
    "In order to calculate the Lagranges we need to derive the equations of T with respect to the generalized coordinates\n",
    "$$\\frac{\\partial T_{3}}{\\partial q_{1}}$$"
   ]
  },
  {
   "cell_type": "code",
   "execution_count": 50,
   "metadata": {
    "collapsed": false
   },
   "outputs": [
    {
     "data": {
      "text/latex": [
       "$$0.5 m_{3} \\left(0.85 \\operatorname{sin}\\left(q_{1}\\right) \\operatorname{sin}\\left(q_{2}\\right) - 0.425 \\operatorname{sin}\\left(q_{1}\\right) \\operatorname{cos}\\left(q_{2}\\right) \\dot{q}_{1} - 0.425 \\operatorname{sin}\\left(q_{2}\\right) \\operatorname{cos}\\left(q_{1}\\right) \\dot{q}_{2} \\dot{q}_{2} - 0.85 \\operatorname{sin}\\left(q_{2}\\right) \\operatorname{cos}\\left(q_{1}\\right) - 0.425 \\operatorname{sin}\\left(q_{1}\\right) \\operatorname{sin}\\left(q_{2}\\right) \\dot{q}_{2} + 0.425 \\operatorname{cos}\\left(q_{1}\\right) \\operatorname{cos}\\left(q_{2}\\right) \\dot{q}_{1} \\dot{q}_{2}\\right)$$"
      ],
      "text/plain": [
       "       ⎛                     d                                                \n",
       "0.5⋅m₃⋅⎜0.85⋅sin(q₁)⋅sin(q₂)⋅──(0.425⋅cos(q₁)⋅cos(q₂))⋅q₂̇ - 0.85⋅sin(q₂)⋅cos(\n",
       "       ⎝                     dt                                               \n",
       "\n",
       "    d                            ⎞\n",
       "q₁)⋅──(0.425⋅sin(q₁)⋅cos(q₂))⋅q₂̇⎟\n",
       "    dt                           ⎠"
      ]
     },
     "execution_count": 50,
     "metadata": {},
     "output_type": "execute_result"
    }
   ],
   "source": [
    "diff(T3, q1)"
   ]
  },
  {
   "cell_type": "markdown",
   "metadata": {},
   "source": [
    "$$\\frac{\\partial T_{3}}{\\partial q_{2}}$$"
   ]
  },
  {
   "cell_type": "code",
   "execution_count": 51,
   "metadata": {
    "collapsed": false
   },
   "outputs": [
    {
     "data": {
      "text/latex": [
       "$$0.5 m_{3} \\left(0.85 \\operatorname{sin}\\left(q_{1}\\right) \\operatorname{sin}\\left(q_{2}\\right) - 0.425 \\operatorname{sin}\\left(q_{1}\\right) \\operatorname{cos}\\left(q_{2}\\right) \\dot{q}_{1} - 0.425 \\operatorname{sin}\\left(q_{2}\\right) \\operatorname{cos}\\left(q_{1}\\right) \\dot{q}_{2} \\dot{q}_{1} - 0.85 \\operatorname{sin}\\left(q_{2}\\right) \\operatorname{cos}\\left(q_{1}\\right) - 0.425 \\operatorname{sin}\\left(q_{1}\\right) \\operatorname{sin}\\left(q_{2}\\right) \\dot{q}_{2} + 0.425 \\operatorname{cos}\\left(q_{1}\\right) \\operatorname{cos}\\left(q_{2}\\right) \\dot{q}_{1} \\dot{q}_{1}\\right)$$"
      ],
      "text/plain": [
       "       ⎛                     d                                                \n",
       "0.5⋅m₃⋅⎜0.85⋅sin(q₁)⋅sin(q₂)⋅──(0.425⋅cos(q₁)⋅cos(q₂))⋅q₁̇ - 0.85⋅sin(q₂)⋅cos(\n",
       "       ⎝                     dt                                               \n",
       "\n",
       "    d                            ⎞\n",
       "q₁)⋅──(0.425⋅sin(q₁)⋅cos(q₂))⋅q₁̇⎟\n",
       "    dt                           ⎠"
      ]
     },
     "execution_count": 51,
     "metadata": {},
     "output_type": "execute_result"
    }
   ],
   "source": [
    "diff(T3, q2)"
   ]
  },
  {
   "cell_type": "markdown",
   "metadata": {},
   "source": [
    "$$\\frac{\\partial T_{3}}{\\partial \\dot{q_{1}}}$$"
   ]
  },
  {
   "cell_type": "code",
   "execution_count": 52,
   "metadata": {
    "collapsed": false
   },
   "outputs": [
    {
     "data": {
      "image/png": "[encoded data removed]",
      "text/latex": [
       "$$0.5 m_{3} \\left(0.85 \\left(- 0.425 \\operatorname{sin}\\left(q_{1}\\right) \\operatorname{sin}\\left(q_{2}\\right) \\dot{q}_{2} + 0.425 \\operatorname{cos}\\left(q_{1}\\right) \\operatorname{cos}\\left(q_{2}\\right) \\dot{q}_{1}\\right) \\operatorname{cos}\\left(q_{1}\\right) \\operatorname{cos}\\left(q_{2}\\right) - 0.85 \\left(- 0.425 \\operatorname{sin}\\left(q_{1}\\right) \\operatorname{cos}\\left(q_{2}\\right) \\dot{q}_{1} - 0.425 \\operatorname{sin}\\left(q_{2}\\right) \\operatorname{cos}\\left(q_{1}\\right) \\dot{q}_{2}\\right) \\operatorname{sin}\\left(q_{1}\\right) \\operatorname{cos}\\left(q_{2}\\right)\\right)$$"
      ],
      "text/plain": [
       "    ⎛       ⎛         2          2                2⎞          ⎛         2     \n",
       " ∂  ⎜       ⎜⎛d      ⎞    ⎛d    ⎞    ⎛d          ⎞ ⎟          ⎜  ⎛d    ⎞    ⎛d\n",
       "────⎜0.5⋅m₁⋅⎜⎜──(0.0)⎟  + ⎜──(0)⎟  + ⎜──(0.08916)⎟ ⎟ + 0.5⋅m₂⋅⎜2⋅⎜──(0)⎟  + ⎜─\n",
       "∂q₁̇⎝       ⎝⎝dt     ⎠    ⎝dt   ⎠    ⎝dt         ⎠ ⎠          ⎝  ⎝dt   ⎠    ⎝d\n",
       "\n",
       "           2⎞          ⎛                           2                          \n",
       "          ⎞ ⎟          ⎜⎛d                        ⎞    ⎛d                     \n",
       "─(0.08916)⎟ ⎟ + 0.5⋅m₃⋅⎜⎜──(0.425⋅sin(q₁)⋅cos(q₂))⎟  + ⎜──(0.425⋅cos(q₁)⋅cos(q\n",
       "t         ⎠ ⎠          ⎝⎝dt                       ⎠    ⎝dt                    \n",
       "\n",
       "    2                                2⎞⎞\n",
       "   ⎞    ⎛d                          ⎞ ⎟⎟\n",
       "₂))⎟  + ⎜──(0.425⋅sin(q₂) + 0.08916)⎟ ⎟⎟\n",
       "   ⎠    ⎝dt                         ⎠ ⎠⎠"
      ]
     },
     "execution_count": 52,
     "metadata": {},
     "output_type": "execute_result"
    }
   ],
   "source": [
    "Derivative(T3, q1d)"
   ]
  },
  {
   "cell_type": "markdown",
   "metadata": {},
   "source": [
    "$$\\frac{\\partial T_{3}}{\\partial \\dot{q_{2}}}$$"
   ]
  },
  {
   "cell_type": "code",
   "execution_count": 53,
   "metadata": {
    "collapsed": false
   },
   "outputs": [
    {
     "data": {
      "image/png": "[encoded data removed]",
      "text/latex": [
       "$$0.5 m_{3} \\left(- 0.85 \\left(- 0.425 \\operatorname{sin}\\left(q_{1}\\right) \\operatorname{sin}\\left(q_{2}\\right) \\dot{q}_{2} + 0.425 \\operatorname{cos}\\left(q_{1}\\right) \\operatorname{cos}\\left(q_{2}\\right) \\dot{q}_{1}\\right) \\operatorname{sin}\\left(q_{1}\\right) \\operatorname{sin}\\left(q_{2}\\right) - 0.85 \\left(- 0.425 \\operatorname{sin}\\left(q_{1}\\right) \\operatorname{cos}\\left(q_{2}\\right) \\dot{q}_{1} - 0.425 \\operatorname{sin}\\left(q_{2}\\right) \\operatorname{cos}\\left(q_{1}\\right) \\dot{q}_{2}\\right) \\operatorname{sin}\\left(q_{2}\\right) \\operatorname{cos}\\left(q_{1}\\right) + 0.36125 \\operatorname{cos}^{2}\\left(q_{2}\\right) \\dot{q}_{2}\\right)$$"
      ],
      "text/plain": [
       "    ⎛       ⎛         2          2                2⎞          ⎛         2     \n",
       " ∂  ⎜       ⎜⎛d      ⎞    ⎛d    ⎞    ⎛d          ⎞ ⎟          ⎜  ⎛d    ⎞    ⎛d\n",
       "────⎜0.5⋅m₁⋅⎜⎜──(0.0)⎟  + ⎜──(0)⎟  + ⎜──(0.08916)⎟ ⎟ + 0.5⋅m₂⋅⎜2⋅⎜──(0)⎟  + ⎜─\n",
       "∂q₂̇⎝       ⎝⎝dt     ⎠    ⎝dt   ⎠    ⎝dt         ⎠ ⎠          ⎝  ⎝dt   ⎠    ⎝d\n",
       "\n",
       "           2⎞          ⎛                           2                          \n",
       "          ⎞ ⎟          ⎜⎛d                        ⎞    ⎛d                     \n",
       "─(0.08916)⎟ ⎟ + 0.5⋅m₃⋅⎜⎜──(0.425⋅sin(q₁)⋅cos(q₂))⎟  + ⎜──(0.425⋅cos(q₁)⋅cos(q\n",
       "t         ⎠ ⎠          ⎝⎝dt                       ⎠    ⎝dt                    \n",
       "\n",
       "    2                                2⎞⎞\n",
       "   ⎞    ⎛d                          ⎞ ⎟⎟\n",
       "₂))⎟  + ⎜──(0.425⋅sin(q₂) + 0.08916)⎟ ⎟⎟\n",
       "   ⎠    ⎝dt                         ⎠ ⎠⎠"
      ]
     },
     "execution_count": 53,
     "metadata": {},
     "output_type": "execute_result"
    }
   ],
   "source": [
    "Derivative(T3, q2d)"
   ]
  },
  {
   "cell_type": "markdown",
   "metadata": {},
   "source": [
    "$$\\frac{d }{d t}\\left (\\frac{\\partial T_{3}}{\\partial \\dot {q_{1}}}  \\right )$$"
   ]
  },
  {
   "cell_type": "code",
   "execution_count": 54,
   "metadata": {
    "collapsed": false
   },
   "outputs": [
    {
     "data": {
      "image/png": "[encoded data removed]",
      "text/latex": [
       "$$0$$"
      ],
      "text/plain": [
       "0"
      ]
     },
     "execution_count": 54,
     "metadata": {},
     "output_type": "execute_result"
    }
   ],
   "source": [
    "Derivative(Derivative(T3, q1d), t)"
   ]
  },
  {
   "cell_type": "markdown",
   "metadata": {},
   "source": [
    "$$\\frac{d }{d t}\\left (\\frac{\\partial T_{3}}{\\partial \\dot {q_{2}}}  \\right )$$"
   ]
  },
  {
   "cell_type": "code",
   "execution_count": 55,
   "metadata": {
    "collapsed": false
   },
   "outputs": [
    {
     "data": {
      "image/png": "[encoded data removed]",
      "text/latex": [
       "$$0$$"
      ],
      "text/plain": [
       "0"
      ]
     },
     "execution_count": 55,
     "metadata": {},
     "output_type": "execute_result"
    }
   ],
   "source": [
    "Derivative(Derivative(T3, q2d), t)"
   ]
  },
  {
   "cell_type": "markdown",
   "metadata": {},
   "source": [
    "$$\\frac{d }{d t}\\left (\\frac{\\partial T_{3}}{\\partial \\dot {q_{3}}}  \\right )$$"
   ]
  },
  {
   "cell_type": "code",
   "execution_count": 56,
   "metadata": {
    "collapsed": false
   },
   "outputs": [
    {
     "data": {
      "image/png": "[encoded data removed]",
      "text/latex": [
       "$$0$$"
      ],
      "text/plain": [
       "0"
      ]
     },
     "execution_count": 56,
     "metadata": {},
     "output_type": "execute_result"
    }
   ],
   "source": [
    "Derivative(Derivative(T3, q3d), t)"
   ]
  },
  {
   "cell_type": "markdown",
   "metadata": {},
   "source": [
    "$$\\frac{\\partial V_{3}}{\\partial q_{1}}$$"
   ]
  },
  {
   "cell_type": "code",
   "execution_count": 57,
   "metadata": {
    "collapsed": false
   },
   "outputs": [
    {
     "data": {
      "image/png": "[encoded data removed]",
      "text/latex": [
       "$$g \\left(0.425 \\operatorname{sin}\\left(q_{2}\\right) + 0.08916\\right) \\left(m_{3} + m_{4} + m_{5} + m_{6}\\right)$$"
      ],
      "text/plain": [
       "g⋅(0.425⋅sin(q₂) + 0.08916)⋅(m₃ + m₄ + m₅ + m₆)"
      ]
     },
     "execution_count": 57,
     "metadata": {},
     "output_type": "execute_result"
    }
   ],
   "source": [
    "V3"
   ]
  },
  {
   "cell_type": "code",
   "execution_count": 58,
   "metadata": {
    "collapsed": false
   },
   "outputs": [
    {
     "data": {
      "image/png": "[encoded data removed]",
      "text/latex": [
       "$$0$$"
      ],
      "text/plain": [
       " ∂                                                  \n",
       "───(g⋅(0.425⋅sin(q₂) + 0.08916)⋅(m₃ + m₄ + m₅ + m₆))\n",
       "∂q₁                                                 "
      ]
     },
     "execution_count": 58,
     "metadata": {},
     "output_type": "execute_result"
    }
   ],
   "source": [
    "Derivative(V3, q1)"
   ]
  },
  {
   "cell_type": "markdown",
   "metadata": {},
   "source": [
    "$$\\tau_{1}, \\tau_{2}$$"
   ]
  },
  {
   "cell_type": "code",
   "execution_count": 59,
   "metadata": {
    "collapsed": false
   },
   "outputs": [
    {
     "data": {
      "text/latex": [
       "$$- 0 - 0.5 m_{3} \\left(\\left(- 0.425 \\operatorname{sin}\\left(q_{1}\\right) \\operatorname{sin}\\left(q_{2}\\right) \\dot{q}_{2} + 0.425 \\operatorname{cos}\\left(q_{1}\\right) \\operatorname{cos}\\left(q_{2}\\right) \\dot{q}_{1}\\right) \\left(- 0.85 \\operatorname{sin}\\left(q_{1}\\right) \\operatorname{cos}\\left(q_{2}\\right) \\dot{q}_{1} - 0.85 \\operatorname{sin}\\left(q_{2}\\right) \\operatorname{cos}\\left(q_{1}\\right) \\dot{q}_{2}\\right) + \\left(0.85 \\operatorname{sin}\\left(q_{1}\\right) \\operatorname{sin}\\left(q_{2}\\right) \\dot{q}_{2} - 0.85 \\operatorname{cos}\\left(q_{1}\\right) \\operatorname{cos}\\left(q_{2}\\right) \\dot{q}_{1}\\right) \\left(- 0.425 \\operatorname{sin}\\left(q_{1}\\right) \\operatorname{cos}\\left(q_{2}\\right) \\dot{q}_{1} - 0.425 \\operatorname{sin}\\left(q_{2}\\right) \\operatorname{cos}\\left(q_{1}\\right) \\dot{q}_{2}\\right)\\right)$$"
      ],
      "text/plain": [
       "                                                            ⎛    ⎛   ⎛        \n",
       "   ∂                                                      ∂ ⎜    ⎜   ⎜⎛d      \n",
       "- ───(g⋅(0.425⋅sin(q₂) + 0.08916)⋅(m₃ + m₄ + m₅ + m₆)) - ───⎜0.5⋅⎜m₁⋅⎜⎜──(0.0)\n",
       "  ∂q₁                                                    ∂q₁⎝    ⎝   ⎝⎝dt     \n",
       "\n",
       " 2          2                2⎞      ⎛         2                2⎞      ⎛     \n",
       "⎞    ⎛d    ⎞    ⎛d          ⎞ ⎟      ⎜  ⎛d    ⎞    ⎛d          ⎞ ⎟      ⎜⎛d   \n",
       "⎟  + ⎜──(0)⎟  + ⎜──(0.08916)⎟ ⎟ + m₂⋅⎜2⋅⎜──(0)⎟  + ⎜──(0.08916)⎟ ⎟ + m₃⋅⎜⎜──(0\n",
       "⎠    ⎝dt   ⎠    ⎝dt         ⎠ ⎠      ⎝  ⎝dt   ⎠    ⎝dt         ⎠ ⎠      ⎝⎝dt  \n",
       "\n",
       "                      2                              2                        \n",
       "                     ⎞    ⎛d                        ⎞    ⎛d                   \n",
       ".425⋅sin(q₁)⋅cos(q₂))⎟  + ⎜──(0.425⋅cos(q₁)⋅cos(q₂))⎟  + ⎜──(0.425⋅sin(q₂) + 0\n",
       "                     ⎠    ⎝dt                       ⎠    ⎝dt                  \n",
       "\n",
       "        2⎞⎞⎞\n",
       "       ⎞ ⎟⎟⎟\n",
       ".08916)⎟ ⎟⎟⎟\n",
       "       ⎠ ⎠⎠⎠"
      ]
     },
     "execution_count": 59,
     "metadata": {},
     "output_type": "execute_result"
    }
   ],
   "source": [
    "tau1 = simplify(Derivative(Derivative(T3, q1d), t) - Derivative(T3, q1) - Derivative(V3, q1))\n",
    "tau1"
   ]
  },
  {
   "cell_type": "code",
   "execution_count": 60,
   "metadata": {
    "collapsed": false
   },
   "outputs": [
    {
     "data": {
      "text/latex": [
       "$$- 0.425 g \\left(m_{3} + m_{4} + m_{5} + m_{6}\\right) \\operatorname{cos}\\left(q_{2}\\right) - 0.5 m_{3} \\left(\\left(0.85 \\operatorname{sin}\\left(q_{1}\\right) \\operatorname{sin}\\left(q_{2}\\right) \\dot{q}_{1} - 0.85 \\operatorname{cos}\\left(q_{1}\\right) \\operatorname{cos}\\left(q_{2}\\right) \\dot{q}_{2}\\right) \\left(- 0.425 \\operatorname{sin}\\left(q_{1}\\right) \\operatorname{cos}\\left(q_{2}\\right) \\dot{q}_{1} - 0.425 \\operatorname{sin}\\left(q_{2}\\right) \\operatorname{cos}\\left(q_{1}\\right) \\dot{q}_{2}\\right) + \\left(- 0.425 \\operatorname{sin}\\left(q_{1}\\right) \\operatorname{sin}\\left(q_{2}\\right) \\dot{q}_{2} + 0.425 \\operatorname{cos}\\left(q_{1}\\right) \\operatorname{cos}\\left(q_{2}\\right) \\dot{q}_{1}\\right) \\left(- 0.85 \\operatorname{sin}\\left(q_{1}\\right) \\operatorname{cos}\\left(q_{2}\\right) \\dot{q}_{2} - 0.85 \\operatorname{sin}\\left(q_{2}\\right) \\operatorname{cos}\\left(q_{1}\\right) \\dot{q}_{1}\\right) - 0.36125 \\operatorname{sin}\\left(q_{2}\\right) \\operatorname{cos}\\left(q_{2}\\right) \\dot{q}_{2}^{2}\\right)$$"
      ],
      "text/plain": [
       "                                                            ⎛    ⎛   ⎛        \n",
       "   ∂                                                      ∂ ⎜    ⎜   ⎜⎛d      \n",
       "- ───(g⋅(0.425⋅sin(q₂) + 0.08916)⋅(m₃ + m₄ + m₅ + m₆)) - ───⎜0.5⋅⎜m₁⋅⎜⎜──(0.0)\n",
       "  ∂q₂                                                    ∂q₂⎝    ⎝   ⎝⎝dt     \n",
       "\n",
       " 2          2                2⎞      ⎛         2                2⎞      ⎛     \n",
       "⎞    ⎛d    ⎞    ⎛d          ⎞ ⎟      ⎜  ⎛d    ⎞    ⎛d          ⎞ ⎟      ⎜⎛d   \n",
       "⎟  + ⎜──(0)⎟  + ⎜──(0.08916)⎟ ⎟ + m₂⋅⎜2⋅⎜──(0)⎟  + ⎜──(0.08916)⎟ ⎟ + m₃⋅⎜⎜──(0\n",
       "⎠    ⎝dt   ⎠    ⎝dt         ⎠ ⎠      ⎝  ⎝dt   ⎠    ⎝dt         ⎠ ⎠      ⎝⎝dt  \n",
       "\n",
       "                      2                              2                        \n",
       "                     ⎞    ⎛d                        ⎞    ⎛d                   \n",
       ".425⋅sin(q₁)⋅cos(q₂))⎟  + ⎜──(0.425⋅cos(q₁)⋅cos(q₂))⎟  + ⎜──(0.425⋅sin(q₂) + 0\n",
       "                     ⎠    ⎝dt                       ⎠    ⎝dt                  \n",
       "\n",
       "        2⎞⎞⎞\n",
       "       ⎞ ⎟⎟⎟\n",
       ".08916)⎟ ⎟⎟⎟\n",
       "       ⎠ ⎠⎠⎠"
      ]
     },
     "execution_count": 60,
     "metadata": {},
     "output_type": "execute_result"
    }
   ],
   "source": [
    "tau2 = simplify(Derivative(Derivative(T3, q2d), t) - Derivative(T3, q2) - Derivative(V3, q2))\n",
    "tau2"
   ]
  },
  {
   "cell_type": "markdown",
   "metadata": {},
   "source": [
    "...finally the equations of motions are: "
   ]
  },
  {
   "cell_type": "code",
   "execution_count": 61,
   "metadata": {
    "collapsed": false
   },
   "outputs": [
    {
     "data": {
      "image/png": "[encoded data removed]",
      "text/latex": [
       "$$- 0 - 0.5 m_{3} \\left(\\left(- 0.425 \\operatorname{sin}\\left(q_{1}\\right) \\operatorname{sin}\\left(q_{2}\\right) \\dot{q}_{2} + 0.425 \\operatorname{cos}\\left(q_{1}\\right) \\operatorname{cos}\\left(q_{2}\\right) \\dot{q}_{1}\\right) \\left(- 0.85 \\operatorname{sin}\\left(q_{1}\\right) \\operatorname{cos}\\left(q_{2}\\right) \\dot{q}_{1} - 0.85 \\operatorname{sin}\\left(q_{2}\\right) \\operatorname{cos}\\left(q_{1}\\right) \\dot{q}_{2}\\right) + \\left(0.85 \\operatorname{sin}\\left(q_{1}\\right) \\operatorname{sin}\\left(q_{2}\\right) \\dot{q}_{2} - 0.85 \\operatorname{cos}\\left(q_{1}\\right) \\operatorname{cos}\\left(q_{2}\\right) \\dot{q}_{1}\\right) \\left(- 0.425 \\operatorname{sin}\\left(q_{1}\\right) \\operatorname{cos}\\left(q_{2}\\right) \\dot{q}_{1} - 0.425 \\operatorname{sin}\\left(q_{2}\\right) \\operatorname{cos}\\left(q_{1}\\right) \\dot{q}_{2}\\right)\\right) = 0$$"
      ],
      "text/plain": [
       "                                                            ⎛    ⎛   ⎛        \n",
       "   ∂                                                      ∂ ⎜    ⎜   ⎜⎛d      \n",
       "- ───(g⋅(0.425⋅sin(q₂) + 0.08916)⋅(m₃ + m₄ + m₅ + m₆)) - ───⎜0.5⋅⎜m₁⋅⎜⎜──(0.0)\n",
       "  ∂q₁                                                    ∂q₁⎝    ⎝   ⎝⎝dt     \n",
       "\n",
       " 2          2                2⎞      ⎛         2                2⎞      ⎛     \n",
       "⎞    ⎛d    ⎞    ⎛d          ⎞ ⎟      ⎜  ⎛d    ⎞    ⎛d          ⎞ ⎟      ⎜⎛d   \n",
       "⎟  + ⎜──(0)⎟  + ⎜──(0.08916)⎟ ⎟ + m₂⋅⎜2⋅⎜──(0)⎟  + ⎜──(0.08916)⎟ ⎟ + m₃⋅⎜⎜──(0\n",
       "⎠    ⎝dt   ⎠    ⎝dt         ⎠ ⎠      ⎝  ⎝dt   ⎠    ⎝dt         ⎠ ⎠      ⎝⎝dt  \n",
       "\n",
       "                      2                              2                        \n",
       "                     ⎞    ⎛d                        ⎞    ⎛d                   \n",
       ".425⋅sin(q₁)⋅cos(q₂))⎟  + ⎜──(0.425⋅cos(q₁)⋅cos(q₂))⎟  + ⎜──(0.425⋅sin(q₂) + 0\n",
       "                     ⎠    ⎝dt                       ⎠    ⎝dt                  \n",
       "\n",
       "        2⎞⎞⎞    \n",
       "       ⎞ ⎟⎟⎟    \n",
       ".08916)⎟ ⎟⎟⎟ = 0\n",
       "       ⎠ ⎠⎠⎠    "
      ]
     },
     "execution_count": 61,
     "metadata": {},
     "output_type": "execute_result"
    }
   ],
   "source": [
    "Eq(tau1, 0)"
   ]
  },
  {
   "cell_type": "code",
   "execution_count": 62,
   "metadata": {
    "collapsed": false
   },
   "outputs": [
    {
     "data": {
      "image/png": "[encoded data removed]",
      "text/latex": [
       "$$- 0.425 g \\left(m_{3} + m_{4} + m_{5} + m_{6}\\right) \\operatorname{cos}\\left(q_{2}\\right) - 0.5 m_{3} \\left(\\left(0.85 \\operatorname{sin}\\left(q_{1}\\right) \\operatorname{sin}\\left(q_{2}\\right) \\dot{q}_{1} - 0.85 \\operatorname{cos}\\left(q_{1}\\right) \\operatorname{cos}\\left(q_{2}\\right) \\dot{q}_{2}\\right) \\left(- 0.425 \\operatorname{sin}\\left(q_{1}\\right) \\operatorname{cos}\\left(q_{2}\\right) \\dot{q}_{1} - 0.425 \\operatorname{sin}\\left(q_{2}\\right) \\operatorname{cos}\\left(q_{1}\\right) \\dot{q}_{2}\\right) + \\left(- 0.425 \\operatorname{sin}\\left(q_{1}\\right) \\operatorname{sin}\\left(q_{2}\\right) \\dot{q}_{2} + 0.425 \\operatorname{cos}\\left(q_{1}\\right) \\operatorname{cos}\\left(q_{2}\\right) \\dot{q}_{1}\\right) \\left(- 0.85 \\operatorname{sin}\\left(q_{1}\\right) \\operatorname{cos}\\left(q_{2}\\right) \\dot{q}_{2} - 0.85 \\operatorname{sin}\\left(q_{2}\\right) \\operatorname{cos}\\left(q_{1}\\right) \\dot{q}_{1}\\right) - 0.36125 \\operatorname{sin}\\left(q_{2}\\right) \\operatorname{cos}\\left(q_{2}\\right) \\dot{q}_{2}^{2}\\right) = 0$$"
      ],
      "text/plain": [
       "                                                            ⎛    ⎛   ⎛        \n",
       "   ∂                                                      ∂ ⎜    ⎜   ⎜⎛d      \n",
       "- ───(g⋅(0.425⋅sin(q₂) + 0.08916)⋅(m₃ + m₄ + m₅ + m₆)) - ───⎜0.5⋅⎜m₁⋅⎜⎜──(0.0)\n",
       "  ∂q₂                                                    ∂q₂⎝    ⎝   ⎝⎝dt     \n",
       "\n",
       " 2          2                2⎞      ⎛         2                2⎞      ⎛     \n",
       "⎞    ⎛d    ⎞    ⎛d          ⎞ ⎟      ⎜  ⎛d    ⎞    ⎛d          ⎞ ⎟      ⎜⎛d   \n",
       "⎟  + ⎜──(0)⎟  + ⎜──(0.08916)⎟ ⎟ + m₂⋅⎜2⋅⎜──(0)⎟  + ⎜──(0.08916)⎟ ⎟ + m₃⋅⎜⎜──(0\n",
       "⎠    ⎝dt   ⎠    ⎝dt         ⎠ ⎠      ⎝  ⎝dt   ⎠    ⎝dt         ⎠ ⎠      ⎝⎝dt  \n",
       "\n",
       "                      2                              2                        \n",
       "                     ⎞    ⎛d                        ⎞    ⎛d                   \n",
       ".425⋅sin(q₁)⋅cos(q₂))⎟  + ⎜──(0.425⋅cos(q₁)⋅cos(q₂))⎟  + ⎜──(0.425⋅sin(q₂) + 0\n",
       "                     ⎠    ⎝dt                       ⎠    ⎝dt                  \n",
       "\n",
       "        2⎞⎞⎞    \n",
       "       ⎞ ⎟⎟⎟    \n",
       ".08916)⎟ ⎟⎟⎟ = 0\n",
       "       ⎠ ⎠⎠⎠    "
      ]
     },
     "execution_count": 62,
     "metadata": {},
     "output_type": "execute_result"
    }
   ],
   "source": [
    "Eq(tau2, 0)"
   ]
  },
  {
   "cell_type": "code",
   "execution_count": 63,
   "metadata": {
    "collapsed": false
   },
   "outputs": [
    {
     "data": {
      "text/latex": [
       "$$0.5 m_{3} \\left(- 0.39225 \\left(\\dot{q}_{2} + \\dot{q}_{3}\\right) \\operatorname{sin}\\left(q_{2} + q_{3}\\right) \\operatorname{sin}\\left(q_{1}\\right) - 0.425 \\operatorname{sin}\\left(q_{1}\\right) \\operatorname{sin}\\left(q_{2}\\right) \\dot{q}_{2} + 0.10915 \\operatorname{sin}\\left(q_{1}\\right) \\dot{q}_{1} + 0.39225 \\operatorname{cos}\\left(q_{2} + q_{3}\\right) \\operatorname{cos}\\left(q_{1}\\right) \\dot{q}_{1} + 0.425 \\operatorname{cos}\\left(q_{1}\\right) \\operatorname{cos}\\left(q_{2}\\right) \\dot{q}_{1}^{2} + 0.39225 \\left(\\dot{q}_{2} + \\dot{q}_{3}\\right) \\operatorname{cos}\\left(q_{2} + q_{3}\\right) + 0.425 \\operatorname{cos}\\left(q_{2}\\right) \\dot{q}_{2}^{2} + - 0.39225 \\left(\\dot{q}_{2} + \\dot{q}_{3}\\right) \\operatorname{sin}\\left(q_{2} + q_{3}\\right) \\operatorname{cos}\\left(q_{1}\\right) - 0.39225 \\operatorname{sin}\\left(q_{1}\\right) \\operatorname{cos}\\left(q_{2} + q_{3}\\right) \\dot{q}_{1} - 0.425 \\operatorname{sin}\\left(q_{1}\\right) \\operatorname{cos}\\left(q_{2}\\right) \\dot{q}_{1} - 0.425 \\operatorname{sin}\\left(q_{2}\\right) \\operatorname{cos}\\left(q_{1}\\right) \\dot{q}_{2} + 0.10915 \\operatorname{cos}\\left(q_{1}\\right) \\dot{q}_{1}^{2}\\right)$$"
      ],
      "text/plain": [
       "       ⎛                                                                      \n",
       "       ⎜⎛d                                                                    \n",
       "0.5⋅m₃⋅⎜⎜──(0.39225⋅sin(q₁)⋅cos(q₂ + q₃) + 0.425⋅sin(q₁)⋅cos(q₂) - 0.10915⋅cos\n",
       "       ⎝⎝dt                                                                   \n",
       "\n",
       "      2                                                       2               \n",
       "     ⎞    ⎛d                                                 ⎞    ⎛d          \n",
       "(q₁))⎟  + ⎜──(0.39225⋅sin(q₂ + q₃) + 0.425⋅sin(q₂) + 0.08916)⎟  + ⎜──(0.10915⋅\n",
       "     ⎠    ⎝dt                                                ⎠    ⎝dt         \n",
       "\n",
       "                                                                2⎞\n",
       "                                                               ⎞ ⎟\n",
       "sin(q₁) + 0.39225⋅cos(q₂ + q₃)⋅cos(q₁) + 0.425⋅cos(q₁)⋅cos(q₂))⎟ ⎟\n",
       "                                                               ⎠ ⎠"
      ]
     },
     "execution_count": 63,
     "metadata": {},
     "output_type": "execute_result"
    }
   ],
   "source": [
    "ekin4 = 1/2 * m3 * (j4v[0]**2 + j4v[1]**2 + j4v[2]**2)\n",
    "ekin4"
   ]
  },
  {
   "cell_type": "code",
   "execution_count": 64,
   "metadata": {
    "collapsed": true
   },
   "outputs": [],
   "source": [
    "V4 = (m4 + m5 + m6) * j4g[2] * g"
   ]
  },
  {
   "cell_type": "code",
   "execution_count": 65,
   "metadata": {
    "collapsed": true
   },
   "outputs": [],
   "source": [
    "T4 = ekin1 + ekin2 + ekin3 + ekin4"
   ]
  },
  {
   "cell_type": "code",
   "execution_count": 66,
   "metadata": {
    "collapsed": false
   },
   "outputs": [
    {
     "data": {
      "text/latex": [
       "$$0.5 m_{3} \\left(\\left(0.7845 \\left(\\dot{q}_{2} + \\dot{q}_{3}\\right) \\operatorname{sin}\\left(q_{2} + q_{3}\\right) \\operatorname{sin}\\left(q_{1}\\right) + 0.85 \\operatorname{sin}\\left(q_{1}\\right) \\operatorname{sin}\\left(q_{2}\\right) \\dot{q}_{2}\\right) - 0.39225 \\left(\\dot{q}_{2} + \\dot{q}_{3}\\right) \\operatorname{sin}\\left(q_{2} + q_{3}\\right) \\operatorname{cos}\\left(q_{1}\\right) - 0.39225 \\operatorname{sin}\\left(q_{1}\\right) \\operatorname{cos}\\left(q_{2} + q_{3}\\right) \\dot{q}_{1} - 0.425 \\operatorname{sin}\\left(q_{1}\\right) \\operatorname{cos}\\left(q_{2}\\right) \\dot{q}_{1} - 0.425 \\operatorname{sin}\\left(q_{2}\\right) \\operatorname{cos}\\left(q_{1}\\right) \\dot{q}_{2} + 0.10915 \\operatorname{cos}\\left(q_{1}\\right) \\dot{q}_{1} + \\left(- 0.7845 \\left(\\dot{q}_{2} + \\dot{q}_{3}\\right) \\operatorname{sin}\\left(q_{2} + q_{3}\\right) \\operatorname{cos}\\left(q_{1}\\right) - 0.85 \\operatorname{sin}\\left(q_{2}\\right) \\operatorname{cos}\\left(q_{1}\\right) \\dot{q}_{2}\\right) - 0.39225 \\left(\\dot{q}_{2} + \\dot{q}_{3}\\right) \\operatorname{sin}\\left(q_{2} + q_{3}\\right) \\operatorname{sin}\\left(q_{1}\\right) - 0.425 \\operatorname{sin}\\left(q_{1}\\right) \\operatorname{sin}\\left(q_{2}\\right) \\dot{q}_{2} + 0.10915 \\operatorname{sin}\\left(q_{1}\\right) \\dot{q}_{1} + 0.39225 \\operatorname{cos}\\left(q_{2} + q_{3}\\right) \\operatorname{cos}\\left(q_{1}\\right) \\dot{q}_{1} + 0.425 \\operatorname{cos}\\left(q_{1}\\right) \\operatorname{cos}\\left(q_{2}\\right) \\dot{q}_{1}\\right) + 0.5 m_{3} \\left(0.85 \\operatorname{sin}\\left(q_{1}\\right) \\operatorname{sin}\\left(q_{2}\\right) - 0.425 \\operatorname{sin}\\left(q_{1}\\right) \\operatorname{cos}\\left(q_{2}\\right) \\dot{q}_{1} - 0.425 \\operatorname{sin}\\left(q_{2}\\right) \\operatorname{cos}\\left(q_{1}\\right) \\dot{q}_{2} \\dot{q}_{2} - 0.85 \\operatorname{sin}\\left(q_{2}\\right) \\operatorname{cos}\\left(q_{1}\\right) - 0.425 \\operatorname{sin}\\left(q_{1}\\right) \\operatorname{sin}\\left(q_{2}\\right) \\dot{q}_{2} + 0.425 \\operatorname{cos}\\left(q_{1}\\right) \\operatorname{cos}\\left(q_{2}\\right) \\dot{q}_{1} \\dot{q}_{2}\\right)$$"
      ],
      "text/plain": [
       "       ⎛                                                                     d\n",
       "0.5⋅m₃⋅⎜(0.7845⋅(q₂̇ + q₃̇)⋅sin(q₂ + q₃)⋅sin(q₁) + 0.85⋅sin(q₁)⋅sin(q₂)⋅q₂̇)⋅─\n",
       "       ⎝                                                                     d\n",
       "\n",
       "                                                                              \n",
       "─(0.10915⋅sin(q₁) + 0.39225⋅cos(q₂ + q₃)⋅cos(q₁) + 0.425⋅cos(q₁)⋅cos(q₂)) + (-\n",
       "t                                                                             \n",
       "\n",
       "                                                                    d         \n",
       "0.7845⋅(q₂̇ + q₃̇)⋅sin(q₂ + q₃)⋅cos(q₁) - 0.85⋅sin(q₂)⋅cos(q₁)⋅q₂̇)⋅──(0.39225\n",
       "                                                                    dt        \n",
       "\n",
       "                                                                ⎞          ⎛  \n",
       "⋅sin(q₁)⋅cos(q₂ + q₃) + 0.425⋅sin(q₁)⋅cos(q₂) - 0.10915⋅cos(q₁))⎟ + 0.5⋅m₃⋅⎜0.\n",
       "                                                                ⎠          ⎝  \n",
       "\n",
       "                   d                                                    d     \n",
       "85⋅sin(q₁)⋅sin(q₂)⋅──(0.425⋅cos(q₁)⋅cos(q₂))⋅q₂̇ - 0.85⋅sin(q₂)⋅cos(q₁)⋅──(0.4\n",
       "                   dt                                                   dt    \n",
       "\n",
       "                       ⎞\n",
       "25⋅sin(q₁)⋅cos(q₂))⋅q₂̇⎟\n",
       "                       ⎠"
      ]
     },
     "execution_count": 66,
     "metadata": {},
     "output_type": "execute_result"
    }
   ],
   "source": [
    "diff(T4, q1)"
   ]
  },
  {
   "cell_type": "code",
   "execution_count": 67,
   "metadata": {
    "collapsed": false
   },
   "outputs": [
    {
     "data": {
      "image/png": "[encoded data removed]",
      "text/latex": [
       "$$0.5 m_{3} \\left(\\left(- 0.7845 \\left(\\dot{q}_{2} + \\dot{q}_{3}\\right) \\operatorname{sin}\\left(q_{2} + q_{3}\\right) - 0.85 \\operatorname{sin}\\left(q_{2}\\right) \\dot{q}_{2}\\right) \\left(0.39225 \\left(\\dot{q}_{2} + \\dot{q}_{3}\\right) \\operatorname{cos}\\left(q_{2} + q_{3}\\right) + 0.425 \\operatorname{cos}\\left(q_{2}\\right) \\dot{q}_{2}\\right) + \\left(- 0.7845 \\left(\\dot{q}_{2} + \\dot{q}_{3}\\right) \\operatorname{sin}\\left(q_{1}\\right) \\operatorname{cos}\\left(q_{2} + q_{3}\\right) - 0.7845 \\operatorname{sin}\\left(q_{2} + q_{3}\\right) \\operatorname{cos}\\left(q_{1}\\right) \\dot{q}_{1} - 0.85 \\operatorname{sin}\\left(q_{1}\\right) \\operatorname{cos}\\left(q_{2}\\right) \\dot{q}_{2} - 0.85 \\operatorname{sin}\\left(q_{2}\\right) \\operatorname{cos}\\left(q_{1}\\right) \\dot{q}_{1}\\right) \\left(- 0.39225 \\left(\\dot{q}_{2} + \\dot{q}_{3}\\right) \\operatorname{sin}\\left(q_{2} + q_{3}\\right) \\operatorname{sin}\\left(q_{1}\\right) - 0.425 \\operatorname{sin}\\left(q_{1}\\right) \\operatorname{sin}\\left(q_{2}\\right) \\dot{q}_{2} + 0.10915 \\operatorname{sin}\\left(q_{1}\\right) \\dot{q}_{1} + 0.39225 \\operatorname{cos}\\left(q_{2} + q_{3}\\right) \\operatorname{cos}\\left(q_{1}\\right) \\dot{q}_{1} + 0.425 \\operatorname{cos}\\left(q_{1}\\right) \\operatorname{cos}\\left(q_{2}\\right) \\dot{q}_{1}\\right) + \\left(- 0.7845 \\left(\\dot{q}_{2} + \\dot{q}_{3}\\right) \\operatorname{cos}\\left(q_{2} + q_{3}\\right) \\operatorname{cos}\\left(q_{1}\\right) + 0.7845 \\operatorname{sin}\\left(q_{2} + q_{3}\\right) \\operatorname{sin}\\left(q_{1}\\right) \\dot{q}_{1} + 0.85 \\operatorname{sin}\\left(q_{1}\\right) \\operatorname{sin}\\left(q_{2}\\right) \\dot{q}_{1} - 0.85 \\operatorname{cos}\\left(q_{1}\\right) \\operatorname{cos}\\left(q_{2}\\right) \\dot{q}_{2}\\right) \\left(- 0.39225 \\left(\\dot{q}_{2} + \\dot{q}_{3}\\right) \\operatorname{sin}\\left(q_{2} + q_{3}\\right) \\operatorname{cos}\\left(q_{1}\\right) - 0.39225 \\operatorname{sin}\\left(q_{1}\\right) \\operatorname{cos}\\left(q_{2} + q_{3}\\right) \\dot{q}_{1} - 0.425 \\operatorname{sin}\\left(q_{1}\\right) \\operatorname{cos}\\left(q_{2}\\right) \\dot{q}_{1} - 0.425 \\operatorname{sin}\\left(q_{2}\\right) \\operatorname{cos}\\left(q_{1}\\right) \\dot{q}_{2} + 0.10915 \\operatorname{cos}\\left(q_{1}\\right) \\dot{q}_{1}\\right)\\right) + 0.5 m_{3} \\left(\\left(0.85 \\operatorname{sin}\\left(q_{1}\\right) \\operatorname{sin}\\left(q_{2}\\right) \\dot{q}_{1} - 0.85 \\operatorname{cos}\\left(q_{1}\\right) \\operatorname{cos}\\left(q_{2}\\right) \\dot{q}_{2}\\right) \\left(- 0.425 \\operatorname{sin}\\left(q_{1}\\right) \\operatorname{cos}\\left(q_{2}\\right) \\dot{q}_{1} - 0.425 \\operatorname{sin}\\left(q_{2}\\right) \\operatorname{cos}\\left(q_{1}\\right) \\dot{q}_{2}\\right) + \\left(- 0.425 \\operatorname{sin}\\left(q_{1}\\right) \\operatorname{sin}\\left(q_{2}\\right) \\dot{q}_{2} + 0.425 \\operatorname{cos}\\left(q_{1}\\right) \\operatorname{cos}\\left(q_{2}\\right) \\dot{q}_{1}\\right) \\left(- 0.85 \\operatorname{sin}\\left(q_{1}\\right) \\operatorname{cos}\\left(q_{2}\\right) \\dot{q}_{2} - 0.85 \\operatorname{sin}\\left(q_{2}\\right) \\operatorname{cos}\\left(q_{1}\\right) \\dot{q}_{1}\\right) - 0.36125 \\operatorname{sin}\\left(q_{2}\\right) \\operatorname{cos}\\left(q_{2}\\right) \\dot{q}_{2}^{2}\\right)$$"
      ],
      "text/plain": [
       "   ⎛       ⎛         2          2                2⎞          ⎛         2      \n",
       " ∂ ⎜       ⎜⎛d      ⎞    ⎛d    ⎞    ⎛d          ⎞ ⎟          ⎜  ⎛d    ⎞    ⎛d \n",
       "───⎜0.5⋅m₁⋅⎜⎜──(0.0)⎟  + ⎜──(0)⎟  + ⎜──(0.08916)⎟ ⎟ + 0.5⋅m₂⋅⎜2⋅⎜──(0)⎟  + ⎜──\n",
       "∂q₂⎝       ⎝⎝dt     ⎠    ⎝dt   ⎠    ⎝dt         ⎠ ⎠          ⎝  ⎝dt   ⎠    ⎝dt\n",
       "\n",
       "          2⎞          ⎛                           2                           \n",
       "         ⎞ ⎟          ⎜⎛d                        ⎞    ⎛d                      \n",
       "(0.08916)⎟ ⎟ + 0.5⋅m₃⋅⎜⎜──(0.425⋅sin(q₁)⋅cos(q₂))⎟  + ⎜──(0.425⋅cos(q₁)⋅cos(q₂\n",
       "         ⎠ ⎠          ⎝⎝dt                       ⎠    ⎝dt                     \n",
       "\n",
       "   2                                2⎞          ⎛                             \n",
       "  ⎞    ⎛d                          ⎞ ⎟          ⎜⎛d                           \n",
       "))⎟  + ⎜──(0.425⋅sin(q₂) + 0.08916)⎟ ⎟ + 0.5⋅m₃⋅⎜⎜──(0.39225⋅sin(q₁)⋅cos(q₂ + \n",
       "  ⎠    ⎝dt                         ⎠ ⎠          ⎝⎝dt                          \n",
       "\n",
       "                                               2                              \n",
       "                                              ⎞    ⎛d                         \n",
       "q₃) + 0.425⋅sin(q₁)⋅cos(q₂) - 0.10915⋅cos(q₁))⎟  + ⎜──(0.39225⋅sin(q₂ + q₃) + \n",
       "                                              ⎠    ⎝dt                        \n",
       "\n",
       "                         2                                                    \n",
       "                        ⎞    ⎛d                                               \n",
       "0.425⋅sin(q₂) + 0.08916)⎟  + ⎜──(0.10915⋅sin(q₁) + 0.39225⋅cos(q₂ + q₃)⋅cos(q₁\n",
       "                        ⎠    ⎝dt                                              \n",
       "\n",
       "                           2⎞⎞\n",
       "                          ⎞ ⎟⎟\n",
       ") + 0.425⋅cos(q₁)⋅cos(q₂))⎟ ⎟⎟\n",
       "                          ⎠ ⎠⎠"
      ]
     },
     "execution_count": 67,
     "metadata": {},
     "output_type": "execute_result"
    }
   ],
   "source": [
    "Derivative(T4, q2)"
   ]
  },
  {
   "cell_type": "code",
   "execution_count": 68,
   "metadata": {
    "collapsed": false
   },
   "outputs": [
    {
     "data": {
      "image/png": "[encoded data removed]",
      "text/latex": [
       "$$0.5 m_{3} \\left(- 0.7845 \\left(0.39225 \\left(\\dot{q}_{2} + \\dot{q}_{3}\\right) \\operatorname{cos}\\left(q_{2} + q_{3}\\right) + 0.425 \\operatorname{cos}\\left(q_{2}\\right) \\dot{q}_{2}\\right) \\left(\\dot{q}_{2} + \\dot{q}_{3}\\right) \\operatorname{sin}\\left(q_{2} + q_{3}\\right) + \\left(- 0.7845 \\left(\\dot{q}_{2} + \\dot{q}_{3}\\right) \\operatorname{sin}\\left(q_{1}\\right) \\operatorname{cos}\\left(q_{2} + q_{3}\\right) - 0.7845 \\operatorname{sin}\\left(q_{2} + q_{3}\\right) \\operatorname{cos}\\left(q_{1}\\right) \\dot{q}_{1}\\right) \\left(- 0.39225 \\left(\\dot{q}_{2} + \\dot{q}_{3}\\right) \\operatorname{sin}\\left(q_{2} + q_{3}\\right) \\operatorname{sin}\\left(q_{1}\\right) - 0.425 \\operatorname{sin}\\left(q_{1}\\right) \\operatorname{sin}\\left(q_{2}\\right) \\dot{q}_{2} + 0.10915 \\operatorname{sin}\\left(q_{1}\\right) \\dot{q}_{1} + 0.39225 \\operatorname{cos}\\left(q_{2} + q_{3}\\right) \\operatorname{cos}\\left(q_{1}\\right) \\dot{q}_{1} + 0.425 \\operatorname{cos}\\left(q_{1}\\right) \\operatorname{cos}\\left(q_{2}\\right) \\dot{q}_{1}\\right) + \\left(- 0.7845 \\left(\\dot{q}_{2} + \\dot{q}_{3}\\right) \\operatorname{cos}\\left(q_{2} + q_{3}\\right) \\operatorname{cos}\\left(q_{1}\\right) + 0.7845 \\operatorname{sin}\\left(q_{2} + q_{3}\\right) \\operatorname{sin}\\left(q_{1}\\right) \\dot{q}_{1}\\right) \\left(- 0.39225 \\left(\\dot{q}_{2} + \\dot{q}_{3}\\right) \\operatorname{sin}\\left(q_{2} + q_{3}\\right) \\operatorname{cos}\\left(q_{1}\\right) - 0.39225 \\operatorname{sin}\\left(q_{1}\\right) \\operatorname{cos}\\left(q_{2} + q_{3}\\right) \\dot{q}_{1} - 0.425 \\operatorname{sin}\\left(q_{1}\\right) \\operatorname{cos}\\left(q_{2}\\right) \\dot{q}_{1} - 0.425 \\operatorname{sin}\\left(q_{2}\\right) \\operatorname{cos}\\left(q_{1}\\right) \\dot{q}_{2} + 0.10915 \\operatorname{cos}\\left(q_{1}\\right) \\dot{q}_{1}\\right)\\right)$$"
      ],
      "text/plain": [
       "   ⎛       ⎛         2          2                2⎞          ⎛         2      \n",
       " ∂ ⎜       ⎜⎛d      ⎞    ⎛d    ⎞    ⎛d          ⎞ ⎟          ⎜  ⎛d    ⎞    ⎛d \n",
       "───⎜0.5⋅m₁⋅⎜⎜──(0.0)⎟  + ⎜──(0)⎟  + ⎜──(0.08916)⎟ ⎟ + 0.5⋅m₂⋅⎜2⋅⎜──(0)⎟  + ⎜──\n",
       "∂q₃⎝       ⎝⎝dt     ⎠    ⎝dt   ⎠    ⎝dt         ⎠ ⎠          ⎝  ⎝dt   ⎠    ⎝dt\n",
       "\n",
       "          2⎞          ⎛                           2                           \n",
       "         ⎞ ⎟          ⎜⎛d                        ⎞    ⎛d                      \n",
       "(0.08916)⎟ ⎟ + 0.5⋅m₃⋅⎜⎜──(0.425⋅sin(q₁)⋅cos(q₂))⎟  + ⎜──(0.425⋅cos(q₁)⋅cos(q₂\n",
       "         ⎠ ⎠          ⎝⎝dt                       ⎠    ⎝dt                     \n",
       "\n",
       "   2                                2⎞          ⎛                             \n",
       "  ⎞    ⎛d                          ⎞ ⎟          ⎜⎛d                           \n",
       "))⎟  + ⎜──(0.425⋅sin(q₂) + 0.08916)⎟ ⎟ + 0.5⋅m₃⋅⎜⎜──(0.39225⋅sin(q₁)⋅cos(q₂ + \n",
       "  ⎠    ⎝dt                         ⎠ ⎠          ⎝⎝dt                          \n",
       "\n",
       "                                               2                              \n",
       "                                              ⎞    ⎛d                         \n",
       "q₃) + 0.425⋅sin(q₁)⋅cos(q₂) - 0.10915⋅cos(q₁))⎟  + ⎜──(0.39225⋅sin(q₂ + q₃) + \n",
       "                                              ⎠    ⎝dt                        \n",
       "\n",
       "                         2                                                    \n",
       "                        ⎞    ⎛d                                               \n",
       "0.425⋅sin(q₂) + 0.08916)⎟  + ⎜──(0.10915⋅sin(q₁) + 0.39225⋅cos(q₂ + q₃)⋅cos(q₁\n",
       "                        ⎠    ⎝dt                                              \n",
       "\n",
       "                           2⎞⎞\n",
       "                          ⎞ ⎟⎟\n",
       ") + 0.425⋅cos(q₁)⋅cos(q₂))⎟ ⎟⎟\n",
       "                          ⎠ ⎠⎠"
      ]
     },
     "execution_count": 68,
     "metadata": {},
     "output_type": "execute_result"
    }
   ],
   "source": [
    "Derivative(T4, q3)"
   ]
  },
  {
   "cell_type": "code",
   "execution_count": 69,
   "metadata": {
    "collapsed": false
   },
   "outputs": [
    {
     "data": {
      "image/png": "[encoded data removed]",
      "text/latex": [
       "$$0.5 m_{3} \\left(\\left(- 0.7845 \\operatorname{sin}\\left(q_{1}\\right) \\operatorname{cos}\\left(q_{2} + q_{3}\\right) - 0.85 \\operatorname{sin}\\left(q_{1}\\right) \\operatorname{cos}\\left(q_{2}\\right) + 0.2183 \\operatorname{cos}\\left(q_{1}\\right)\\right) \\left(- 0.39225 \\left(\\dot{q}_{2} + \\dot{q}_{3}\\right) \\operatorname{sin}\\left(q_{2} + q_{3}\\right) \\operatorname{cos}\\left(q_{1}\\right) - 0.39225 \\operatorname{sin}\\left(q_{1}\\right) \\operatorname{cos}\\left(q_{2} + q_{3}\\right) \\dot{q}_{1} - 0.425 \\operatorname{sin}\\left(q_{1}\\right) \\operatorname{cos}\\left(q_{2}\\right) \\dot{q}_{1} - 0.425 \\operatorname{sin}\\left(q_{2}\\right) \\operatorname{cos}\\left(q_{1}\\right) \\dot{q}_{2} + 0.10915 \\operatorname{cos}\\left(q_{1}\\right) \\dot{q}_{1}\\right) + \\left(0.2183 \\operatorname{sin}\\left(q_{1}\\right) + 0.7845 \\operatorname{cos}\\left(q_{2} + q_{3}\\right) \\operatorname{cos}\\left(q_{1}\\right) + 0.85 \\operatorname{cos}\\left(q_{1}\\right) \\operatorname{cos}\\left(q_{2}\\right)\\right) \\left(- 0.39225 \\left(\\dot{q}_{2} + \\dot{q}_{3}\\right) \\operatorname{sin}\\left(q_{2} + q_{3}\\right) \\operatorname{sin}\\left(q_{1}\\right) - 0.425 \\operatorname{sin}\\left(q_{1}\\right) \\operatorname{sin}\\left(q_{2}\\right) \\dot{q}_{2} + 0.10915 \\operatorname{sin}\\left(q_{1}\\right) \\dot{q}_{1} + 0.39225 \\operatorname{cos}\\left(q_{2} + q_{3}\\right) \\operatorname{cos}\\left(q_{1}\\right) \\dot{q}_{1} + 0.425 \\operatorname{cos}\\left(q_{1}\\right) \\operatorname{cos}\\left(q_{2}\\right) \\dot{q}_{1}\\right)\\right) + 0.5 m_{3} \\left(0.85 \\left(- 0.425 \\operatorname{sin}\\left(q_{1}\\right) \\operatorname{sin}\\left(q_{2}\\right) \\dot{q}_{2} + 0.425 \\operatorname{cos}\\left(q_{1}\\right) \\operatorname{cos}\\left(q_{2}\\right) \\dot{q}_{1}\\right) \\operatorname{cos}\\left(q_{1}\\right) \\operatorname{cos}\\left(q_{2}\\right) - 0.85 \\left(- 0.425 \\operatorname{sin}\\left(q_{1}\\right) \\operatorname{cos}\\left(q_{2}\\right) \\dot{q}_{1} - 0.425 \\operatorname{sin}\\left(q_{2}\\right) \\operatorname{cos}\\left(q_{1}\\right) \\dot{q}_{2}\\right) \\operatorname{sin}\\left(q_{1}\\right) \\operatorname{cos}\\left(q_{2}\\right)\\right)$$"
      ],
      "text/plain": [
       "    ⎛       ⎛         2          2                2⎞          ⎛         2     \n",
       " ∂  ⎜       ⎜⎛d      ⎞    ⎛d    ⎞    ⎛d          ⎞ ⎟          ⎜  ⎛d    ⎞    ⎛d\n",
       "────⎜0.5⋅m₁⋅⎜⎜──(0.0)⎟  + ⎜──(0)⎟  + ⎜──(0.08916)⎟ ⎟ + 0.5⋅m₂⋅⎜2⋅⎜──(0)⎟  + ⎜─\n",
       "∂q₁̇⎝       ⎝⎝dt     ⎠    ⎝dt   ⎠    ⎝dt         ⎠ ⎠          ⎝  ⎝dt   ⎠    ⎝d\n",
       "\n",
       "           2⎞          ⎛                           2                          \n",
       "          ⎞ ⎟          ⎜⎛d                        ⎞    ⎛d                     \n",
       "─(0.08916)⎟ ⎟ + 0.5⋅m₃⋅⎜⎜──(0.425⋅sin(q₁)⋅cos(q₂))⎟  + ⎜──(0.425⋅cos(q₁)⋅cos(q\n",
       "t         ⎠ ⎠          ⎝⎝dt                       ⎠    ⎝dt                    \n",
       "\n",
       "    2                                2⎞          ⎛                            \n",
       "   ⎞    ⎛d                          ⎞ ⎟          ⎜⎛d                          \n",
       "₂))⎟  + ⎜──(0.425⋅sin(q₂) + 0.08916)⎟ ⎟ + 0.5⋅m₃⋅⎜⎜──(0.39225⋅sin(q₁)⋅cos(q₂ +\n",
       "   ⎠    ⎝dt                         ⎠ ⎠          ⎝⎝dt                         \n",
       "\n",
       "                                                2                             \n",
       "                                               ⎞    ⎛d                        \n",
       " q₃) + 0.425⋅sin(q₁)⋅cos(q₂) - 0.10915⋅cos(q₁))⎟  + ⎜──(0.39225⋅sin(q₂ + q₃) +\n",
       "                                               ⎠    ⎝dt                       \n",
       "\n",
       "                          2                                                   \n",
       "                         ⎞    ⎛d                                              \n",
       " 0.425⋅sin(q₂) + 0.08916)⎟  + ⎜──(0.10915⋅sin(q₁) + 0.39225⋅cos(q₂ + q₃)⋅cos(q\n",
       "                         ⎠    ⎝dt                                             \n",
       "\n",
       "                            2⎞⎞\n",
       "                           ⎞ ⎟⎟\n",
       "₁) + 0.425⋅cos(q₁)⋅cos(q₂))⎟ ⎟⎟\n",
       "                           ⎠ ⎠⎠"
      ]
     },
     "execution_count": 69,
     "metadata": {},
     "output_type": "execute_result"
    }
   ],
   "source": [
    "Derivative(T4, q1d)"
   ]
  },
  {
   "cell_type": "code",
   "execution_count": 70,
   "metadata": {
    "collapsed": false
   },
   "outputs": [
    {
     "data": {
      "image/png": "[encoded data removed]",
      "text/latex": [
       "$$0.5 m_{3} \\left(\\left(0.39225 \\left(\\dot{q}_{2} + \\dot{q}_{3}\\right) \\operatorname{cos}\\left(q_{2} + q_{3}\\right) + 0.425 \\operatorname{cos}\\left(q_{2}\\right) \\dot{q}_{2}\\right) \\left(0.7845 \\operatorname{cos}\\left(q_{2} + q_{3}\\right) + 0.85 \\operatorname{cos}\\left(q_{2}\\right)\\right) + \\left(- 0.7845 \\operatorname{sin}\\left(q_{2} + q_{3}\\right) \\operatorname{sin}\\left(q_{1}\\right) - 0.85 \\operatorname{sin}\\left(q_{1}\\right) \\operatorname{sin}\\left(q_{2}\\right)\\right) \\left(- 0.39225 \\left(\\dot{q}_{2} + \\dot{q}_{3}\\right) \\operatorname{sin}\\left(q_{2} + q_{3}\\right) \\operatorname{sin}\\left(q_{1}\\right) - 0.425 \\operatorname{sin}\\left(q_{1}\\right) \\operatorname{sin}\\left(q_{2}\\right) \\dot{q}_{2} + 0.10915 \\operatorname{sin}\\left(q_{1}\\right) \\dot{q}_{1} + 0.39225 \\operatorname{cos}\\left(q_{2} + q_{3}\\right) \\operatorname{cos}\\left(q_{1}\\right) \\dot{q}_{1} + 0.425 \\operatorname{cos}\\left(q_{1}\\right) \\operatorname{cos}\\left(q_{2}\\right) \\dot{q}_{1}\\right) + \\left(- 0.7845 \\operatorname{sin}\\left(q_{2} + q_{3}\\right) \\operatorname{cos}\\left(q_{1}\\right) - 0.85 \\operatorname{sin}\\left(q_{2}\\right) \\operatorname{cos}\\left(q_{1}\\right)\\right) \\left(- 0.39225 \\left(\\dot{q}_{2} + \\dot{q}_{3}\\right) \\operatorname{sin}\\left(q_{2} + q_{3}\\right) \\operatorname{cos}\\left(q_{1}\\right) - 0.39225 \\operatorname{sin}\\left(q_{1}\\right) \\operatorname{cos}\\left(q_{2} + q_{3}\\right) \\dot{q}_{1} - 0.425 \\operatorname{sin}\\left(q_{1}\\right) \\operatorname{cos}\\left(q_{2}\\right) \\dot{q}_{1} - 0.425 \\operatorname{sin}\\left(q_{2}\\right) \\operatorname{cos}\\left(q_{1}\\right) \\dot{q}_{2} + 0.10915 \\operatorname{cos}\\left(q_{1}\\right) \\dot{q}_{1}\\right)\\right) + 0.5 m_{3} \\left(- 0.85 \\left(- 0.425 \\operatorname{sin}\\left(q_{1}\\right) \\operatorname{sin}\\left(q_{2}\\right) \\dot{q}_{2} + 0.425 \\operatorname{cos}\\left(q_{1}\\right) \\operatorname{cos}\\left(q_{2}\\right) \\dot{q}_{1}\\right) \\operatorname{sin}\\left(q_{1}\\right) \\operatorname{sin}\\left(q_{2}\\right) - 0.85 \\left(- 0.425 \\operatorname{sin}\\left(q_{1}\\right) \\operatorname{cos}\\left(q_{2}\\right) \\dot{q}_{1} - 0.425 \\operatorname{sin}\\left(q_{2}\\right) \\operatorname{cos}\\left(q_{1}\\right) \\dot{q}_{2}\\right) \\operatorname{sin}\\left(q_{2}\\right) \\operatorname{cos}\\left(q_{1}\\right) + 0.36125 \\operatorname{cos}^{2}\\left(q_{2}\\right) \\dot{q}_{2}\\right)$$"
      ],
      "text/plain": [
       "    ⎛       ⎛         2          2                2⎞          ⎛         2     \n",
       " ∂  ⎜       ⎜⎛d      ⎞    ⎛d    ⎞    ⎛d          ⎞ ⎟          ⎜  ⎛d    ⎞    ⎛d\n",
       "────⎜0.5⋅m₁⋅⎜⎜──(0.0)⎟  + ⎜──(0)⎟  + ⎜──(0.08916)⎟ ⎟ + 0.5⋅m₂⋅⎜2⋅⎜──(0)⎟  + ⎜─\n",
       "∂q₂̇⎝       ⎝⎝dt     ⎠    ⎝dt   ⎠    ⎝dt         ⎠ ⎠          ⎝  ⎝dt   ⎠    ⎝d\n",
       "\n",
       "           2⎞          ⎛                           2                          \n",
       "          ⎞ ⎟          ⎜⎛d                        ⎞    ⎛d                     \n",
       "─(0.08916)⎟ ⎟ + 0.5⋅m₃⋅⎜⎜──(0.425⋅sin(q₁)⋅cos(q₂))⎟  + ⎜──(0.425⋅cos(q₁)⋅cos(q\n",
       "t         ⎠ ⎠          ⎝⎝dt                       ⎠    ⎝dt                    \n",
       "\n",
       "    2                                2⎞          ⎛                            \n",
       "   ⎞    ⎛d                          ⎞ ⎟          ⎜⎛d                          \n",
       "₂))⎟  + ⎜──(0.425⋅sin(q₂) + 0.08916)⎟ ⎟ + 0.5⋅m₃⋅⎜⎜──(0.39225⋅sin(q₁)⋅cos(q₂ +\n",
       "   ⎠    ⎝dt                         ⎠ ⎠          ⎝⎝dt                         \n",
       "\n",
       "                                                2                             \n",
       "                                               ⎞    ⎛d                        \n",
       " q₃) + 0.425⋅sin(q₁)⋅cos(q₂) - 0.10915⋅cos(q₁))⎟  + ⎜──(0.39225⋅sin(q₂ + q₃) +\n",
       "                                               ⎠    ⎝dt                       \n",
       "\n",
       "                          2                                                   \n",
       "                         ⎞    ⎛d                                              \n",
       " 0.425⋅sin(q₂) + 0.08916)⎟  + ⎜──(0.10915⋅sin(q₁) + 0.39225⋅cos(q₂ + q₃)⋅cos(q\n",
       "                         ⎠    ⎝dt                                             \n",
       "\n",
       "                            2⎞⎞\n",
       "                           ⎞ ⎟⎟\n",
       "₁) + 0.425⋅cos(q₁)⋅cos(q₂))⎟ ⎟⎟\n",
       "                           ⎠ ⎠⎠"
      ]
     },
     "execution_count": 70,
     "metadata": {},
     "output_type": "execute_result"
    }
   ],
   "source": [
    "Derivative(T4, q2d)"
   ]
  },
  {
   "cell_type": "code",
   "execution_count": 71,
   "metadata": {
    "collapsed": false
   },
   "outputs": [
    {
     "data": {
      "image/png": "[encoded data removed]",
      "text/latex": [
       "$$0.5 m_{3} \\left(0.7845 \\left(0.39225 \\left(\\dot{q}_{2} + \\dot{q}_{3}\\right) \\operatorname{cos}\\left(q_{2} + q_{3}\\right) + 0.425 \\operatorname{cos}\\left(q_{2}\\right) \\dot{q}_{2}\\right) \\operatorname{cos}\\left(q_{2} + q_{3}\\right) - 0.7845 \\left(- 0.39225 \\left(\\dot{q}_{2} + \\dot{q}_{3}\\right) \\operatorname{sin}\\left(q_{2} + q_{3}\\right) \\operatorname{sin}\\left(q_{1}\\right) - 0.425 \\operatorname{sin}\\left(q_{1}\\right) \\operatorname{sin}\\left(q_{2}\\right) \\dot{q}_{2} + 0.10915 \\operatorname{sin}\\left(q_{1}\\right) \\dot{q}_{1} + 0.39225 \\operatorname{cos}\\left(q_{2} + q_{3}\\right) \\operatorname{cos}\\left(q_{1}\\right) \\dot{q}_{1} + 0.425 \\operatorname{cos}\\left(q_{1}\\right) \\operatorname{cos}\\left(q_{2}\\right) \\dot{q}_{1}\\right) \\operatorname{sin}\\left(q_{2} + q_{3}\\right) \\operatorname{sin}\\left(q_{1}\\right) - 0.7845 \\left(- 0.39225 \\left(\\dot{q}_{2} + \\dot{q}_{3}\\right) \\operatorname{sin}\\left(q_{2} + q_{3}\\right) \\operatorname{cos}\\left(q_{1}\\right) - 0.39225 \\operatorname{sin}\\left(q_{1}\\right) \\operatorname{cos}\\left(q_{2} + q_{3}\\right) \\dot{q}_{1} - 0.425 \\operatorname{sin}\\left(q_{1}\\right) \\operatorname{cos}\\left(q_{2}\\right) \\dot{q}_{1} - 0.425 \\operatorname{sin}\\left(q_{2}\\right) \\operatorname{cos}\\left(q_{1}\\right) \\dot{q}_{2} + 0.10915 \\operatorname{cos}\\left(q_{1}\\right) \\dot{q}_{1}\\right) \\operatorname{sin}\\left(q_{2} + q_{3}\\right) \\operatorname{cos}\\left(q_{1}\\right)\\right)$$"
      ],
      "text/plain": [
       "    ⎛       ⎛         2          2                2⎞          ⎛         2     \n",
       " ∂  ⎜       ⎜⎛d      ⎞    ⎛d    ⎞    ⎛d          ⎞ ⎟          ⎜  ⎛d    ⎞    ⎛d\n",
       "────⎜0.5⋅m₁⋅⎜⎜──(0.0)⎟  + ⎜──(0)⎟  + ⎜──(0.08916)⎟ ⎟ + 0.5⋅m₂⋅⎜2⋅⎜──(0)⎟  + ⎜─\n",
       "∂q₃̇⎝       ⎝⎝dt     ⎠    ⎝dt   ⎠    ⎝dt         ⎠ ⎠          ⎝  ⎝dt   ⎠    ⎝d\n",
       "\n",
       "           2⎞          ⎛                           2                          \n",
       "          ⎞ ⎟          ⎜⎛d                        ⎞    ⎛d                     \n",
       "─(0.08916)⎟ ⎟ + 0.5⋅m₃⋅⎜⎜──(0.425⋅sin(q₁)⋅cos(q₂))⎟  + ⎜──(0.425⋅cos(q₁)⋅cos(q\n",
       "t         ⎠ ⎠          ⎝⎝dt                       ⎠    ⎝dt                    \n",
       "\n",
       "    2                                2⎞          ⎛                            \n",
       "   ⎞    ⎛d                          ⎞ ⎟          ⎜⎛d                          \n",
       "₂))⎟  + ⎜──(0.425⋅sin(q₂) + 0.08916)⎟ ⎟ + 0.5⋅m₃⋅⎜⎜──(0.39225⋅sin(q₁)⋅cos(q₂ +\n",
       "   ⎠    ⎝dt                         ⎠ ⎠          ⎝⎝dt                         \n",
       "\n",
       "                                                2                             \n",
       "                                               ⎞    ⎛d                        \n",
       " q₃) + 0.425⋅sin(q₁)⋅cos(q₂) - 0.10915⋅cos(q₁))⎟  + ⎜──(0.39225⋅sin(q₂ + q₃) +\n",
       "                                               ⎠    ⎝dt                       \n",
       "\n",
       "                          2                                                   \n",
       "                         ⎞    ⎛d                                              \n",
       " 0.425⋅sin(q₂) + 0.08916)⎟  + ⎜──(0.10915⋅sin(q₁) + 0.39225⋅cos(q₂ + q₃)⋅cos(q\n",
       "                         ⎠    ⎝dt                                             \n",
       "\n",
       "                            2⎞⎞\n",
       "                           ⎞ ⎟⎟\n",
       "₁) + 0.425⋅cos(q₁)⋅cos(q₂))⎟ ⎟⎟\n",
       "                           ⎠ ⎠⎠"
      ]
     },
     "execution_count": 71,
     "metadata": {},
     "output_type": "execute_result"
    }
   ],
   "source": [
    "Derivative(T4, q3d)"
   ]
  },
  {
   "cell_type": "code",
   "execution_count": 72,
   "metadata": {
    "collapsed": false
   },
   "outputs": [
    {
     "data": {
      "image/png": "[encoded data removed]",
      "text/latex": [
       "$$0$$"
      ],
      "text/plain": [
       "0"
      ]
     },
     "execution_count": 72,
     "metadata": {},
     "output_type": "execute_result"
    }
   ],
   "source": [
    "diff(Derivative(T4, q1d), t)"
   ]
  },
  {
   "cell_type": "code",
   "execution_count": 73,
   "metadata": {
    "collapsed": false
   },
   "outputs": [
    {
     "data": {
      "image/png": "[encoded data removed]",
      "text/latex": [
       "$$0$$"
      ],
      "text/plain": [
       "0"
      ]
     },
     "execution_count": 73,
     "metadata": {},
     "output_type": "execute_result"
    }
   ],
   "source": [
    "diff(Derivative(T4, q2d), t)"
   ]
  },
  {
   "cell_type": "code",
   "execution_count": null,
   "metadata": {
    "collapsed": true
   },
   "outputs": [],
   "source": []
  }
 ],
 "metadata": {
  "kernelspec": {
   "display_name": "Python 3",
   "language": "python",
   "name": "python3"
  },
  "language_info": {
   "codemirror_mode": {
    "name": "ipython",
    "version": 3
   },
   "file_extension": ".py",
   "mimetype": "text/x-python",
   "name": "python",
   "nbconvert_exporter": "python",
   "pygments_lexer": "ipython3",
   "version": "3.5.3"
  }
 },
 "nbformat": 4,
 "nbformat_minor": 0
}
