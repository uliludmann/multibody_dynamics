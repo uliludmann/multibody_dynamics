{
 "cells": [
  {
   "cell_type": "code",
   "execution_count": 63,
   "metadata": {
    "collapsed": true
   },
   "outputs": [],
   "source": [
    "from sympy import *\n",
    "from sympy.physics.mechanics import *\n",
    "import matplotlib.pyplot as plt"
   ]
  },
  {
   "cell_type": "code",
   "execution_count": 65,
   "metadata": {
    "collapsed": true
   },
   "outputs": [],
   "source": [
    "%matplotlib inline"
   ]
  },
  {
   "cell_type": "code",
   "execution_count": 7,
   "metadata": {
    "collapsed": true
   },
   "outputs": [],
   "source": [
    "#initialize mechanics printing\n",
    "mechanics_printing()"
   ]
  },
  {
   "cell_type": "code",
   "execution_count": 8,
   "metadata": {
    "collapsed": false
   },
   "outputs": [],
   "source": [
    "# define all variables\n",
    "\n",
    "# generalized coordinates\n",
    "q1, q2, q3, q4, q5, q6 = dynamicsymbols('q1:7')"
   ]
  },
  {
   "cell_type": "code",
   "execution_count": 14,
   "metadata": {
    "collapsed": false
   },
   "outputs": [],
   "source": [
    "# time\n",
    "t = Symbol('t')\n",
    "\n",
    "# masses\n",
    "m1, m2, m3, m4, m5, m6 = symbols('m1:7')\n",
    "\n",
    "\n",
    "# lengths\n",
    "l1, l2, l3, l4, l5, l6 = symbols('l1:7')\n"
   ]
  },
  {
   "cell_type": "code",
   "execution_count": 15,
   "metadata": {
    "collapsed": false
   },
   "outputs": [],
   "source": [
    "# shortcut for derivatives:\n",
    "q1d, q2d, q3d, q4d, q5d, q6d = dynamicsymbols('q1:7', 1)"
   ]
  },
  {
   "cell_type": "code",
   "execution_count": 19,
   "metadata": {
    "collapsed": true
   },
   "outputs": [],
   "source": [
    "#initialize fixed parameters\n",
    "a0, a1, a2, a3, a4, a5 = symbols('a0:6')\n",
    "alpha0, alpha1, alpha2, alpha3, alpha4, alpha5 = symbols('alpha0:6')\n",
    "d1, d2, d3, d4, d5, d6 = symbols('d1:7')"
   ]
  },
  {
   "cell_type": "markdown",
   "metadata": {},
   "source": [
    "## Forward Kinematics"
   ]
  },
  {
   "cell_type": "markdown",
   "metadata": {},
   "source": [
    "The Position of the End-effector with respect to the base fram can be expressed as a multiplication of all of the transformation Matrices of the individual joints.\n",
    "\n",
    "$$ _{0}^{EE}\\textrm{T} = _{0}^{1}\\textrm{T}_{1}^{2}\\textrm{T} _{2}^{3} \\textrm{T} _{3}^{4} \\textrm{T} _{4}^{5} \\textrm{T} _{5}^{6} \\textrm{T} _{6}^{EE} \\textrm{T} $$\n",
    "\n",
    "Forunately the Denavit Hartenberg parameters are given by the  manufacturer of our example robot. So we can obtain the individual transformation Matrices by applying the DH parameters in the DH Transformation Matrix.\n"
   ]
  },
  {
   "cell_type": "code",
   "execution_count": 17,
   "metadata": {
    "collapsed": true
   },
   "outputs": [],
   "source": [
    "def dh_transformation_step(alpha, a, d, q):\n",
    "    \"\"\"\n",
    "    returns a DH Transformation matrix.\n",
    "    \"\"\"\n",
    "    transformation_matrix = Matrix([\n",
    "        [cos(q), -sin(q), 0, a],\n",
    "        [sin(q) * cos(alpha), cos(q) * cos(alpha), -sin(alpha), -sin(alpha) * d],\n",
    "        [sin(q) * sin(alpha), cos(q) * sin(alpha), cos(alpha), cos(alpha) * d],\n",
    "        [0, 0, 0, 1]\n",
    "    ])\n",
    "    return transformation_matrix"
   ]
  },
  {
   "cell_type": "code",
   "execution_count": 20,
   "metadata": {
    "collapsed": false
   },
   "outputs": [],
   "source": [
    "#define the denavit hartenberg parameters of the UR5\n",
    "dh_params = {\n",
    "    a0: 0, alpha0: 0,\n",
    "    a1: 0, alpha1: pi/2, d1: 0.08916, q1: q1,\n",
    "    a2: 0.425, alpha2: 0, d2: 0, q2: q2,\n",
    "    a3: 0.39225, alpha3: 0, d3: 0, q3: q3,\n",
    "    a4: 0, alpha4: pi/2, d4: 0.10915, q4: q4,\n",
    "    a5: 0, alpha5: -pi/2, d5: 0.09456, q5: q5,\n",
    "    d6: 0.0823, q6:q6\n",
    "}"
   ]
  },
  {
   "cell_type": "code",
   "execution_count": 21,
   "metadata": {
    "collapsed": true
   },
   "outputs": [],
   "source": [
    "# calculate individual transformation matrices \n",
    "T01 = dh_transformation_step(alpha0, a0, d1, q1).subs(dh_params)\n",
    "T12 = dh_transformation_step(alpha1, a1, d2, q2).subs(dh_params)\n",
    "T23 = dh_transformation_step(alpha2, a2, d3, q3).subs(dh_params)\n",
    "T34 = dh_transformation_step(alpha3, a3, d4, q4).subs(dh_params)\n",
    "T45 = dh_transformation_step(alpha4, a4, d5, q5).subs(dh_params)\n",
    "T56 = dh_transformation_step(alpha5, a5, d6, q6).subs(dh_params)"
   ]
  },
  {
   "cell_type": "code",
   "execution_count": 56,
   "metadata": {
    "collapsed": false
   },
   "outputs": [],
   "source": [
    "def get_positions(q1n, q2n, q3n, q4n, q5n, q6n):\n",
    "    \"\"\"takes radian values for each joints. Returns positions of each joint and End-Effector\"\"\"\n",
    "    global T01, T12, T23, T34, T45, T56\n",
    "    T01 = T01\n",
    "    T02 = T01 * T12\n",
    "    T03 = T02 * T23\n",
    "    T04 = T03 * T34\n",
    "    T05 = T04 * T45\n",
    "    T06 = T05 * T56\n",
    "    \n",
    "    joint1 = T01.subs({q1: q1n, q2: q2n, q3: q3n, q4: q4n, q5: q5n, q6: q6n})[:, 3][:3]\n",
    "    joint2 = T02.subs({q1: q1n, q2: q2n, q3: q3n, q4: q4n, q5: q5n, q6: q6n})[:, 3][:3]\n",
    "    joint3 = T03.subs({q1: q1n, q2: q2n, q3: q3n, q4: q4n, q5: q5n, q6: q6n})[:, 3][:3]\n",
    "    joint4 = T04.subs({q1: q1n, q2: q2n, q3: q3n, q4: q4n, q5: q5n, q6: q6n})[:, 3][:3]\n",
    "    joint5 = T05.subs({q1: q1n, q2: q2n, q3: q3n, q4: q4n, q5: q5n, q6: q6n})[:, 3][:3]\n",
    "    joint6 = T06.subs({q1: q1n, q2: q2n, q3: q3n, q4: q4n, q5: q5n, q6: q6n})[:, 3][:3]\n",
    "    return joint1, joint2, joint3, joint4, joint5, joint6"
   ]
  },
  {
   "cell_type": "code",
   "execution_count": 157,
   "metadata": {
    "collapsed": false
   },
   "outputs": [],
   "source": [
    "j1, j2, j3, j4, j5, j6 = get_positions(0, pi/2, 0, pi/2, 0, 0)"
   ]
  },
  {
   "cell_type": "code",
   "execution_count": 158,
   "metadata": {
    "collapsed": false
   },
   "outputs": [
    {
     "data": {
      "image/png": "[encoded data removed]",
      "text/latex": [
       "$$\\left [ 0, \\quad -0.19145, \\quad 1.00097\\right ]$$"
      ],
      "text/plain": [
       "[0, -0.19145, 1.00097]"
      ]
     },
     "execution_count": 158,
     "metadata": {},
     "output_type": "execute_result"
    }
   ],
   "source": [
    "j6"
   ]
  },
  {
   "cell_type": "code",
   "execution_count": 241,
   "metadata": {
    "collapsed": false
   },
   "outputs": [],
   "source": [
    "def plot2dxz(pointlist):\n",
    "    \"\"\"takes list of points and plots in 2D space\"\"\"\n",
    "    x = []\n",
    "    y = []\n",
    "    z = []\n",
    "    for p in pointlist:\n",
    "        x.append(p[0])\n",
    "        y.append(p[1])\n",
    "        z.append(p[2])\n",
    "    plt.scatter(x, z)\n",
    "    plt.xlabel('x')\n",
    "    plt.ylabel('z')"
   ]
  },
  {
   "cell_type": "code",
   "execution_count": 242,
   "metadata": {
    "collapsed": true
   },
   "outputs": [],
   "source": [
    "def plot2dyz(pointlist):\n",
    "    \"\"\"takes list of points and plots in 2D space\"\"\"\n",
    "    x = []\n",
    "    y = []\n",
    "    z = []\n",
    "    for p in pointlist:\n",
    "        x.append(p[0])\n",
    "        y.append(p[1])\n",
    "        z.append(p[2])\n",
    "    plt.scatter(y, z)\n",
    "    plt.xlabel('y')\n",
    "    plt.ylabel('z')"
   ]
  },
  {
   "cell_type": "code",
   "execution_count": 243,
   "metadata": {
    "collapsed": true
   },
   "outputs": [],
   "source": [
    "def plot2dxy(pointlist):\n",
    "    \"\"\"takes list of points and plots in 2D space\"\"\"\n",
    "    x = []\n",
    "    y = []\n",
    "    z = []\n",
    "    for p in pointlist:\n",
    "        x.append(p[0])\n",
    "        y.append(p[1])\n",
    "        z.append(p[2])\n",
    "    plt.scatter(x, y)\n",
    "    plt.xlabel('x')\n",
    "    plt.ylabel('y')"
   ]
  },
  {
   "cell_type": "code",
   "execution_count": 359,
   "metadata": {
    "collapsed": true
   },
   "outputs": [],
   "source": [
    "def plot2dxyz(pointlist):\n",
    "    \"\"\"takes list of points and plots in 2D space\"\"\"\n",
    "    x = []\n",
    "    y = []\n",
    "    z = []\n",
    "    names = ['j0', 'j1', 'j2', 'j3', 'j4', 'j5', 'j6']\n",
    "\n",
    "    for p in pointlist:\n",
    "        x.append(p[0])\n",
    "        y.append(p[1])\n",
    "        z.append(p[2])\n",
    "    f, (ax1, ax2) = plt.subplots(1, 2, sharey=True)\n",
    "    f.set_figheight(5)\n",
    "    f.set_figwidth(15)\n",
    "    ax1.scatter(x, z, c = ['red','blue','yellow','purple','cyan','brown'])\n",
    "    ax1.set_title('XZ')\n",
    "    ax1.set_xlim(-1.0, 1.0)\n",
    "    ax1.set_ylim(-0.05, 1.3)\n",
    "    ax2.scatter(y, z, c = ['red','blue','yellow','purple','cyan','brown'])\n",
    "    ax2.set_title('YZ')\n",
    "    ax2.set_xlim(-1.0, 1.0)\n",
    "    ax2.set_ylim(-0.05, 1.3)\n",
    "    for i, txt in enumerate(names):\n",
    "        ax1.annotate(txt, (x[i],z[i]))\n",
    "        ax2.annotate(txt, (y[i],z[i]))\n"
   ]
  },
  {
   "cell_type": "code",
   "execution_count": 360,
   "metadata": {
    "collapsed": true
   },
   "outputs": [],
   "source": [
    "j0 = [0, 0, 0]"
   ]
  },
  {
   "cell_type": "code",
   "execution_count": 361,
   "metadata": {
    "collapsed": true
   },
   "outputs": [],
   "source": [
    "j1, j2, j3, j4, j5, j6 = get_positions(0, pi/2, 0, 0, 0, 0)"
   ]
  },
  {
   "cell_type": "code",
   "execution_count": 362,
   "metadata": {
    "collapsed": false
   },
   "outputs": [
    {
     "data": {
      "image/png": "[encoded data removed]",
      "text/plain": [
       "<matplotlib.figure.Figure at 0x10eaae2e8>"
      ]
     },
     "metadata": {},
     "output_type": "display_data"
    }
   ],
   "source": [
    "plot2dxyz([j0, j1, j2, j3, j4, j5, j6])"
   ]
  },
  {
   "cell_type": "code",
   "execution_count": null,
   "metadata": {
    "collapsed": true
   },
   "outputs": [],
   "source": []
  },
  {
   "cell_type": "code",
   "execution_count": null,
   "metadata": {
    "collapsed": true
   },
   "outputs": [],
   "source": []
  },
  {
   "cell_type": "code",
   "execution_count": null,
   "metadata": {
    "collapsed": true
   },
   "outputs": [],
   "source": []
  }
 ],
 "metadata": {
  "kernelspec": {
   "display_name": "Python 3",
   "language": "python",
   "name": "python3"
  },
  "language_info": {
   "codemirror_mode": {
    "name": "ipython",
    "version": 3
   },
   "file_extension": ".py",
   "mimetype": "text/x-python",
   "name": "python",
   "nbconvert_exporter": "python",
   "pygments_lexer": "ipython3",
   "version": "3.5.3"
  }
 },
 "nbformat": 4,
 "nbformat_minor": 0
}
