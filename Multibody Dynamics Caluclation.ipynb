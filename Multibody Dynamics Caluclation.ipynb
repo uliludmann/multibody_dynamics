{
 "cells": [
  {
   "cell_type": "code",
   "execution_count": 63,
   "metadata": {
    "collapsed": true
   },
   "outputs": [],
   "source": [
    "from sympy import *\n",
    "from sympy.physics.mechanics import *\n",
    "import matplotlib.pyplot as plt"
   ]
  },
  {
   "cell_type": "code",
   "execution_count": 65,
   "metadata": {
    "collapsed": true
   },
   "outputs": [],
   "source": [
    "%matplotlib inline"
   ]
  },
  {
   "cell_type": "code",
   "execution_count": 7,
   "metadata": {
    "collapsed": true
   },
   "outputs": [],
   "source": [
    "#initialize mechanics printing\n",
    "mechanics_printing()"
   ]
  },
  {
   "cell_type": "code",
   "execution_count": 8,
   "metadata": {
    "collapsed": false
   },
   "outputs": [],
   "source": [
    "# define all variables\n",
    "## generalized coordinates\n",
    "q1, q2, q3, q4, q5, q6 = dynamicsymbols('q1:7')"
   ]
  },
  {
   "cell_type": "code",
   "execution_count": 14,
   "metadata": {
    "collapsed": false
   },
   "outputs": [],
   "source": [
    "## time\n",
    "t = Symbol('t')\n",
    "\n",
    "## masses\n",
    "m1, m2, m3, m4, m5, m6 = symbols('m1:7')\n",
    "\n",
    "\n",
    "## lengths\n",
    "l1, l2, l3, l4, l5, l6 = symbols('l1:7')\n"
   ]
  },
  {
   "cell_type": "code",
   "execution_count": 15,
   "metadata": {
    "collapsed": false
   },
   "outputs": [],
   "source": [
    "# shortcut for derivatives:\n",
    "q1d, q2d, q3d, q4d, q5d, q6d = dynamicsymbols('q1:7', 1)"
   ]
  },
  {
   "cell_type": "code",
   "execution_count": 19,
   "metadata": {
    "collapsed": true
   },
   "outputs": [],
   "source": [
    "#initialize fixed parameters\n",
    "a0, a1, a2, a3, a4, a5 = symbols('a0:6')\n",
    "alpha0, alpha1, alpha2, alpha3, alpha4, alpha5 = symbols('alpha0:6')\n",
    "d1, d2, d3, d4, d5, d6 = symbols('d1:7')"
   ]
  },
  {
   "cell_type": "code",
   "execution_count": 389,
   "metadata": {
    "collapsed": true
   },
   "outputs": [],
   "source": [
    "# degrees to radians converter\n",
    "dtr = pi/180"
   ]
  },
  {
   "cell_type": "markdown",
   "metadata": {},
   "source": [
    "## Forward Kinematics"
   ]
  },
  {
   "cell_type": "markdown",
   "metadata": {},
   "source": [
    "The Position of the End-effector with respect to the base fram can be expressed as a multiplication of all of the transformation Matrices of the individual joints.\n",
    "\n",
    "$$ _{0}^{EE}\\textrm{T} = _{0}^{1}\\textrm{T}_{1}^{2}\\textrm{T} _{2}^{3} \\textrm{T} _{3}^{4} \\textrm{T} _{4}^{5} \\textrm{T} _{5}^{6} \\textrm{T} _{6}^{EE} \\textrm{T} $$\n",
    "\n",
    "Forunately the Denavit Hartenberg parameters are given by the  manufacturer of our example robot. So we can obtain the individual transformation Matrices by applying the DH parameters in the DH Transformation Matrix.\n"
   ]
  },
  {
   "cell_type": "code",
   "execution_count": 17,
   "metadata": {
    "collapsed": true
   },
   "outputs": [],
   "source": [
    "def dh_transformation_step(alpha, a, d, q):\n",
    "    \"\"\"\n",
    "    returns a DH Transformation matrix.\n",
    "    \"\"\"\n",
    "    transformation_matrix = Matrix([\n",
    "        [cos(q), -sin(q), 0, a],\n",
    "        [sin(q) * cos(alpha), cos(q) * cos(alpha), -sin(alpha), -sin(alpha) * d],\n",
    "        [sin(q) * sin(alpha), cos(q) * sin(alpha), cos(alpha), cos(alpha) * d],\n",
    "        [0, 0, 0, 1]\n",
    "    ])\n",
    "    return transformation_matrix"
   ]
  },
  {
   "cell_type": "code",
   "execution_count": 20,
   "metadata": {
    "collapsed": false
   },
   "outputs": [],
   "source": [
    "#define the denavit hartenberg parameters of the UR5\n",
    "dh_params = {\n",
    "    a0: 0, alpha0: 0,\n",
    "    a1: 0, alpha1: pi/2, d1: 0.08916, q1: q1,\n",
    "    a2: 0.425, alpha2: 0, d2: 0, q2: q2,\n",
    "    a3: 0.39225, alpha3: 0, d3: 0, q3: q3,\n",
    "    a4: 0, alpha4: pi/2, d4: 0.10915, q4: q4,\n",
    "    a5: 0, alpha5: -pi/2, d5: 0.09456, q5: q5,\n",
    "    d6: 0.0823, q6:q6\n",
    "}"
   ]
  },
  {
   "cell_type": "code",
   "execution_count": 409,
   "metadata": {
    "collapsed": true
   },
   "outputs": [],
   "source": [
    "# calculate individual transformation matrices \n",
    "T01 = dh_transformation_step(alpha0, a0, d1, q1).subs(dh_params)\n",
    "T12 = dh_transformation_step(alpha1, a1, d2, q2).subs(dh_params)\n",
    "T23 = dh_transformation_step(alpha2, a2, d3, q3).subs(dh_params)\n",
    "T34 = dh_transformation_step(alpha3, a3, d4, q4).subs(dh_params)\n",
    "T45 = dh_transformation_step(alpha4, a4, d5, q5).subs(dh_params)\n",
    "T56 = dh_transformation_step(alpha5, a5, d6, q6).subs(dh_params)"
   ]
  },
  {
   "cell_type": "code",
   "execution_count": 391,
   "metadata": {
    "collapsed": false
   },
   "outputs": [],
   "source": [
    "def get_positions_ur5(q1n, q2n, q3n, q4n, q5n, q6n):\n",
    "    \"\"\"takes radian values for each joints. Returns positions of each joint and End-Effector\"\"\"\n",
    "    global T01, T12, T23, T34, T45, T56\n",
    "    T01 = T01\n",
    "    T02 = T01 * T12\n",
    "    T03 = T02 * T23\n",
    "    T04 = T03 * T34\n",
    "    T05 = T04 * T45\n",
    "    T06 = T05 * T56\n",
    "    \n",
    "    joint0 = [0.0, 0.0, 0.0]\n",
    "    joint1 = T01.subs({q1: q1n, q2: q2n, q3: q3n, q4: q4n, q5: q5n, q6: q6n})[:, 3][:3]\n",
    "    joint2 = T02.subs({q1: q1n, q2: q2n, q3: q3n, q4: q4n, q5: q5n, q6: q6n})[:, 3][:3]\n",
    "    joint3 = T03.subs({q1: q1n, q2: q2n, q3: q3n, q4: q4n, q5: q5n, q6: q6n})[:, 3][:3]\n",
    "    joint4 = T04.subs({q1: q1n, q2: q2n, q3: q3n, q4: q4n, q5: q5n, q6: q6n})[:, 3][:3]\n",
    "    joint5 = T05.subs({q1: q1n, q2: q2n, q3: q3n, q4: q4n, q5: q5n, q6: q6n})[:, 3][:3]\n",
    "    joint6 = T06.subs({q1: q1n, q2: q2n, q3: q3n, q4: q4n, q5: q5n, q6: q6n})[:, 3][:3]\n",
    "    return joint0, joint1, joint2, joint3, joint4, joint5, joint6"
   ]
  },
  {
   "cell_type": "code",
   "execution_count": 157,
   "metadata": {
    "collapsed": false
   },
   "outputs": [],
   "source": [
    "j1, j2, j3, j4, j5, j6 = get_positions(0, pi/2, 0, pi/2, 0, 0)"
   ]
  },
  {
   "cell_type": "code",
   "execution_count": 158,
   "metadata": {
    "collapsed": false
   },
   "outputs": [
    {
     "data": {
      "image/png": "[encoded data removed]",
      "text/latex": [
       "$$\\left [ 0, \\quad -0.19145, \\quad 1.00097\\right ]$$"
      ],
      "text/plain": [
       "[0, -0.19145, 1.00097]"
      ]
     },
     "execution_count": 158,
     "metadata": {},
     "output_type": "execute_result"
    }
   ],
   "source": [
    "j6"
   ]
  },
  {
   "cell_type": "code",
   "execution_count": 241,
   "metadata": {
    "collapsed": false
   },
   "outputs": [],
   "source": [
    "def plot2dxz(pointlist):\n",
    "    \"\"\"takes list of points and plots in 2D space\"\"\"\n",
    "    x = []\n",
    "    y = []\n",
    "    z = []\n",
    "    for p in pointlist:\n",
    "        x.append(p[0])\n",
    "        y.append(p[1])\n",
    "        z.append(p[2])\n",
    "    plt.scatter(x, z)\n",
    "    plt.xlabel('x')\n",
    "    plt.ylabel('z')"
   ]
  },
  {
   "cell_type": "code",
   "execution_count": 242,
   "metadata": {
    "collapsed": true
   },
   "outputs": [],
   "source": [
    "def plot2dyz(pointlist):\n",
    "    \"\"\"takes list of points and plots in 2D space\"\"\"\n",
    "    x = []\n",
    "    y = []\n",
    "    z = []\n",
    "    for p in pointlist:\n",
    "        x.append(p[0])\n",
    "        y.append(p[1])\n",
    "        z.append(p[2])\n",
    "    plt.scatter(y, z)\n",
    "    plt.xlabel('y')\n",
    "    plt.ylabel('z')"
   ]
  },
  {
   "cell_type": "code",
   "execution_count": 243,
   "metadata": {
    "collapsed": true
   },
   "outputs": [],
   "source": [
    "def plot2dxy(pointlist):\n",
    "    \"\"\"takes list of points and plots in 2D space\"\"\"\n",
    "    x = []\n",
    "    y = []\n",
    "    z = []\n",
    "    for p in pointlist:\n",
    "        x.append(p[0])\n",
    "        y.append(p[1])\n",
    "        z.append(p[2])\n",
    "    plt.scatter(x, y)\n",
    "    plt.xlabel('x')\n",
    "    plt.ylabel('y')"
   ]
  },
  {
   "cell_type": "code",
   "execution_count": 359,
   "metadata": {
    "collapsed": true
   },
   "outputs": [],
   "source": [
    "def plot2dxyz(pointlist):\n",
    "    \"\"\"takes list of points and plots in 2D space\"\"\"\n",
    "    x = []\n",
    "    y = []\n",
    "    z = []\n",
    "    names = ['j0', 'j1', 'j2', 'j3', 'j4', 'j5', 'j6']\n",
    "\n",
    "    for p in pointlist:\n",
    "        x.append(p[0])\n",
    "        y.append(p[1])\n",
    "        z.append(p[2])\n",
    "    f, (ax1, ax2) = plt.subplots(1, 2, sharey=True)\n",
    "    f.set_figheight(5)\n",
    "    f.set_figwidth(15)\n",
    "    ax1.scatter(x, z, c = ['red','blue','yellow','purple','cyan','brown'])\n",
    "    ax1.set_title('XZ')\n",
    "    ax1.set_xlim(-1.0, 1.0)\n",
    "    ax1.set_ylim(-0.05, 1.3)\n",
    "    ax2.scatter(y, z, c = ['red','blue','yellow','purple','cyan','brown'])\n",
    "    ax2.set_title('YZ')\n",
    "    ax2.set_xlim(-1.0, 1.0)\n",
    "    ax2.set_ylim(-0.05, 1.3)\n",
    "    for i, txt in enumerate(names):\n",
    "        ax1.annotate(txt, (x[i],z[i]))\n",
    "        ax2.annotate(txt, (y[i],z[i]))\n"
   ]
  },
  {
   "cell_type": "code",
   "execution_count": null,
   "metadata": {
    "collapsed": true
   },
   "outputs": [],
   "source": []
  },
  {
   "cell_type": "code",
   "execution_count": 376,
   "metadata": {
    "collapsed": false
   },
   "outputs": [],
   "source": [
    "j0, j1, j2, j3, j4, j5, j6 = get_positions(0, pi/2, 0, pi/2, 0, 0)"
   ]
  },
  {
   "cell_type": "code",
   "execution_count": 377,
   "metadata": {
    "collapsed": false
   },
   "outputs": [
    {
     "data": {
      "image/png": "[encoded data removed]",
      "text/plain": [
       "<matplotlib.figure.Figure at 0x111b03b70>"
      ]
     },
     "metadata": {},
     "output_type": "display_data"
    }
   ],
   "source": [
    "plot2dxyz([j0, j1, j2, j3, j4, j5, j6])"
   ]
  },
  {
   "cell_type": "code",
   "execution_count": 387,
   "metadata": {
    "collapsed": true
   },
   "outputs": [],
   "source": [
    "j2_90degrees = get_positions(0, pi/2 - 90* dtr, 0, pi/2, 0, 0)"
   ]
  },
  {
   "cell_type": "code",
   "execution_count": 388,
   "metadata": {
    "collapsed": false
   },
   "outputs": [
    {
     "data": {
      "image/png": "[encoded data removed]",
      "text/plain": [
       "<matplotlib.figure.Figure at 0x10e79cfd0>"
      ]
     },
     "metadata": {},
     "output_type": "display_data"
    }
   ],
   "source": [
    "plot2dxyz(j2_90degrees)"
   ]
  },
  {
   "cell_type": "code",
   "execution_count": 406,
   "metadata": {
    "collapsed": false
   },
   "outputs": [
    {
     "data": {
      "image/png": "[encoded data removed]",
      "text/latex": [
       "$$\\left [ 0, \\quad -0.19145, \\quad 1.00097\\right ]$$"
      ],
      "text/plain": [
       "[0, -0.19145, 1.00097]"
      ]
     },
     "execution_count": 406,
     "metadata": {},
     "output_type": "execute_result"
    }
   ],
   "source": [
    "j6"
   ]
  },
  {
   "cell_type": "markdown",
   "metadata": {},
   "source": [
    "## General expressions of the coordinates"
   ]
  },
  {
   "cell_type": "code",
   "execution_count": 450,
   "metadata": {
    "collapsed": true
   },
   "outputs": [],
   "source": [
    "T01g = dh_transformation_step(alpha0, a0, d1, q1)\n",
    "T12g = dh_transformation_step(alpha1, a1, d2, q2)\n",
    "T23g = dh_transformation_step(alpha2, a2, d3, q3)\n",
    "T34g = dh_transformation_step(alpha3, a3, d4, q4)\n",
    "T45g = dh_transformation_step(alpha4, a4, d5, q5)\n",
    "T56g = dh_transformation_step(alpha5, a5, d6, q6)"
   ]
  },
  {
   "cell_type": "code",
   "execution_count": 509,
   "metadata": {
    "collapsed": false
   },
   "outputs": [],
   "source": [
    "j1g = Matrix((T01g)[:, 3].subs(dh_params)[:3])\n",
    "j2g = Matrix((T01g * T12g)[:, 3].subs(dh_params)[:3])\n",
    "j3g = Matrix((T01g * T12g * T23g)[:, 3].subs(dh_params)[:3])\n",
    "j4g = Matrix((T01g * T12g * T23g * T34g)[:, 3].subs(dh_params)[:3])\n",
    "j5g = Matrix((T01g * T12g * T23g * T34g * T45g)[:, 3].subs(dh_params)[:3])\n",
    "j6g = Matrix((T01g * T12g * T23g * T34g * T45g * T56g)[:, 3].subs(dh_params)[:3])"
   ]
  },
  {
   "cell_type": "code",
   "execution_count": 510,
   "metadata": {
    "collapsed": false
   },
   "outputs": [
    {
     "data": {
      "image/png": "[encoded data removed]",
      "text/latex": [
       "$$\\left[\\begin{matrix}0\\\\0\\\\0.08916\\end{matrix}\\right]$$"
      ],
      "text/plain": [
       "⎡   0   ⎤\n",
       "⎢       ⎥\n",
       "⎢   0   ⎥\n",
       "⎢       ⎥\n",
       "⎣0.08916⎦"
      ]
     },
     "execution_count": 510,
     "metadata": {},
     "output_type": "execute_result"
    }
   ],
   "source": [
    "j1g"
   ]
  },
  {
   "cell_type": "code",
   "execution_count": 511,
   "metadata": {
    "collapsed": false
   },
   "outputs": [
    {
     "data": {
      "image/png": "[encoded data removed]",
      "text/latex": [
       "$$\\left[\\begin{matrix}0\\\\0\\\\0.08916\\end{matrix}\\right]$$"
      ],
      "text/plain": [
       "⎡   0   ⎤\n",
       "⎢       ⎥\n",
       "⎢   0   ⎥\n",
       "⎢       ⎥\n",
       "⎣0.08916⎦"
      ]
     },
     "execution_count": 511,
     "metadata": {},
     "output_type": "execute_result"
    }
   ],
   "source": [
    "j2g"
   ]
  },
  {
   "cell_type": "code",
   "execution_count": 512,
   "metadata": {
    "collapsed": false
   },
   "outputs": [
    {
     "data": {
      "image/png": "[encoded data removed]",
      "text/latex": [
       "$$\\left[\\begin{matrix}0.425 \\operatorname{cos}\\left(q_{1}\\right) \\operatorname{cos}\\left(q_{2}\\right)\\\\0.425 \\operatorname{sin}\\left(q_{1}\\right) \\operatorname{cos}\\left(q_{2}\\right)\\\\0.425 \\operatorname{sin}\\left(q_{2}\\right) + 0.08916\\end{matrix}\\right]$$"
      ],
      "text/plain": [
       "⎡ 0.425⋅cos(q₁)⋅cos(q₂) ⎤\n",
       "⎢                       ⎥\n",
       "⎢ 0.425⋅sin(q₁)⋅cos(q₂) ⎥\n",
       "⎢                       ⎥\n",
       "⎣0.425⋅sin(q₂) + 0.08916⎦"
      ]
     },
     "execution_count": 512,
     "metadata": {},
     "output_type": "execute_result"
    }
   ],
   "source": [
    "j3g"
   ]
  },
  {
   "cell_type": "code",
   "execution_count": 513,
   "metadata": {
    "collapsed": false
   },
   "outputs": [
    {
     "data": {
      "image/png": "[encoded data removed]",
      "text/latex": [
       "$$\\left[\\begin{matrix}0.10915 \\operatorname{sin}\\left(q_{1}\\right) - 0.39225 \\operatorname{sin}\\left(q_{2}\\right) \\operatorname{sin}\\left(q_{3}\\right) \\operatorname{cos}\\left(q_{1}\\right) + 0.39225 \\operatorname{cos}\\left(q_{1}\\right) \\operatorname{cos}\\left(q_{2}\\right) \\operatorname{cos}\\left(q_{3}\\right) + 0.425 \\operatorname{cos}\\left(q_{1}\\right) \\operatorname{cos}\\left(q_{2}\\right)\\\\- 0.39225 \\operatorname{sin}\\left(q_{1}\\right) \\operatorname{sin}\\left(q_{2}\\right) \\operatorname{sin}\\left(q_{3}\\right) + 0.39225 \\operatorname{sin}\\left(q_{1}\\right) \\operatorname{cos}\\left(q_{2}\\right) \\operatorname{cos}\\left(q_{3}\\right) + 0.425 \\operatorname{sin}\\left(q_{1}\\right) \\operatorname{cos}\\left(q_{2}\\right) - 0.10915 \\operatorname{cos}\\left(q_{1}\\right)\\\\0.39225 \\operatorname{sin}\\left(q_{2}\\right) \\operatorname{cos}\\left(q_{3}\\right) + 0.425 \\operatorname{sin}\\left(q_{2}\\right) + 0.39225 \\operatorname{sin}\\left(q_{3}\\right) \\operatorname{cos}\\left(q_{2}\\right) + 0.08916\\end{matrix}\\right]$$"
      ],
      "text/plain": [
       "⎡0.10915⋅sin(q₁) - 0.39225⋅sin(q₂)⋅sin(q₃)⋅cos(q₁) + 0.39225⋅cos(q₁)⋅cos(q₂)⋅c\n",
       "⎢                                                                             \n",
       "⎢-0.39225⋅sin(q₁)⋅sin(q₂)⋅sin(q₃) + 0.39225⋅sin(q₁)⋅cos(q₂)⋅cos(q₃) + 0.425⋅si\n",
       "⎢                                                                             \n",
       "⎣                0.39225⋅sin(q₂)⋅cos(q₃) + 0.425⋅sin(q₂) + 0.39225⋅sin(q₃)⋅cos\n",
       "\n",
       "os(q₃) + 0.425⋅cos(q₁)⋅cos(q₂) ⎤\n",
       "                               ⎥\n",
       "n(q₁)⋅cos(q₂) - 0.10915⋅cos(q₁)⎥\n",
       "                               ⎥\n",
       "(q₂) + 0.08916                 ⎦"
      ]
     },
     "execution_count": 513,
     "metadata": {},
     "output_type": "execute_result"
    }
   ],
   "source": [
    "j4g"
   ]
  },
  {
   "cell_type": "code",
   "execution_count": 514,
   "metadata": {
    "collapsed": false
   },
   "outputs": [
    {
     "data": {
      "image/png": "[encoded data removed]",
      "text/latex": [
       "$$\\left[\\begin{matrix}0.09456 \\left(- \\operatorname{sin}\\left(q_{2}\\right) \\operatorname{sin}\\left(q_{3}\\right) \\operatorname{cos}\\left(q_{1}\\right) + \\operatorname{cos}\\left(q_{1}\\right) \\operatorname{cos}\\left(q_{2}\\right) \\operatorname{cos}\\left(q_{3}\\right)\\right) \\operatorname{sin}\\left(q_{4}\\right) - 0.09456 \\left(- \\operatorname{sin}\\left(q_{2}\\right) \\operatorname{cos}\\left(q_{1}\\right) \\operatorname{cos}\\left(q_{3}\\right) - \\operatorname{sin}\\left(q_{3}\\right) \\operatorname{cos}\\left(q_{1}\\right) \\operatorname{cos}\\left(q_{2}\\right)\\right) \\operatorname{cos}\\left(q_{4}\\right) + 0.10915 \\operatorname{sin}\\left(q_{1}\\right) - 0.39225 \\operatorname{sin}\\left(q_{2}\\right) \\operatorname{sin}\\left(q_{3}\\right) \\operatorname{cos}\\left(q_{1}\\right) + 0.39225 \\operatorname{cos}\\left(q_{1}\\right) \\operatorname{cos}\\left(q_{2}\\right) \\operatorname{cos}\\left(q_{3}\\right) + 0.425 \\operatorname{cos}\\left(q_{1}\\right) \\operatorname{cos}\\left(q_{2}\\right)\\\\0.09456 \\left(- \\operatorname{sin}\\left(q_{1}\\right) \\operatorname{sin}\\left(q_{2}\\right) \\operatorname{sin}\\left(q_{3}\\right) + \\operatorname{sin}\\left(q_{1}\\right) \\operatorname{cos}\\left(q_{2}\\right) \\operatorname{cos}\\left(q_{3}\\right)\\right) \\operatorname{sin}\\left(q_{4}\\right) - 0.09456 \\left(- \\operatorname{sin}\\left(q_{1}\\right) \\operatorname{sin}\\left(q_{2}\\right) \\operatorname{cos}\\left(q_{3}\\right) - \\operatorname{sin}\\left(q_{1}\\right) \\operatorname{sin}\\left(q_{3}\\right) \\operatorname{cos}\\left(q_{2}\\right)\\right) \\operatorname{cos}\\left(q_{4}\\right) - 0.39225 \\operatorname{sin}\\left(q_{1}\\right) \\operatorname{sin}\\left(q_{2}\\right) \\operatorname{sin}\\left(q_{3}\\right) + 0.39225 \\operatorname{sin}\\left(q_{1}\\right) \\operatorname{cos}\\left(q_{2}\\right) \\operatorname{cos}\\left(q_{3}\\right) + 0.425 \\operatorname{sin}\\left(q_{1}\\right) \\operatorname{cos}\\left(q_{2}\\right) - 0.10915 \\operatorname{cos}\\left(q_{1}\\right)\\\\- 0.09456 \\left(- \\operatorname{sin}\\left(q_{2}\\right) \\operatorname{sin}\\left(q_{3}\\right) + \\operatorname{cos}\\left(q_{2}\\right) \\operatorname{cos}\\left(q_{3}\\right)\\right) \\operatorname{cos}\\left(q_{4}\\right) + 0.09456 \\left(\\operatorname{sin}\\left(q_{2}\\right) \\operatorname{cos}\\left(q_{3}\\right) + \\operatorname{sin}\\left(q_{3}\\right) \\operatorname{cos}\\left(q_{2}\\right)\\right) \\operatorname{sin}\\left(q_{4}\\right) + 0.39225 \\operatorname{sin}\\left(q_{2}\\right) \\operatorname{cos}\\left(q_{3}\\right) + 0.425 \\operatorname{sin}\\left(q_{2}\\right) + 0.39225 \\operatorname{sin}\\left(q_{3}\\right) \\operatorname{cos}\\left(q_{2}\\right) + 0.08916\\end{matrix}\\right]$$"
      ],
      "text/plain": [
       "⎡0.09456⋅(-sin(q₂)⋅sin(q₃)⋅cos(q₁) + cos(q₁)⋅cos(q₂)⋅cos(q₃))⋅sin(q₄) - 0.0945\n",
       "⎢                                                                             \n",
       "⎢0.09456⋅(-sin(q₁)⋅sin(q₂)⋅sin(q₃) + sin(q₁)⋅cos(q₂)⋅cos(q₃))⋅sin(q₄) - 0.0945\n",
       "⎢                                                                             \n",
       "⎣                                -0.09456⋅(-sin(q₂)⋅sin(q₃) + cos(q₂)⋅cos(q₃))\n",
       "\n",
       "6⋅(-sin(q₂)⋅cos(q₁)⋅cos(q₃) - sin(q₃)⋅cos(q₁)⋅cos(q₂))⋅cos(q₄) + 0.10915⋅sin(q\n",
       "                                                                              \n",
       "6⋅(-sin(q₁)⋅sin(q₂)⋅cos(q₃) - sin(q₁)⋅sin(q₃)⋅cos(q₂))⋅cos(q₄) - 0.39225⋅sin(q\n",
       "                                                                              \n",
       "⋅cos(q₄) + 0.09456⋅(sin(q₂)⋅cos(q₃) + sin(q₃)⋅cos(q₂))⋅sin(q₄) + 0.39225⋅sin(q\n",
       "\n",
       "₁) - 0.39225⋅sin(q₂)⋅sin(q₃)⋅cos(q₁) + 0.39225⋅cos(q₁)⋅cos(q₂)⋅cos(q₃) + 0.425\n",
       "                                                                              \n",
       "₁)⋅sin(q₂)⋅sin(q₃) + 0.39225⋅sin(q₁)⋅cos(q₂)⋅cos(q₃) + 0.425⋅sin(q₁)⋅cos(q₂) -\n",
       "                                                                              \n",
       "₂)⋅cos(q₃) + 0.425⋅sin(q₂) + 0.39225⋅sin(q₃)⋅cos(q₂) + 0.08916                \n",
       "\n",
       "⋅cos(q₁)⋅cos(q₂)⎤\n",
       "                ⎥\n",
       " 0.10915⋅cos(q₁)⎥\n",
       "                ⎥\n",
       "                ⎦"
      ]
     },
     "execution_count": 514,
     "metadata": {},
     "output_type": "execute_result"
    }
   ],
   "source": [
    "j5g"
   ]
  },
  {
   "cell_type": "code",
   "execution_count": 516,
   "metadata": {
    "collapsed": false
   },
   "outputs": [
    {
     "data": {
      "image/png": "[encoded data removed]",
      "text/latex": [
       "$$\\left[\\begin{matrix}0.09456 \\operatorname{sin}\\left(q_{2} + q_{3} + q_{4}\\right) \\operatorname{cos}\\left(q_{1}\\right) + 0.0823 \\operatorname{sin}\\left(q_{1}\\right) \\operatorname{cos}\\left(q_{5}\\right) + 0.10915 \\operatorname{sin}\\left(q_{1}\\right) - 0.0823 \\operatorname{sin}\\left(q_{5}\\right) \\operatorname{cos}\\left(q_{2} + q_{3} + q_{4}\\right) \\operatorname{cos}\\left(q_{1}\\right) + 0.39225 \\operatorname{cos}\\left(q_{2} + q_{3}\\right) \\operatorname{cos}\\left(q_{1}\\right) + 0.425 \\operatorname{cos}\\left(q_{1}\\right) \\operatorname{cos}\\left(q_{2}\\right)\\\\0.09456 \\operatorname{sin}\\left(q_{2} + q_{3} + q_{4}\\right) \\operatorname{sin}\\left(q_{1}\\right) - 0.0823 \\operatorname{sin}\\left(q_{1}\\right) \\operatorname{sin}\\left(q_{5}\\right) \\operatorname{cos}\\left(q_{2} + q_{3} + q_{4}\\right) + 0.39225 \\operatorname{sin}\\left(q_{1}\\right) \\operatorname{cos}\\left(q_{2} + q_{3}\\right) + 0.425 \\operatorname{sin}\\left(q_{1}\\right) \\operatorname{cos}\\left(q_{2}\\right) - 0.0823 \\operatorname{cos}\\left(q_{1}\\right) \\operatorname{cos}\\left(q_{5}\\right) - 0.10915 \\operatorname{cos}\\left(q_{1}\\right)\\\\0.39225 \\operatorname{sin}\\left(q_{2} + q_{3}\\right) - 0.0823 \\operatorname{sin}\\left(q_{2} + q_{3} + q_{4}\\right) \\operatorname{sin}\\left(q_{5}\\right) + 0.425 \\operatorname{sin}\\left(q_{2}\\right) - 0.09456 \\operatorname{cos}\\left(q_{2} + q_{3} + q_{4}\\right) + 0.08916\\end{matrix}\\right]$$"
      ],
      "text/plain": [
       "⎡0.09456⋅sin(q₂ + q₃ + q₄)⋅cos(q₁) + 0.0823⋅sin(q₁)⋅cos(q₅) + 0.10915⋅sin(q₁) \n",
       "⎢                                                                             \n",
       "⎢0.09456⋅sin(q₂ + q₃ + q₄)⋅sin(q₁) - 0.0823⋅sin(q₁)⋅sin(q₅)⋅cos(q₂ + q₃ + q₄) \n",
       "⎢                                                                             \n",
       "⎣                                0.39225⋅sin(q₂ + q₃) - 0.0823⋅sin(q₂ + q₃ + q\n",
       "\n",
       "- 0.0823⋅sin(q₅)⋅cos(q₂ + q₃ + q₄)⋅cos(q₁) + 0.39225⋅cos(q₂ + q₃)⋅cos(q₁) + 0.\n",
       "                                                                              \n",
       "+ 0.39225⋅sin(q₁)⋅cos(q₂ + q₃) + 0.425⋅sin(q₁)⋅cos(q₂) - 0.0823⋅cos(q₁)⋅cos(q₅\n",
       "                                                                              \n",
       "₄)⋅sin(q₅) + 0.425⋅sin(q₂) - 0.09456⋅cos(q₂ + q₃ + q₄) + 0.08916              \n",
       "\n",
       "425⋅cos(q₁)⋅cos(q₂)⎤\n",
       "                   ⎥\n",
       ") - 0.10915⋅cos(q₁)⎥\n",
       "                   ⎥\n",
       "                   ⎦"
      ]
     },
     "execution_count": 516,
     "metadata": {},
     "output_type": "execute_result"
    }
   ],
   "source": [
    "simplify(j6g)"
   ]
  },
  {
   "cell_type": "markdown",
   "metadata": {},
   "source": [
    "## Lagrange for each joint"
   ]
  },
  {
   "cell_type": "code",
   "execution_count": 560,
   "metadata": {
    "collapsed": false
   },
   "outputs": [],
   "source": [
    "# Lagrange joint 2\n",
    "j1gd = Derivative(j1g[2], t)"
   ]
  },
  {
   "cell_type": "code",
   "execution_count": 519,
   "metadata": {
    "collapsed": false
   },
   "outputs": [
    {
     "data": {
      "image/png": "[encoded data removed]",
      "text/latex": [
       "$$0.425 \\operatorname{cos}\\left(q_{2}\\right) \\dot{q}_{2}$$"
      ],
      "text/plain": [
       "d                          \n",
       "──(0.425⋅sin(q₂) + 0.08916)\n",
       "dt                         "
      ]
     },
     "execution_count": 519,
     "metadata": {},
     "output_type": "execute_result"
    }
   ],
   "source": [
    "Derivative(j3g[2], t)"
   ]
  },
  {
   "cell_type": "code",
   "execution_count": 563,
   "metadata": {
    "collapsed": false
   },
   "outputs": [],
   "source": [
    "def joint_velocities(joint):\n",
    "    \"\"\"\n",
    "    takes a joint x,y,z and returns its velocity as Matrix\n",
    "    \"\"\"\n",
    "    vel_matrix = []\n",
    "    for i in joint:\n",
    "        vel_matrix.append(simplify(Derivative(i, t)))\n",
    "    \n",
    "    return Matrix(vel_matrix)"
   ]
  },
  {
   "cell_type": "code",
   "execution_count": 573,
   "metadata": {
    "collapsed": true
   },
   "outputs": [],
   "source": [
    "j1gd = joint_velocities(j1g)"
   ]
  },
  {
   "cell_type": "code",
   "execution_count": 574,
   "metadata": {
    "collapsed": true
   },
   "outputs": [],
   "source": [
    "j2gd = joint_velocities(j2g)"
   ]
  },
  {
   "cell_type": "code",
   "execution_count": 575,
   "metadata": {
    "collapsed": false
   },
   "outputs": [],
   "source": [
    "j3gd = joint_velocities(j3g)"
   ]
  },
  {
   "cell_type": "code",
   "execution_count": 576,
   "metadata": {
    "collapsed": false
   },
   "outputs": [],
   "source": [
    "j4gd = joint_velocities(j4g)"
   ]
  },
  {
   "cell_type": "code",
   "execution_count": 577,
   "metadata": {
    "collapsed": true
   },
   "outputs": [],
   "source": [
    "j5gd = joint_velocities(j5g)"
   ]
  },
  {
   "cell_type": "code",
   "execution_count": 567,
   "metadata": {
    "collapsed": true
   },
   "outputs": [],
   "source": [
    "j6gd = joint_velocities(j6)"
   ]
  },
  {
   "cell_type": "code",
   "execution_count": 570,
   "metadata": {
    "collapsed": false
   },
   "outputs": [
    {
     "data": {
      "text/latex": [
       "$$\\left[\\begin{matrix}- 0.425 \\operatorname{sin}\\left(q_{1}\\right) \\operatorname{cos}\\left(q_{2}\\right) \\dot{q}_{1} - 0.425 \\operatorname{sin}\\left(q_{2}\\right) \\operatorname{cos}\\left(q_{1}\\right) \\dot{q}_{2}\\\\- 0.425 \\operatorname{sin}\\left(q_{1}\\right) \\operatorname{sin}\\left(q_{2}\\right) \\dot{q}_{2} + 0.425 \\operatorname{cos}\\left(q_{1}\\right) \\operatorname{cos}\\left(q_{2}\\right) \\dot{q}_{1}\\\\0.425 \\operatorname{cos}\\left(q_{2}\\right) \\dot{q}_{2}\\end{matrix}\\right]$$"
      ],
      "text/plain": [
       "⎡ d                         ⎤\n",
       "⎢ ──(0.425⋅cos(q₁)⋅cos(q₂)) ⎥\n",
       "⎢ dt                        ⎥\n",
       "⎢                           ⎥\n",
       "⎢ d                         ⎥\n",
       "⎢ ──(0.425⋅sin(q₁)⋅cos(q₂)) ⎥\n",
       "⎢ dt                        ⎥\n",
       "⎢                           ⎥\n",
       "⎢d                          ⎥\n",
       "⎢──(0.425⋅sin(q₂) + 0.08916)⎥\n",
       "⎣dt                         ⎦"
      ]
     },
     "execution_count": 570,
     "metadata": {},
     "output_type": "execute_result"
    }
   ],
   "source": [
    "j3gd"
   ]
  },
  {
   "cell_type": "code",
   "execution_count": 579,
   "metadata": {
    "collapsed": false
   },
   "outputs": [
    {
     "data": {
      "text/latex": [
       "$$\\left[\\begin{matrix}- 0.425 \\operatorname{sin}\\left(q_{1}\\right) \\operatorname{cos}\\left(q_{2}\\right) \\dot{q}_{1} - 0.425 \\operatorname{sin}\\left(q_{2}\\right) \\operatorname{cos}\\left(q_{1}\\right) \\dot{q}_{2}\\\\- 0.425 \\operatorname{sin}\\left(q_{1}\\right) \\operatorname{sin}\\left(q_{2}\\right) \\dot{q}_{2} + 0.425 \\operatorname{cos}\\left(q_{1}\\right) \\operatorname{cos}\\left(q_{2}\\right) \\dot{q}_{1}\\\\0.425 \\operatorname{cos}\\left(q_{2}\\right) \\dot{q}_{2}\\end{matrix}\\right]$$"
      ],
      "text/plain": [
       "⎡ d                         ⎤\n",
       "⎢ ──(0.425⋅cos(q₁)⋅cos(q₂)) ⎥\n",
       "⎢ dt                        ⎥\n",
       "⎢                           ⎥\n",
       "⎢ d                         ⎥\n",
       "⎢ ──(0.425⋅sin(q₁)⋅cos(q₂)) ⎥\n",
       "⎢ dt                        ⎥\n",
       "⎢                           ⎥\n",
       "⎢d                          ⎥\n",
       "⎢──(0.425⋅sin(q₂) + 0.08916)⎥\n",
       "⎣dt                         ⎦"
      ]
     },
     "execution_count": 579,
     "metadata": {},
     "output_type": "execute_result"
    }
   ],
   "source": [
    "j3gd"
   ]
  },
  {
   "cell_type": "code",
   "execution_count": 581,
   "metadata": {
    "collapsed": false
   },
   "outputs": [
    {
     "data": {
      "text/latex": [
       "$$\\left[\\begin{matrix}- 0.425 \\operatorname{sin}\\left(q_{1}\\right) \\operatorname{cos}\\left(q_{2}\\right) \\dot{q}_{1} - 0.425 \\operatorname{sin}\\left(q_{2}\\right) \\operatorname{cos}\\left(q_{1}\\right) \\dot{q}_{2}\\\\- 0.425 \\operatorname{sin}\\left(q_{1}\\right) \\operatorname{sin}\\left(q_{2}\\right) \\dot{q}_{2} + 0.425 \\operatorname{cos}\\left(q_{1}\\right) \\operatorname{cos}\\left(q_{2}\\right) \\dot{q}_{1}\\\\0.425 \\operatorname{cos}\\left(q_{2}\\right) \\dot{q}_{2}\\end{matrix}\\right]$$"
      ],
      "text/plain": [
       "⎡ d                         ⎤\n",
       "⎢ ──(0.425⋅cos(q₁)⋅cos(q₂)) ⎥\n",
       "⎢ dt                        ⎥\n",
       "⎢                           ⎥\n",
       "⎢ d                         ⎥\n",
       "⎢ ──(0.425⋅sin(q₁)⋅cos(q₂)) ⎥\n",
       "⎢ dt                        ⎥\n",
       "⎢                           ⎥\n",
       "⎢d                          ⎥\n",
       "⎢──(0.425⋅sin(q₂) + 0.08916)⎥\n",
       "⎣dt                         ⎦"
      ]
     },
     "execution_count": 581,
     "metadata": {},
     "output_type": "execute_result"
    }
   ],
   "source": [
    "j3gd"
   ]
  },
  {
   "cell_type": "code",
   "execution_count": 603,
   "metadata": {
    "collapsed": false
   },
   "outputs": [],
   "source": [
    "## \n",
    "ekin3 = 1/2 * Matrix([m1, m2,  m3]).T * Matrix((j3gd[0]**2, j3gd[1] ** 2,  j3gd[2] ** 2))\n",
    "bla = Matrix([j3gd[0]**2, j3gd[1] ** 2,  j3gd[2] ** 2])"
   ]
  },
  {
   "cell_type": "code",
   "execution_count": 605,
   "metadata": {
    "collapsed": false
   },
   "outputs": [
    {
     "data": {
      "text/latex": [
       "$$\\left[\\begin{matrix}0.5 m_{1} \\cdot - 0.425 \\operatorname{sin}\\left(q_{1}\\right) \\operatorname{cos}\\left(q_{2}\\right) \\dot{q}_{1} - 0.425 \\operatorname{sin}\\left(q_{2}\\right) \\operatorname{cos}\\left(q_{1}\\right) \\dot{q}_{2}^{2} + 0.5 m_{2} \\cdot - 0.425 \\operatorname{sin}\\left(q_{1}\\right) \\operatorname{sin}\\left(q_{2}\\right) \\dot{q}_{2} + 0.425 \\operatorname{cos}\\left(q_{1}\\right) \\operatorname{cos}\\left(q_{2}\\right) \\dot{q}_{1}^{2} + 0.5 m_{3} \\cdot 0.425 \\operatorname{cos}\\left(q_{2}\\right) \\dot{q}_{2}^{2}\\end{matrix}\\right]$$"
      ],
      "text/plain": [
       "⎡                                  2                                     2    \n",
       "⎢       ⎛d                        ⎞           ⎛d                        ⎞     \n",
       "⎢0.5⋅m₁⋅⎜──(0.425⋅cos(q₁)⋅cos(q₂))⎟  + 0.5⋅m₂⋅⎜──(0.425⋅sin(q₁)⋅cos(q₂))⎟  + 0\n",
       "⎣       ⎝dt                       ⎠           ⎝dt                       ⎠     \n",
       "\n",
       "                                   2⎤\n",
       "      ⎛d                          ⎞ ⎥\n",
       ".5⋅m₃⋅⎜──(0.425⋅sin(q₂) + 0.08916)⎟ ⎥\n",
       "      ⎝dt                         ⎠ ⎦"
      ]
     },
     "execution_count": 605,
     "metadata": {},
     "output_type": "execute_result"
    }
   ],
   "source": [
    "ekin3"
   ]
  },
  {
   "cell_type": "code",
   "execution_count": 602,
   "metadata": {
    "collapsed": false
   },
   "outputs": [
    {
     "data": {
      "image/png": "[encoded data removed]",
      "text/latex": [
       "$$3$$"
      ],
      "text/plain": [
       "3"
      ]
     },
     "execution_count": 602,
     "metadata": {},
     "output_type": "execute_result"
    }
   ],
   "source": [
    "bla.rows"
   ]
  },
  {
   "cell_type": "code",
   "execution_count": 593,
   "metadata": {
    "collapsed": false
   },
   "outputs": [
    {
     "data": {
      "image/png": "[encoded data removed]",
      "text/latex": [
       "$$\\left ( 3, \\quad 1\\right )$$"
      ],
      "text/plain": [
       "(3, 1)"
      ]
     },
     "execution_count": 593,
     "metadata": {},
     "output_type": "execute_result"
    }
   ],
   "source": [
    "Matrix([m1, m2, m3]).shape"
   ]
  },
  {
   "cell_type": "code",
   "execution_count": null,
   "metadata": {
    "collapsed": true
   },
   "outputs": [],
   "source": []
  }
 ],
 "metadata": {
  "kernelspec": {
   "display_name": "Python 3",
   "language": "python",
   "name": "python3"
  },
  "language_info": {
   "codemirror_mode": {
    "name": "ipython",
    "version": 3
   },
   "file_extension": ".py",
   "mimetype": "text/x-python",
   "name": "python",
   "nbconvert_exporter": "python",
   "pygments_lexer": "ipython3",
   "version": "3.5.3"
  }
 },
 "nbformat": 4,
 "nbformat_minor": 0
}
