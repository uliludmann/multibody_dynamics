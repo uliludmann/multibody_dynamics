{
 "cells": [
  {
   "cell_type": "code",
   "execution_count": 180,
   "metadata": {
    "collapsed": true
   },
   "outputs": [],
   "source": [
    "from sympy import *"
   ]
  },
  {
   "cell_type": "code",
   "execution_count": 181,
   "metadata": {
    "collapsed": true
   },
   "outputs": [],
   "source": [
    "from sympy.physics.mechanics import *"
   ]
  },
  {
   "cell_type": "code",
   "execution_count": 79,
   "metadata": {
    "collapsed": true
   },
   "outputs": [],
   "source": [
    "q1, q2 = symbols('q1, q2')"
   ]
  },
  {
   "cell_type": "markdown",
   "metadata": {},
   "source": [
    "# Two mass Pendulum Lagrange\n",
    "\n",
    "source : https://www.youtube.com/watch?v=zhk9xLjrmi4&t=58s\n",
    "\n",
    "coordinates need to be: complete, independent and holonomic!\n",
    "\n"
   ]
  },
  {
   "cell_type": "markdown",
   "metadata": {},
   "source": [
    "LHS:\n",
    "1. Determine the number of degrees of freedom that you need and choose the coordinantes\n",
    "2. verify: complete, independent and holonomic!\n",
    "3. compute T and V for every rigid body in the system \n",
    "4. compute 1,2,3 for every qi\n",
    "\n",
    "RHS\n",
    "1. For each qj we need to find the generalized Force that goes with it\n",
    "2. compute the virtual work delta w(NC) assosiated with the virtual displacement delta qj. dwj = qj * delta j"
   ]
  },
  {
   "cell_type": "markdown",
   "metadata": {},
   "source": [
    "# Falling mass\n",
    "as described here: https://www.youtube.com/watch?v=4uJaKJASKnY"
   ]
  },
  {
   "cell_type": "code",
   "execution_count": 115,
   "metadata": {
    "collapsed": true
   },
   "outputs": [],
   "source": [
    "x1 = dynamicsymbols('x1')\n",
    "m, g = symbols('m g')"
   ]
  },
  {
   "cell_type": "code",
   "execution_count": 116,
   "metadata": {
    "collapsed": false
   },
   "outputs": [
    {
     "data": {
      "image/png": "[encoded data removed]",
      "text/latex": [
       "$$\\operatorname{x_{1}}{\\left (x_{1} \\right )}$$"
      ],
      "text/plain": [
       "x₁(x₁)"
      ]
     },
     "execution_count": 116,
     "metadata": {},
     "output_type": "execute_result"
    }
   ],
   "source": [
    "x1"
   ]
  },
  {
   "cell_type": "code",
   "execution_count": 117,
   "metadata": {
    "collapsed": false
   },
   "outputs": [
    {
     "data": {
      "image/png": "[encoded data removed]",
      "text/latex": [
       "$$0.5 m \\frac{d}{d x_{1}} \\operatorname{x_{1}}{\\left (x_{1} \\right )}^{2}$$"
      ],
      "text/plain": [
       "                   2\n",
       "      ⎛ d         ⎞ \n",
       "0.5⋅m⋅⎜───(x₁(x₁))⎟ \n",
       "      ⎝dx₁        ⎠ "
      ]
     },
     "execution_count": 117,
     "metadata": {},
     "output_type": "execute_result"
    }
   ],
   "source": [
    "KE = 1/2 * m * (Derivative(x1))**2\n",
    "KE"
   ]
  },
  {
   "cell_type": "code",
   "execution_count": 118,
   "metadata": {
    "collapsed": false
   },
   "outputs": [
    {
     "data": {
      "image/png": "[encoded data removed]",
      "text/latex": [
       "$$0.5 m \\frac{d}{d x_{1}} \\operatorname{x_{1}}{\\left (x_{1} \\right )}^{2}$$"
      ],
      "text/plain": [
       "                   2\n",
       "      ⎛ d         ⎞ \n",
       "0.5⋅m⋅⎜───(x₁(x₁))⎟ \n",
       "      ⎝dx₁        ⎠ "
      ]
     },
     "execution_count": 118,
     "metadata": {},
     "output_type": "execute_result"
    }
   ],
   "source": [
    "KE"
   ]
  },
  {
   "cell_type": "code",
   "execution_count": 119,
   "metadata": {
    "collapsed": false
   },
   "outputs": [
    {
     "data": {
      "image/png": "[encoded data removed]",
      "text/latex": [
       "$$g m \\operatorname{x_{1}}{\\left (x_{1} \\right )}$$"
      ],
      "text/plain": [
       "g⋅m⋅x₁(x₁)"
      ]
     },
     "execution_count": 119,
     "metadata": {},
     "output_type": "execute_result"
    }
   ],
   "source": [
    "PE = m*g*x1\n",
    "PE"
   ]
  },
  {
   "cell_type": "code",
   "execution_count": 120,
   "metadata": {
    "collapsed": false
   },
   "outputs": [
    {
     "data": {
      "image/png": "[encoded data removed]",
      "text/latex": [
       "$$- g m \\operatorname{x_{1}}{\\left (x_{1} \\right )} + 0.5 m \\frac{d}{d x_{1}} \\operatorname{x_{1}}{\\left (x_{1} \\right )}^{2}$$"
      ],
      "text/plain": [
       "                                 2\n",
       "                    ⎛ d         ⎞ \n",
       "-g⋅m⋅x₁(x₁) + 0.5⋅m⋅⎜───(x₁(x₁))⎟ \n",
       "                    ⎝dx₁        ⎠ "
      ]
     },
     "execution_count": 120,
     "metadata": {},
     "output_type": "execute_result"
    }
   ],
   "source": [
    "L = KE - PE\n",
    "L"
   ]
  },
  {
   "cell_type": "code",
   "execution_count": 146,
   "metadata": {
    "collapsed": false
   },
   "outputs": [],
   "source": [
    "term1 = Derivative(L, x1).doit()"
   ]
  },
  {
   "cell_type": "code",
   "execution_count": 155,
   "metadata": {
    "collapsed": false
   },
   "outputs": [],
   "source": [
    "term2 = Derivative(L, x1_dot).doit()"
   ]
  },
  {
   "cell_type": "code",
   "execution_count": 156,
   "metadata": {
    "collapsed": false
   },
   "outputs": [
    {
     "data": {
      "image/png": "[encoded data removed]",
      "text/latex": [
       "$$- g m - 1.0 m \\frac{d}{d x_{1}} \\operatorname{x_{1}}{\\left (x_{1} \\right )}$$"
      ],
      "text/plain": [
       "              d         \n",
       "-g⋅m - 1.0⋅m⋅───(x₁(x₁))\n",
       "             dx₁        "
      ]
     },
     "execution_count": 156,
     "metadata": {},
     "output_type": "execute_result"
    }
   ],
   "source": [
    "term1 - term2"
   ]
  },
  {
   "cell_type": "markdown",
   "metadata": {},
   "source": [
    "## Spring "
   ]
  },
  {
   "cell_type": "code",
   "execution_count": 157,
   "metadata": {
    "collapsed": true
   },
   "outputs": [],
   "source": [
    "k = symbols('k')"
   ]
  },
  {
   "cell_type": "markdown",
   "metadata": {},
   "source": [
    "## Free Fall Example with Lagrange"
   ]
  },
  {
   "cell_type": "code",
   "execution_count": 183,
   "metadata": {
    "collapsed": false
   },
   "outputs": [],
   "source": [
    "q3, q4 = dynamicsymbols('q3 q4')\n",
    "q3d, q4d = dynamicsymbols('q3 q4', 1)"
   ]
  },
  {
   "cell_type": "code",
   "execution_count": 184,
   "metadata": {
    "collapsed": false
   },
   "outputs": [
    {
     "data": {
      "image/png": "[encoded data removed]",
      "text/latex": [
       "$$\\frac{d}{d t} \\operatorname{q_{3}}{\\left (t \\right )}$$"
      ],
      "text/plain": [
       "d        \n",
       "──(q₃(t))\n",
       "dt       "
      ]
     },
     "execution_count": 184,
     "metadata": {},
     "output_type": "execute_result"
    }
   ],
   "source": [
    "q3d"
   ]
  },
  {
   "cell_type": "markdown",
   "metadata": {},
   "source": [
    "## Sympys Lagrangian Methods\n",
    "http://docs.sympy.org/latest/modules/physics/mechanics/lagrange.html"
   ]
  },
  {
   "cell_type": "code",
   "execution_count": 186,
   "metadata": {
    "collapsed": true
   },
   "outputs": [],
   "source": [
    "KE = 1/2 * m * q3d **2"
   ]
  },
  {
   "cell_type": "code",
   "execution_count": 187,
   "metadata": {
    "collapsed": true
   },
   "outputs": [],
   "source": [
    "PE = m*g* q3"
   ]
  },
  {
   "cell_type": "code",
   "execution_count": 204,
   "metadata": {
    "collapsed": true
   },
   "outputs": [],
   "source": [
    "L = KE - PE"
   ]
  },
  {
   "cell_type": "code",
   "execution_count": 207,
   "metadata": {
    "collapsed": true
   },
   "outputs": [],
   "source": [
    "LM = LagrangesMethod(L, [q3, q3d])"
   ]
  },
  {
   "cell_type": "code",
   "execution_count": 208,
   "metadata": {
    "collapsed": false
   },
   "outputs": [
    {
     "data": {
      "image/png": "[encoded data removed]",
      "text/latex": [
       "$$\\left[\\begin{matrix}g m + 1.0 m \\frac{d^{2}}{d t^{2}}  \\operatorname{q_{3}}{\\left (t \\right )}\\\\- 1.0 m \\frac{d}{d t} \\operatorname{q_{3}}{\\left (t \\right )}\\end{matrix}\\right]$$"
      ],
      "text/plain": [
       "⎡              2       ⎤\n",
       "⎢             d        ⎥\n",
       "⎢g⋅m + 1.0⋅m⋅───(q₃(t))⎥\n",
       "⎢              2       ⎥\n",
       "⎢            dt        ⎥\n",
       "⎢                      ⎥\n",
       "⎢          d           ⎥\n",
       "⎢   -1.0⋅m⋅──(q₃(t))   ⎥\n",
       "⎣          dt          ⎦"
      ]
     },
     "execution_count": 208,
     "metadata": {},
     "output_type": "execute_result"
    }
   ],
   "source": [
    "LM.form_lagranges_equations()"
   ]
  },
  {
   "cell_type": "code",
   "execution_count": 209,
   "metadata": {
    "collapsed": false
   },
   "outputs": [
    {
     "data": {
      "image/png": "[encoded data removed]",
      "text/latex": [
       "$$\\left[\\begin{matrix}1.0 m & 0\\\\0 & 0\\end{matrix}\\right]$$"
      ],
      "text/plain": [
       "⎡1.0⋅m  0⎤\n",
       "⎢        ⎥\n",
       "⎣  0    0⎦"
      ]
     },
     "execution_count": 209,
     "metadata": {},
     "output_type": "execute_result"
    }
   ],
   "source": [
    "LM.mass_matrix"
   ]
  },
  {
   "cell_type": "code",
   "execution_count": 198,
   "metadata": {
    "collapsed": false
   },
   "outputs": [
    {
     "data": {
      "image/png": "[encoded data removed]",
      "text/latex": [
       "$$\\left[\\begin{matrix}- g m\\end{matrix}\\right]$$"
      ],
      "text/plain": [
       "[-g⋅m]"
      ]
     },
     "execution_count": 198,
     "metadata": {},
     "output_type": "execute_result"
    }
   ],
   "source": [
    "LM.forcing"
   ]
  },
  {
   "cell_type": "markdown",
   "metadata": {},
   "source": [
    "$e^{i\\pi} + 1 = 0$\n"
   ]
  },
  {
   "cell_type": "markdown",
   "metadata": {},
   "source": [
    "$$e^x=\\sum_{i=0}^\\infty \\frac{1}{i!}x^i$$\n"
   ]
  },
  {
   "cell_type": "markdown",
   "metadata": {},
   "source": [
    "$$\\delta$$"
   ]
  },
  {
   "cell_type": "markdown",
   "metadata": {},
   "source": [
    "$$ \\sqrt[n]{ab} $$"
   ]
  },
  {
   "cell_type": "markdown",
   "metadata": {},
   "source": [
    "$$\n",
    "\\begin{bmatrix}\n",
    "a_1 & a_2 & a_3 & a_4 \\\\\n",
    "b_1 & b_2 & b_3 & b_4 \\\\\n",
    "c_1 & c_2 & c_3 & c_4 \\\\\n",
    "d_1 & d_2 & d_3 & d_4\n",
    "\\end{bmatrix}\n",
    "$$"
   ]
  },
  {
   "cell_type": "code",
   "execution_count": null,
   "metadata": {
    "collapsed": true
   },
   "outputs": [],
   "source": [
    "c"
   ]
  },
  {
   "cell_type": "markdown",
   "metadata": {},
   "source": [
    "###  2DOF Pendulum"
   ]
  },
  {
   "cell_type": "code",
   "execution_count": 211,
   "metadata": {
    "collapsed": true
   },
   "outputs": [],
   "source": [
    "x1, y1, x2, y2 = dynamicsymbols('x1,y1, x1, y1')"
   ]
  },
  {
   "cell_type": "code",
   "execution_count": 212,
   "metadata": {
    "collapsed": true
   },
   "outputs": [],
   "source": [
    "x1d, y1d, x2d, y2d = dynamicsymbols('x1, y1, x2, y2', 1)"
   ]
  },
  {
   "cell_type": "code",
   "execution_count": 213,
   "metadata": {
    "collapsed": true
   },
   "outputs": [],
   "source": [
    "l1, l2 = symbols('l1, l2')"
   ]
  },
  {
   "cell_type": "code",
   "execution_count": 274,
   "metadata": {
    "collapsed": true
   },
   "outputs": [],
   "source": [
    "q11, q21 = dynamicsymbols('q11, q21')"
   ]
  },
  {
   "cell_type": "code",
   "execution_count": 290,
   "metadata": {
    "collapsed": true
   },
   "outputs": [],
   "source": [
    "x1 = l1 * sin(q11)\n",
    "y1 = - l1 * cos(q11)"
   ]
  },
  {
   "cell_type": "code",
   "execution_count": 291,
   "metadata": {
    "collapsed": true
   },
   "outputs": [],
   "source": [
    "t = symbols('t')"
   ]
  },
  {
   "cell_type": "code",
   "execution_count": 300,
   "metadata": {
    "collapsed": true
   },
   "outputs": [],
   "source": [
    "x2 = l1 * sin(q11) + l2 * sin(q21)\n",
    "y2 = - l1 * cos(q21) - l2 * cos(q21)"
   ]
  },
  {
   "cell_type": "code",
   "execution_count": 301,
   "metadata": {
    "collapsed": false
   },
   "outputs": [
    {
     "data": {
      "image/png": "[encoded data removed]",
      "text/latex": [
       "$$l_{1} \\operatorname{cos}\\left(q_{11}\\right)$$"
      ],
      "text/plain": [
       "l₁⋅cos(q₁₁)"
      ]
     },
     "execution_count": 301,
     "metadata": {},
     "output_type": "execute_result"
    }
   ],
   "source": [
    "x1.diff(q11).doit()"
   ]
  },
  {
   "cell_type": "code",
   "execution_count": 302,
   "metadata": {
    "collapsed": false
   },
   "outputs": [],
   "source": [
    "mechanics_printing()"
   ]
  },
  {
   "cell_type": "code",
   "execution_count": 308,
   "metadata": {
    "collapsed": false
   },
   "outputs": [
    {
     "data": {
      "image/png": "[encoded data removed]",
      "text/latex": [
       "$$l_{1} \\operatorname{cos}\\left(q_{11}\\right) \\dot{q}_{11}$$"
      ],
      "text/plain": [
       "l₁⋅cos(q₁₁)⋅q₁̇₁"
      ]
     },
     "execution_count": 308,
     "metadata": {},
     "output_type": "execute_result"
    }
   ],
   "source": [
    "x1d = simplify(diff(x1, Symbol('t')).doit())\n",
    "x1d"
   ]
  },
  {
   "cell_type": "code",
   "execution_count": 309,
   "metadata": {
    "collapsed": false
   },
   "outputs": [
    {
     "data": {
      "image/png": "[encoded data removed]",
      "text/latex": [
       "$$l_{1} \\operatorname{sin}\\left(q_{11}\\right) \\dot{q}_{11}$$"
      ],
      "text/plain": [
       "l₁⋅sin(q₁₁)⋅q₁̇₁"
      ]
     },
     "execution_count": 309,
     "metadata": {},
     "output_type": "execute_result"
    }
   ],
   "source": [
    "y1d = Derivative(y1, Symbol('t')).doit()\n",
    "y1d"
   ]
  },
  {
   "cell_type": "code",
   "execution_count": 310,
   "metadata": {
    "collapsed": false
   },
   "outputs": [
    {
     "data": {
      "image/png": "[encoded data removed]",
      "text/latex": [
       "$$l_{1} \\operatorname{cos}\\left(q_{11}\\right) \\dot{q}_{11} + l_{2} \\operatorname{cos}\\left(q_{21}\\right) \\dot{q}_{21}$$"
      ],
      "text/plain": [
       "l₁⋅cos(q₁₁)⋅q₁̇₁ + l₂⋅cos(q₂₁)⋅q₂̇₁"
      ]
     },
     "execution_count": 310,
     "metadata": {},
     "output_type": "execute_result"
    }
   ],
   "source": [
    "x2d = simplify(Derivative(x2, Symbol('t')).doit())\n",
    "x2d"
   ]
  },
  {
   "cell_type": "code",
   "execution_count": 311,
   "metadata": {
    "collapsed": false
   },
   "outputs": [
    {
     "data": {
      "image/png": "[encoded data removed]",
      "text/latex": [
       "$$l_{1} \\operatorname{sin}\\left(q_{21}\\right) \\dot{q}_{21} + l_{2} \\operatorname{sin}\\left(q_{21}\\right) \\dot{q}_{21}$$"
      ],
      "text/plain": [
       "l₁⋅sin(q₂₁)⋅q₂̇₁ + l₂⋅sin(q₂₁)⋅q₂̇₁"
      ]
     },
     "execution_count": 311,
     "metadata": {},
     "output_type": "execute_result"
    }
   ],
   "source": [
    "y2d = Derivative(y2, Symbol('t')).doit()\n",
    "y2d"
   ]
  },
  {
   "cell_type": "code",
   "execution_count": null,
   "metadata": {
    "collapsed": true
   },
   "outputs": [],
   "source": []
  },
  {
   "cell_type": "markdown",
   "metadata": {},
   "source": [
    "all potential energies are  $$V =\\sum m*g*y$$"
   ]
  },
  {
   "cell_type": "code",
   "execution_count": 323,
   "metadata": {
    "collapsed": true
   },
   "outputs": [],
   "source": [
    "m1, m2 = symbols('m1, m2')\n",
    "g = symbols('g')"
   ]
  },
  {
   "cell_type": "code",
   "execution_count": 329,
   "metadata": {
    "collapsed": false
   },
   "outputs": [],
   "source": [
    "v1 = (m1+m2) * g * y1\n",
    "v2 = m2 * g * y2"
   ]
  },
  {
   "cell_type": "code",
   "execution_count": 330,
   "metadata": {
    "collapsed": false
   },
   "outputs": [
    {
     "data": {
      "image/png": "[encoded data removed]",
      "text/latex": [
       "$$- g l_{1} \\left(m_{1} + m_{2}\\right) \\operatorname{cos}\\left(q_{11}\\right)$$"
      ],
      "text/plain": [
       "-g⋅l₁⋅(m₁ + m₂)⋅cos(q₁₁)"
      ]
     },
     "execution_count": 330,
     "metadata": {},
     "output_type": "execute_result"
    }
   ],
   "source": [
    "v1"
   ]
  },
  {
   "cell_type": "code",
   "execution_count": 336,
   "metadata": {
    "collapsed": false
   },
   "outputs": [
    {
     "data": {
      "image/png": "[encoded data removed]",
      "text/latex": [
       "$$- g m_{2} \\left(l_{1} + l_{2}\\right) \\operatorname{cos}\\left(q_{21}\\right)$$"
      ],
      "text/plain": [
       "-g⋅m₂⋅(l₁ + l₂)⋅cos(q₂₁)"
      ]
     },
     "execution_count": 336,
     "metadata": {},
     "output_type": "execute_result"
    }
   ],
   "source": [
    "simplify(v2)"
   ]
  },
  {
   "cell_type": "code",
   "execution_count": 334,
   "metadata": {
    "collapsed": false
   },
   "outputs": [
    {
     "data": {
      "image/png": "[encoded data removed]",
      "text/latex": [
       "$$- g l_{1} \\left(m_{1} + m_{2}\\right) \\operatorname{cos}\\left(q_{11}\\right) + g m_{2} \\left(- l_{1} \\operatorname{cos}\\left(q_{21}\\right) - l_{2} \\operatorname{cos}\\left(q_{21}\\right)\\right)$$"
      ],
      "text/plain": [
       "-g⋅l₁⋅(m₁ + m₂)⋅cos(q₁₁) + g⋅m₂⋅(-l₁⋅cos(q₂₁) - l₂⋅cos(q₂₁))"
      ]
     },
     "execution_count": 334,
     "metadata": {},
     "output_type": "execute_result"
    }
   ],
   "source": [
    "V_ges = v1 + v2\n",
    "V_ges"
   ]
  },
  {
   "cell_type": "markdown",
   "metadata": {},
   "source": [
    " all kinetic energies T are $$ T = \\sum \\frac{1}{2} * m1 * \\dot{x1}^{2} + \\frac{1}{2} * m2 * \\dot{x2}^{2}$$"
   ]
  },
  {
   "cell_type": "code",
   "execution_count": 347,
   "metadata": {
    "collapsed": false
   },
   "outputs": [],
   "source": [
    "T = 1/2 * m1 * (x1d **2 + y1d**2) + 1/2 * m2 * (x2d **2 + y2d**2)"
   ]
  },
  {
   "cell_type": "code",
   "execution_count": 348,
   "metadata": {
    "collapsed": false
   },
   "outputs": [
    {
     "data": {
      "image/png": "[encoded data removed]",
      "text/latex": [
       "$$0.5 l_{1}^{2} m_{1} \\dot{q}_{11}^{2} + 0.5 m_{2} \\left(\\left(l_{1} + l_{2}\\right)^{2} \\operatorname{sin}^{2}\\left(q_{21}\\right) \\dot{q}_{21}^{2} + \\left(l_{1} \\operatorname{cos}\\left(q_{11}\\right) \\dot{q}_{11} + l_{2} \\operatorname{cos}\\left(q_{21}\\right) \\dot{q}_{21}\\right)^{2}\\right)$$"
      ],
      "text/plain": [
       "      2        2          ⎛         2    2          2                         \n",
       "0.5⋅l₁ ⋅m₁⋅q₁̇₁  + 0.5⋅m₂⋅⎝(l₁ + l₂) ⋅sin (q₂₁)⋅q₂̇₁  + (l₁⋅cos(q₁₁)⋅q₁̇₁ + l₂\n",
       "\n",
       "               2⎞\n",
       "⋅cos(q₂₁)⋅q₂̇₁) ⎠"
      ]
     },
     "execution_count": 348,
     "metadata": {},
     "output_type": "execute_result"
    }
   ],
   "source": [
    "simplify(T)"
   ]
  },
  {
   "cell_type": "code",
   "execution_count": 349,
   "metadata": {
    "collapsed": true
   },
   "outputs": [],
   "source": [
    "L = T - V_ges"
   ]
  },
  {
   "cell_type": "code",
   "execution_count": 350,
   "metadata": {
    "collapsed": false
   },
   "outputs": [
    {
     "data": {
      "image/png": "[encoded data removed]",
      "text/latex": [
       "$$g l_{1} \\left(m_{1} + m_{2}\\right) \\operatorname{cos}\\left(q_{11}\\right) - g m_{2} \\left(- l_{1} \\operatorname{cos}\\left(q_{21}\\right) - l_{2} \\operatorname{cos}\\left(q_{21}\\right)\\right) + 0.5 m_{1} \\left(l_{1}^{2} \\operatorname{sin}^{2}\\left(q_{11}\\right) \\dot{q}_{11}^{2} + l_{1}^{2} \\operatorname{cos}^{2}\\left(q_{11}\\right) \\dot{q}_{11}^{2}\\right) + 0.5 m_{2} \\left(\\left(l_{1} \\operatorname{sin}\\left(q_{21}\\right) \\dot{q}_{21} + l_{2} \\operatorname{sin}\\left(q_{21}\\right) \\dot{q}_{21}\\right)^{2} + \\left(l_{1} \\operatorname{cos}\\left(q_{11}\\right) \\dot{q}_{11} + l_{2} \\operatorname{cos}\\left(q_{21}\\right) \\dot{q}_{21}\\right)^{2}\\right)$$"
      ],
      "text/plain": [
       "                                                                     ⎛  2    2\n",
       "g⋅l₁⋅(m₁ + m₂)⋅cos(q₁₁) - g⋅m₂⋅(-l₁⋅cos(q₂₁) - l₂⋅cos(q₂₁)) + 0.5⋅m₁⋅⎝l₁ ⋅sin \n",
       "\n",
       "          2     2    2          2⎞          ⎛                                 \n",
       "(q₁₁)⋅q₁̇₁  + l₁ ⋅cos (q₁₁)⋅q₁̇₁ ⎠ + 0.5⋅m₂⋅⎝(l₁⋅sin(q₂₁)⋅q₂̇₁ + l₂⋅sin(q₂₁)⋅q\n",
       "\n",
       "    2                                        2⎞\n",
       "₂̇₁)  + (l₁⋅cos(q₁₁)⋅q₁̇₁ + l₂⋅cos(q₂₁)⋅q₂̇₁) ⎠"
      ]
     },
     "execution_count": 350,
     "metadata": {},
     "output_type": "execute_result"
    }
   ],
   "source": [
    "L"
   ]
  },
  {
   "cell_type": "code",
   "execution_count": 363,
   "metadata": {
    "collapsed": false
   },
   "outputs": [],
   "source": [
    "lq1d = Derivative(L, Derivative(q11, Symbol('t')))"
   ]
  },
  {
   "cell_type": "code",
   "execution_count": 364,
   "metadata": {
    "collapsed": false
   },
   "outputs": [
    {
     "data": {
      "image/png": "[encoded data removed]",
      "text/latex": [
       "$$1.0 l_{1}^{2} m_{1} \\dot{q}_{11} + 1.0 l_{1} m_{2} \\left(l_{1} \\operatorname{cos}\\left(q_{11}\\right) \\dot{q}_{11} + l_{2} \\operatorname{cos}\\left(q_{21}\\right) \\dot{q}_{21}\\right) \\operatorname{cos}\\left(q_{11}\\right)$$"
      ],
      "text/plain": [
       "  ∂  ⎛                                                          2        2    \n",
       "─────⎝g⋅l₁⋅(m₁ + m₂)⋅cos(q₁₁) + g⋅m₂⋅(l₁ + l₂)⋅cos(q₂₁) + 0.5⋅l₁ ⋅m₁⋅q₁̇₁  + 0\n",
       "∂q₁̇₁                                                                         \n",
       "\n",
       "      ⎛         2    2          2                                        2⎞⎞\n",
       ".5⋅m₂⋅⎝(l₁ + l₂) ⋅sin (q₂₁)⋅q₂̇₁  + (l₁⋅cos(q₁₁)⋅q₁̇₁ + l₂⋅cos(q₂₁)⋅q₂̇₁) ⎠⎠\n",
       "                                                                            "
      ]
     },
     "execution_count": 364,
     "metadata": {},
     "output_type": "execute_result"
    }
   ],
   "source": [
    "simplify(lq1d)"
   ]
  },
  {
   "cell_type": "code",
   "execution_count": 367,
   "metadata": {
    "collapsed": true
   },
   "outputs": [],
   "source": [
    "lq1 = Derivative(L, q11)"
   ]
  },
  {
   "cell_type": "code",
   "execution_count": 368,
   "metadata": {
    "collapsed": false
   },
   "outputs": [
    {
     "data": {
      "image/png": "[encoded data removed]",
      "text/latex": [
       "$$- g l_{1} \\left(m_{1} + m_{2}\\right) \\operatorname{sin}\\left(q_{11}\\right) - 1.0 l_{1} m_{2} \\left(l_{1} \\operatorname{cos}\\left(q_{11}\\right) \\dot{q}_{11} + l_{2} \\operatorname{cos}\\left(q_{21}\\right) \\dot{q}_{21}\\right) \\operatorname{sin}\\left(q_{11}\\right) \\dot{q}_{11}$$"
      ],
      "text/plain": [
       " ∂  ⎛                                                                     ⎛  2\n",
       "────⎝g⋅l₁⋅(m₁ + m₂)⋅cos(q₁₁) - g⋅m₂⋅(-l₁⋅cos(q₂₁) - l₂⋅cos(q₂₁)) + 0.5⋅m₁⋅⎝l₁ \n",
       "∂q₁₁                                                                          \n",
       "\n",
       "    2          2     2    2          2⎞          ⎛                            \n",
       "⋅sin (q₁₁)⋅q₁̇₁  + l₁ ⋅cos (q₁₁)⋅q₁̇₁ ⎠ + 0.5⋅m₂⋅⎝(l₁⋅sin(q₂₁)⋅q₂̇₁ + l₂⋅sin(q\n",
       "                                                                              \n",
       "\n",
       "         2                                        2⎞⎞\n",
       "₂₁)⋅q₂̇₁)  + (l₁⋅cos(q₁₁)⋅q₁̇₁ + l₂⋅cos(q₂₁)⋅q₂̇₁) ⎠⎠\n",
       "                                                     "
      ]
     },
     "execution_count": 368,
     "metadata": {},
     "output_type": "execute_result"
    }
   ],
   "source": [
    "lq1"
   ]
  },
  {
   "cell_type": "code",
   "execution_count": 389,
   "metadata": {
    "collapsed": false
   },
   "outputs": [
    {
     "data": {
      "image/png": "[encoded data removed]",
      "text/latex": [
       "$$- - g l_{1} \\left(m_{1} + m_{2}\\right) \\operatorname{sin}\\left(q_{11}\\right) - 1.0 l_{1} m_{2} \\left(l_{1} \\operatorname{cos}\\left(q_{11}\\right) \\dot{q}_{11} + l_{2} \\operatorname{cos}\\left(q_{21}\\right) \\dot{q}_{21}\\right) \\operatorname{sin}\\left(q_{11}\\right) \\dot{q}_{11} + 1.0 l_{1} m_{2} \\left(l_{1} \\operatorname{cos}\\left(q_{11}\\right) \\dot{q}_{11} + l_{2} \\operatorname{cos}\\left(q_{21}\\right) \\dot{q}_{21}\\right) \\operatorname{cos}\\left(q_{11}\\right) + 0.5 m_{1} \\left(2 l_{1}^{2} \\operatorname{sin}^{2}\\left(q_{11}\\right) \\dot{q}_{11} + 2 l_{1}^{2} \\operatorname{cos}^{2}\\left(q_{11}\\right) \\dot{q}_{11}\\right) = 0$$"
      ],
      "text/plain": [
       "   ∂  ⎛                                                                     ⎛ \n",
       "- ────⎝g⋅l₁⋅(m₁ + m₂)⋅cos(q₁₁) - g⋅m₂⋅(-l₁⋅cos(q₂₁) - l₂⋅cos(q₂₁)) + 0.5⋅m₁⋅⎝l\n",
       "  ∂q₁₁                                                                        \n",
       "\n",
       " 2    2          2     2    2          2⎞          ⎛                          \n",
       "₁ ⋅sin (q₁₁)⋅q₁̇₁  + l₁ ⋅cos (q₁₁)⋅q₁̇₁ ⎠ + 0.5⋅m₂⋅⎝(l₁⋅sin(q₂₁)⋅q₂̇₁ + l₂⋅sin\n",
       "                                                                              \n",
       "\n",
       "           2                                        2⎞⎞     ∂  ⎛              \n",
       "(q₂₁)⋅q₂̇₁)  + (l₁⋅cos(q₁₁)⋅q₁̇₁ + l₂⋅cos(q₂₁)⋅q₂̇₁) ⎠⎠ + ─────⎝g⋅l₁⋅(m₁ + m₂)\n",
       "                                                          ∂q₁̇₁               \n",
       "\n",
       "                                                       ⎛  2    2          2   \n",
       "⋅cos(q₁₁) - g⋅m₂⋅(-l₁⋅cos(q₂₁) - l₂⋅cos(q₂₁)) + 0.5⋅m₁⋅⎝l₁ ⋅sin (q₁₁)⋅q₁̇₁  + \n",
       "                                                                              \n",
       "\n",
       "  2    2          2⎞          ⎛                                     2         \n",
       "l₁ ⋅cos (q₁₁)⋅q₁̇₁ ⎠ + 0.5⋅m₂⋅⎝(l₁⋅sin(q₂₁)⋅q₂̇₁ + l₂⋅sin(q₂₁)⋅q₂̇₁)  + (l₁⋅co\n",
       "                                                                              \n",
       "\n",
       "                               2⎞⎞    \n",
       "s(q₁₁)⋅q₁̇₁ + l₂⋅cos(q₂₁)⋅q₂̇₁) ⎠⎠ = 0\n",
       "                                      "
      ]
     },
     "execution_count": 389,
     "metadata": {},
     "output_type": "execute_result"
    }
   ],
   "source": [
    "Eq(lq1d-lq1, 0)"
   ]
  },
  {
   "cell_type": "code",
   "execution_count": 390,
   "metadata": {
    "collapsed": false
   },
   "outputs": [],
   "source": [
    "lq2d = Derivative(L, Derivative(q21, Symbol('t')))\n",
    "lq2 = Derivative(L, q21)"
   ]
  },
  {
   "cell_type": "code",
   "execution_count": 392,
   "metadata": {
    "collapsed": false
   },
   "outputs": [
    {
     "data": {
      "image/png": "[encoded data removed]",
      "text/latex": [
       "$$- - g l_{1} \\left(m_{1} + m_{2}\\right) \\operatorname{sin}\\left(q_{11}\\right) - 1.0 l_{1} m_{2} \\left(l_{1} \\operatorname{cos}\\left(q_{11}\\right) \\dot{q}_{11} + l_{2} \\operatorname{cos}\\left(q_{21}\\right) \\dot{q}_{21}\\right) \\operatorname{sin}\\left(q_{11}\\right) \\dot{q}_{11} + 0.5 m_{2} \\left(2 l_{2} \\left(l_{1} \\operatorname{cos}\\left(q_{11}\\right) \\dot{q}_{11} + l_{2} \\operatorname{cos}\\left(q_{21}\\right) \\dot{q}_{21}\\right) \\operatorname{cos}\\left(q_{21}\\right) + \\left(2 l_{1} \\operatorname{sin}\\left(q_{21}\\right) + 2 l_{2} \\operatorname{sin}\\left(q_{21}\\right)\\right) \\left(l_{1} \\operatorname{sin}\\left(q_{21}\\right) \\dot{q}_{21} + l_{2} \\operatorname{sin}\\left(q_{21}\\right) \\dot{q}_{21}\\right)\\right) = 0$$"
      ],
      "text/plain": [
       "   ∂  ⎛                                                                     ⎛ \n",
       "- ────⎝g⋅l₁⋅(m₁ + m₂)⋅cos(q₁₁) - g⋅m₂⋅(-l₁⋅cos(q₂₁) - l₂⋅cos(q₂₁)) + 0.5⋅m₁⋅⎝l\n",
       "  ∂q₁₁                                                                        \n",
       "\n",
       " 2    2          2     2    2          2⎞          ⎛                          \n",
       "₁ ⋅sin (q₁₁)⋅q₁̇₁  + l₁ ⋅cos (q₁₁)⋅q₁̇₁ ⎠ + 0.5⋅m₂⋅⎝(l₁⋅sin(q₂₁)⋅q₂̇₁ + l₂⋅sin\n",
       "                                                                              \n",
       "\n",
       "           2                                        2⎞⎞     ∂  ⎛              \n",
       "(q₂₁)⋅q₂̇₁)  + (l₁⋅cos(q₁₁)⋅q₁̇₁ + l₂⋅cos(q₂₁)⋅q₂̇₁) ⎠⎠ + ─────⎝g⋅l₁⋅(m₁ + m₂)\n",
       "                                                          ∂q₂̇₁               \n",
       "\n",
       "                                                       ⎛  2    2          2   \n",
       "⋅cos(q₁₁) - g⋅m₂⋅(-l₁⋅cos(q₂₁) - l₂⋅cos(q₂₁)) + 0.5⋅m₁⋅⎝l₁ ⋅sin (q₁₁)⋅q₁̇₁  + \n",
       "                                                                              \n",
       "\n",
       "  2    2          2⎞          ⎛                                     2         \n",
       "l₁ ⋅cos (q₁₁)⋅q₁̇₁ ⎠ + 0.5⋅m₂⋅⎝(l₁⋅sin(q₂₁)⋅q₂̇₁ + l₂⋅sin(q₂₁)⋅q₂̇₁)  + (l₁⋅co\n",
       "                                                                              \n",
       "\n",
       "                               2⎞⎞    \n",
       "s(q₁₁)⋅q₁̇₁ + l₂⋅cos(q₂₁)⋅q₂̇₁) ⎠⎠ = 0\n",
       "                                      "
      ]
     },
     "execution_count": 392,
     "metadata": {},
     "output_type": "execute_result"
    }
   ],
   "source": [
    "Eq(lq2d - lq1, 0)"
   ]
  },
  {
   "cell_type": "code",
   "execution_count": 412,
   "metadata": {
    "collapsed": true
   },
   "outputs": [],
   "source": [
    "#constraint\n",
    "constraints = Matrix([[x1 **2 + y1 **2 - l1], [x2 **2 + y2 **2 - l2]])"
   ]
  },
  {
   "cell_type": "code",
   "execution_count": 413,
   "metadata": {
    "collapsed": false
   },
   "outputs": [],
   "source": [
    "LM = LagrangesMethod(L, [q11, q21], hol_coneqs=constraints)"
   ]
  },
  {
   "cell_type": "code",
   "execution_count": 414,
   "metadata": {
    "collapsed": false
   },
   "outputs": [
    {
     "data": {
      "image/png": "[encoded data removed]",
      "text/latex": [
       "$$\\left[\\begin{matrix}g l_{1} \\left(m_{1} + m_{2}\\right) \\operatorname{sin}\\left(q_{11}\\right) + 1.0 l_{1} m_{2} \\left(- l_{1} \\operatorname{sin}\\left(q_{11}\\right) \\dot{q}_{11}^{2} + l_{1} \\operatorname{cos}\\left(q_{11}\\right) \\ddot{q}_{11} - l_{2} \\operatorname{sin}\\left(q_{21}\\right) \\dot{q}_{21}^{2} + l_{2} \\operatorname{cos}\\left(q_{21}\\right) \\ddot{q}_{21}\\right) \\operatorname{cos}\\left(q_{11}\\right) + 2 l_{1} \\left(l_{1} \\operatorname{sin}\\left(q_{11}\\right) + l_{2} \\operatorname{sin}\\left(q_{21}\\right)\\right) lam_{2} \\operatorname{cos}\\left(q_{11}\\right) + 0.5 m_{1} \\left(2 l_{1}^{2} \\operatorname{sin}^{2}\\left(q_{11}\\right) \\ddot{q}_{11} + 2 l_{1}^{2} \\operatorname{cos}^{2}\\left(q_{11}\\right) \\ddot{q}_{11}\\right)\\\\g m_{2} \\left(l_{1} \\operatorname{sin}\\left(q_{21}\\right) + l_{2} \\operatorname{sin}\\left(q_{21}\\right)\\right) - 0.5 m_{2} \\left(- 2 l_{2} \\left(l_{1} \\operatorname{cos}\\left(q_{11}\\right) \\dot{q}_{11} + l_{2} \\operatorname{cos}\\left(q_{21}\\right) \\dot{q}_{21}\\right) \\operatorname{sin}\\left(q_{21}\\right) \\dot{q}_{21} + \\left(l_{1} \\operatorname{sin}\\left(q_{21}\\right) \\dot{q}_{21} + l_{2} \\operatorname{sin}\\left(q_{21}\\right) \\dot{q}_{21}\\right) \\left(2 l_{1} \\operatorname{cos}\\left(q_{21}\\right) \\dot{q}_{21} + 2 l_{2} \\operatorname{cos}\\left(q_{21}\\right) \\dot{q}_{21}\\right)\\right) + 0.5 m_{2} \\left(- 2 l_{2} \\left(l_{1} \\operatorname{cos}\\left(q_{11}\\right) \\dot{q}_{11} + l_{2} \\operatorname{cos}\\left(q_{21}\\right) \\dot{q}_{21}\\right) \\operatorname{sin}\\left(q_{21}\\right) \\dot{q}_{21} + 2 l_{2} \\left(- l_{1} \\operatorname{sin}\\left(q_{11}\\right) \\dot{q}_{11}^{2} + l_{1} \\operatorname{cos}\\left(q_{11}\\right) \\ddot{q}_{11} - l_{2} \\operatorname{sin}\\left(q_{21}\\right) \\dot{q}_{21}^{2} + l_{2} \\operatorname{cos}\\left(q_{21}\\right) \\ddot{q}_{21}\\right) \\operatorname{cos}\\left(q_{21}\\right) + \\left(2 l_{1} \\operatorname{sin}\\left(q_{21}\\right) + 2 l_{2} \\operatorname{sin}\\left(q_{21}\\right)\\right) \\left(l_{1} \\operatorname{sin}\\left(q_{21}\\right) \\ddot{q}_{21} + l_{1} \\operatorname{cos}\\left(q_{21}\\right) \\dot{q}_{21}^{2} + l_{2} \\operatorname{sin}\\left(q_{21}\\right) \\ddot{q}_{21} + l_{2} \\operatorname{cos}\\left(q_{21}\\right) \\dot{q}_{21}^{2}\\right) + \\left(l_{1} \\operatorname{sin}\\left(q_{21}\\right) \\dot{q}_{21} + l_{2} \\operatorname{sin}\\left(q_{21}\\right) \\dot{q}_{21}\\right) \\left(2 l_{1} \\operatorname{cos}\\left(q_{21}\\right) \\dot{q}_{21} + 2 l_{2} \\operatorname{cos}\\left(q_{21}\\right) \\dot{q}_{21}\\right)\\right) - \\left(- 2 l_{2} \\left(l_{1} \\operatorname{sin}\\left(q_{11}\\right) + l_{2} \\operatorname{sin}\\left(q_{21}\\right)\\right) \\operatorname{cos}\\left(q_{21}\\right) - \\left(2 l_{1} \\operatorname{sin}\\left(q_{21}\\right) + 2 l_{2} \\operatorname{sin}\\left(q_{21}\\right)\\right) \\left(- l_{1} \\operatorname{cos}\\left(q_{21}\\right) - l_{2} \\operatorname{cos}\\left(q_{21}\\right)\\right)\\right) lam_{2}\\end{matrix}\\right]$$"
      ],
      "text/plain": [
       "⎡                                                                             \n",
       "⎢                                                                             \n",
       "⎢                                                                             \n",
       "⎢                                                                             \n",
       "⎣g⋅m₂⋅(l₁⋅sin(q₂₁) + l₂⋅sin(q₂₁)) - 0.5⋅m₂⋅(-2⋅l₂⋅(l₁⋅cos(q₁₁)⋅q₁̇₁ + l₂⋅cos(q\n",
       "\n",
       "                                                                              \n",
       "                                                                              \n",
       "                                                                              \n",
       "                                                                              \n",
       "₂₁)⋅q₂̇₁)⋅sin(q₂₁)⋅q₂̇₁ + (l₁⋅sin(q₂₁)⋅q₂̇₁ + l₂⋅sin(q₂₁)⋅q₂̇₁)⋅(2⋅l₁⋅cos(q₂₁)\n",
       "\n",
       "                                                                              \n",
       "                                                           g⋅l₁⋅(m₁ + m₂)⋅sin(\n",
       "                                                                              \n",
       "                                      ⎛                                       \n",
       "⋅q₂̇₁ + 2⋅l₂⋅cos(q₂₁)⋅q₂̇₁)) + 0.5⋅m₂⋅⎝-2⋅l₂⋅(l₁⋅cos(q₁₁)⋅q₁̇₁ + l₂⋅cos(q₂₁)⋅q\n",
       "\n",
       "                 ⎛                  2                                      2  \n",
       "q₁₁) + 1.0⋅l₁⋅m₂⋅⎝- l₁⋅sin(q₁₁)⋅q₁̇₁  + l₁⋅cos(q₁₁)⋅q₁̈₁ - l₂⋅sin(q₂₁)⋅q₂̇₁  +\n",
       "                                                                              \n",
       "                          ⎛                  2                                \n",
       "₂̇₁)⋅sin(q₂₁)⋅q₂̇₁ + 2⋅l₂⋅⎝- l₁⋅sin(q₁₁)⋅q₁̇₁  + l₁⋅cos(q₁₁)⋅q₁̈₁ - l₂⋅sin(q₂₁\n",
       "\n",
       "                 ⎞                                                            \n",
       " l₂⋅cos(q₂₁)⋅q₂̈₁⎠⋅cos(q₁₁) + 2⋅l₁⋅(l₁⋅sin(q₁₁) + l₂⋅sin(q₂₁))⋅lam₂⋅cos(q₁₁) +\n",
       "                                                                              \n",
       "      2                   ⎞                                            ⎛      \n",
       ")⋅q₂̇₁  + l₂⋅cos(q₂₁)⋅q₂̈₁⎠⋅cos(q₂₁) + (2⋅l₁⋅sin(q₂₁) + 2⋅l₂⋅sin(q₂₁))⋅⎝l₁⋅sin\n",
       "\n",
       "        ⎛    2    2                 2    2          ⎞                         \n",
       " 0.5⋅m₁⋅⎝2⋅l₁ ⋅sin (q₁₁)⋅q₁̈₁ + 2⋅l₁ ⋅cos (q₁₁)⋅q₁̈₁⎠                         \n",
       "                                                                              \n",
       "                             2                                      2⎞        \n",
       "(q₂₁)⋅q₂̈₁ + l₁⋅cos(q₂₁)⋅q₂̇₁  + l₂⋅sin(q₂₁)⋅q₂̈₁ + l₂⋅cos(q₂₁)⋅q₂̇₁ ⎠ + (l₁⋅s\n",
       "\n",
       "                                                                              \n",
       "                                                                              \n",
       "                                                                              \n",
       "                                                                          ⎞   \n",
       "in(q₂₁)⋅q₂̇₁ + l₂⋅sin(q₂₁)⋅q₂̇₁)⋅(2⋅l₁⋅cos(q₂₁)⋅q₂̇₁ + 2⋅l₂⋅cos(q₂₁)⋅q₂̇₁)⎠ - \n",
       "\n",
       "                                                                              \n",
       "                                                                              \n",
       "                                                                              \n",
       "                                                                              \n",
       "(-2⋅l₂⋅(l₁⋅sin(q₁₁) + l₂⋅sin(q₂₁))⋅cos(q₂₁) - (2⋅l₁⋅sin(q₂₁) + 2⋅l₂⋅sin(q₂₁))⋅\n",
       "\n",
       "                                  ⎤\n",
       "                                  ⎥\n",
       "                                  ⎥\n",
       "                                  ⎥\n",
       "(-l₁⋅cos(q₂₁) - l₂⋅cos(q₂₁)))⋅lam₂⎦"
      ]
     },
     "execution_count": 414,
     "metadata": {},
     "output_type": "execute_result"
    }
   ],
   "source": [
    "LM.form_lagranges_equations()"
   ]
  },
  {
   "cell_type": "code",
   "execution_count": 401,
   "metadata": {
    "collapsed": false
   },
   "outputs": [
    {
     "data": {
      "image/png": "[encoded data removed]",
      "text/latex": [
       "$$\\left[\\begin{matrix}- g l_{1} \\left(m_{1} + m_{2}\\right) \\operatorname{sin}\\left(q_{11}\\right) - 1.0 l_{1} m_{2} \\left(- l_{1} \\operatorname{sin}\\left(q_{11}\\right) \\dot{q}_{11}^{2} - l_{2} \\operatorname{sin}\\left(q_{21}\\right) \\dot{q}_{21}^{2}\\right) \\operatorname{cos}\\left(q_{11}\\right)\\\\- g m_{2} \\left(l_{1} \\operatorname{sin}\\left(q_{21}\\right) + l_{2} \\operatorname{sin}\\left(q_{21}\\right)\\right) + 0.5 m_{2} \\left(- 2 l_{2} \\left(l_{1} \\operatorname{cos}\\left(q_{11}\\right) \\dot{q}_{11} + l_{2} \\operatorname{cos}\\left(q_{21}\\right) \\dot{q}_{21}\\right) \\operatorname{sin}\\left(q_{21}\\right) \\dot{q}_{21} + \\left(l_{1} \\operatorname{sin}\\left(q_{21}\\right) \\dot{q}_{21} + l_{2} \\operatorname{sin}\\left(q_{21}\\right) \\dot{q}_{21}\\right) \\left(2 l_{1} \\operatorname{cos}\\left(q_{21}\\right) \\dot{q}_{21} + 2 l_{2} \\operatorname{cos}\\left(q_{21}\\right) \\dot{q}_{21}\\right)\\right) - 0.5 m_{2} \\left(2 l_{2} \\left(- l_{1} \\operatorname{sin}\\left(q_{11}\\right) \\dot{q}_{11}^{2} - l_{2} \\operatorname{sin}\\left(q_{21}\\right) \\dot{q}_{21}^{2}\\right) \\operatorname{cos}\\left(q_{21}\\right) - 2 l_{2} \\left(l_{1} \\operatorname{cos}\\left(q_{11}\\right) \\dot{q}_{11} + l_{2} \\operatorname{cos}\\left(q_{21}\\right) \\dot{q}_{21}\\right) \\operatorname{sin}\\left(q_{21}\\right) \\dot{q}_{21} + \\left(2 l_{1} \\operatorname{sin}\\left(q_{21}\\right) + 2 l_{2} \\operatorname{sin}\\left(q_{21}\\right)\\right) \\left(l_{1} \\operatorname{cos}\\left(q_{21}\\right) \\dot{q}_{21}^{2} + l_{2} \\operatorname{cos}\\left(q_{21}\\right) \\dot{q}_{21}^{2}\\right) + \\left(l_{1} \\operatorname{sin}\\left(q_{21}\\right) \\dot{q}_{21} + l_{2} \\operatorname{sin}\\left(q_{21}\\right) \\dot{q}_{21}\\right) \\left(2 l_{1} \\operatorname{cos}\\left(q_{21}\\right) \\dot{q}_{21} + 2 l_{2} \\operatorname{cos}\\left(q_{21}\\right) \\dot{q}_{21}\\right)\\right)\\end{matrix}\\right]$$"
      ],
      "text/plain": [
       "⎡                                                                             \n",
       "⎢                                                                             \n",
       "⎢                                                                             \n",
       "⎢                                                                             \n",
       "⎣-g⋅m₂⋅(l₁⋅sin(q₂₁) + l₂⋅sin(q₂₁)) + 0.5⋅m₂⋅(-2⋅l₂⋅(l₁⋅cos(q₁₁)⋅q₁̇₁ + l₂⋅cos(\n",
       "\n",
       "                                                                              \n",
       "                                                                              \n",
       "                                                                              \n",
       "                                                                              \n",
       "q₂₁)⋅q₂̇₁)⋅sin(q₂₁)⋅q₂̇₁ + (l₁⋅sin(q₂₁)⋅q₂̇₁ + l₂⋅sin(q₂₁)⋅q₂̇₁)⋅(2⋅l₁⋅cos(q₂₁\n",
       "\n",
       "                                                                       ⎛      \n",
       "                                  -g⋅l₁⋅(m₁ + m₂)⋅sin(q₁₁) - 1.0⋅l₁⋅m₂⋅⎝- l₁⋅s\n",
       "                                                                              \n",
       "                                       ⎛     ⎛                  2             \n",
       ")⋅q₂̇₁ + 2⋅l₂⋅cos(q₂₁)⋅q₂̇₁)) - 0.5⋅m₂⋅⎝2⋅l₂⋅⎝- l₁⋅sin(q₁₁)⋅q₁̇₁  - l₂⋅sin(q₂₁\n",
       "\n",
       "            2                   2⎞                                            \n",
       "in(q₁₁)⋅q₁̇₁  - l₂⋅sin(q₂₁)⋅q₂̇₁ ⎠⋅cos(q₁₁)                                   \n",
       "                                                                              \n",
       "      2⎞                                                                      \n",
       ")⋅q₂̇₁ ⎠⋅cos(q₂₁) - 2⋅l₂⋅(l₁⋅cos(q₁₁)⋅q₁̇₁ + l₂⋅cos(q₂₁)⋅q₂̇₁)⋅sin(q₂₁)⋅q₂̇₁ +\n",
       "\n",
       "                                                                              \n",
       "                                                                              \n",
       "                                                                              \n",
       "                                 ⎛                2                   2⎞      \n",
       " (2⋅l₁⋅sin(q₂₁) + 2⋅l₂⋅sin(q₂₁))⋅⎝l₁⋅cos(q₂₁)⋅q₂̇₁  + l₂⋅cos(q₂₁)⋅q₂̇₁ ⎠ + (l₁\n",
       "\n",
       "                                                                             ⎤\n",
       "                                                                             ⎥\n",
       "                                                                             ⎥\n",
       "                                                                            ⎞⎥\n",
       "⋅sin(q₂₁)⋅q₂̇₁ + l₂⋅sin(q₂₁)⋅q₂̇₁)⋅(2⋅l₁⋅cos(q₂₁)⋅q₂̇₁ + 2⋅l₂⋅cos(q₂₁)⋅q₂̇₁)⎠⎦"
      ]
     },
     "execution_count": 401,
     "metadata": {},
     "output_type": "execute_result"
    }
   ],
   "source": [
    "LM.forcing"
   ]
  },
  {
   "cell_type": "code",
   "execution_count": 398,
   "metadata": {
    "collapsed": false
   },
   "outputs": [
    {
     "data": {
      "image/png": "[encoded data removed]",
      "text/latex": [
       "$$\\left[\\begin{matrix}1.0 l_{1}^{2} m_{2} \\operatorname{cos}^{2}\\left(q_{11}\\right) + 0.5 m_{1} \\left(2 l_{1}^{2} \\operatorname{sin}^{2}\\left(q_{11}\\right) + 2 l_{1}^{2} \\operatorname{cos}^{2}\\left(q_{11}\\right)\\right) & 1.0 l_{1} l_{2} m_{2} \\operatorname{cos}\\left(q_{11}\\right) \\operatorname{cos}\\left(q_{21}\\right)\\\\1.0 l_{1} l_{2} m_{2} \\operatorname{cos}\\left(q_{11}\\right) \\operatorname{cos}\\left(q_{21}\\right) & 0.5 m_{2} \\left(2 l_{2}^{2} \\operatorname{cos}^{2}\\left(q_{21}\\right) + \\left(l_{1} \\operatorname{sin}\\left(q_{21}\\right) + l_{2} \\operatorname{sin}\\left(q_{21}\\right)\\right) \\left(2 l_{1} \\operatorname{sin}\\left(q_{21}\\right) + 2 l_{2} \\operatorname{sin}\\left(q_{21}\\right)\\right)\\right)\\end{matrix}\\right]$$"
      ],
      "text/plain": [
       "⎡      2       2               ⎛    2    2            2    2     ⎞            \n",
       "⎢1.0⋅l₁ ⋅m₂⋅cos (q₁₁) + 0.5⋅m₁⋅⎝2⋅l₁ ⋅sin (q₁₁) + 2⋅l₁ ⋅cos (q₁₁)⎠            \n",
       "⎢                                                                             \n",
       "⎢                                                                          ⎛  \n",
       "⎣                 1.0⋅l₁⋅l₂⋅m₂⋅cos(q₁₁)⋅cos(q₂₁)                    0.5⋅m₂⋅⎝2⋅\n",
       "\n",
       "                                                                            ⎤\n",
       "                  1.0⋅l₁⋅l₂⋅m₂⋅cos(q₁₁)⋅cos(q₂₁)                            ⎥\n",
       "                                                                            ⎥\n",
       "  2    2                                                                   ⎞⎥\n",
       "l₂ ⋅cos (q₂₁) + (l₁⋅sin(q₂₁) + l₂⋅sin(q₂₁))⋅(2⋅l₁⋅sin(q₂₁) + 2⋅l₂⋅sin(q₂₁))⎠⎦"
      ]
     },
     "execution_count": 398,
     "metadata": {},
     "output_type": "execute_result"
    }
   ],
   "source": [
    "LM.mass_matrix"
   ]
  },
  {
   "cell_type": "code",
   "execution_count": 420,
   "metadata": {
    "collapsed": false
   },
   "outputs": [
    {
     "data": {
      "image/png": "[encoded data removed]",
      "text/latex": [
       "$$\\left[\\begin{matrix}0 & 0\\\\- 2 l_{1} \\left(l_{1} \\operatorname{sin}\\left(q_{11}\\right) + l_{2} \\operatorname{sin}\\left(q_{21}\\right)\\right) \\operatorname{cos}\\left(q_{11}\\right) & - 2 l_{2} \\left(l_{1} \\operatorname{sin}\\left(q_{11}\\right) + l_{2} \\operatorname{sin}\\left(q_{21}\\right)\\right) \\operatorname{cos}\\left(q_{21}\\right) - \\left(2 l_{1} \\operatorname{sin}\\left(q_{21}\\right) + 2 l_{2} \\operatorname{sin}\\left(q_{21}\\right)\\right) \\left(- l_{1} \\operatorname{cos}\\left(q_{21}\\right) - l_{2} \\operatorname{cos}\\left(q_{21}\\right)\\right)\\end{matrix}\\right]$$"
      ],
      "text/plain": [
       "⎡                    0                                                        \n",
       "⎢                                                                             \n",
       "⎣-2⋅l₁⋅(l₁⋅sin(q₁₁) + l₂⋅sin(q₂₁))⋅cos(q₁₁)  -2⋅l₂⋅(l₁⋅sin(q₁₁) + l₂⋅sin(q₂₁))\n",
       "\n",
       "                   0                                                    ⎤\n",
       "                                                                        ⎥\n",
       "⋅cos(q₂₁) - (2⋅l₁⋅sin(q₂₁) + 2⋅l₂⋅sin(q₂₁))⋅(-l₁⋅cos(q₂₁) - l₂⋅cos(q₂₁))⎦"
      ]
     },
     "execution_count": 420,
     "metadata": {},
     "output_type": "execute_result"
    }
   ],
   "source": [
    "LM.lam_coeffs"
   ]
  },
  {
   "cell_type": "code",
   "execution_count": null,
   "metadata": {
    "collapsed": true
   },
   "outputs": [],
   "source": []
  }
 ],
 "metadata": {
  "kernelspec": {
   "display_name": "Python 3",
   "language": "python",
   "name": "python3"
  },
  "language_info": {
   "codemirror_mode": {
    "name": "ipython",
    "version": 3
   },
   "file_extension": ".py",
   "mimetype": "text/x-python",
   "name": "python",
   "nbconvert_exporter": "python",
   "pygments_lexer": "ipython3",
   "version": "3.5.3"
  }
 },
 "nbformat": 4,
 "nbformat_minor": 0
}
